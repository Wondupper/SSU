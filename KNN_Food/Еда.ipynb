{
  "nbformat": 4,
  "nbformat_minor": 0,
  "metadata": {
    "colab": {
      "provenance": [],
      "include_colab_link": true
    },
    "kernelspec": {
      "name": "python3",
      "display_name": "Python 3"
    },
    "language_info": {
      "name": "python"
    }
  },
  "cells": [
    {
      "cell_type": "markdown",
      "metadata": {
        "id": "view-in-github",
        "colab_type": "text"
      },
      "source": [
        "<a href=\"https://colab.research.google.com/github/Wondupper/KNN_Food/blob/main/%D0%95%D0%B4%D0%B0.ipynb\" target=\"_parent\"><img src=\"https://colab.research.google.com/assets/colab-badge.svg\" alt=\"Open In Colab\"/></a>"
      ]
    },
    {
      "cell_type": "code",
      "source": [
        "import numpy as np\n",
        "import pandas as pd\n",
        "import matplotlib.pyplot as plt\n",
        "import seaborn as sns\n",
        "import plotly.express as px\n",
        "import time"
      ],
      "metadata": {
        "id": "G7mcd-yMtjec"
      },
      "execution_count": null,
      "outputs": []
    },
    {
      "cell_type": "code",
      "source": [
        "from google.colab import files\n",
        "uploaded = files.upload()"
      ],
      "metadata": {
        "colab": {
          "base_uri": "https://localhost:8080/",
          "height": 107
        },
        "id": "3vVbDMqytn_i",
        "outputId": "f72c3666-b822-4142-8124-0d23cd1961ee"
      },
      "execution_count": null,
      "outputs": [
        {
          "output_type": "display_data",
          "data": {
            "text/plain": [
              "<IPython.core.display.HTML object>"
            ],
            "text/html": [
              "\n",
              "     <input type=\"file\" id=\"files-3d94bf64-534d-421c-8361-3756f47b3a21\" name=\"files[]\" multiple disabled\n",
              "        style=\"border:none\" />\n",
              "     <output id=\"result-3d94bf64-534d-421c-8361-3756f47b3a21\">\n",
              "      Upload widget is only available when the cell has been executed in the\n",
              "      current browser session. Please rerun this cell to enable.\n",
              "      </output>\n",
              "      <script>// Copyright 2017 Google LLC\n",
              "//\n",
              "// Licensed under the Apache License, Version 2.0 (the \"License\");\n",
              "// you may not use this file except in compliance with the License.\n",
              "// You may obtain a copy of the License at\n",
              "//\n",
              "//      http://www.apache.org/licenses/LICENSE-2.0\n",
              "//\n",
              "// Unless required by applicable law or agreed to in writing, software\n",
              "// distributed under the License is distributed on an \"AS IS\" BASIS,\n",
              "// WITHOUT WARRANTIES OR CONDITIONS OF ANY KIND, either express or implied.\n",
              "// See the License for the specific language governing permissions and\n",
              "// limitations under the License.\n",
              "\n",
              "/**\n",
              " * @fileoverview Helpers for google.colab Python module.\n",
              " */\n",
              "(function(scope) {\n",
              "function span(text, styleAttributes = {}) {\n",
              "  const element = document.createElement('span');\n",
              "  element.textContent = text;\n",
              "  for (const key of Object.keys(styleAttributes)) {\n",
              "    element.style[key] = styleAttributes[key];\n",
              "  }\n",
              "  return element;\n",
              "}\n",
              "\n",
              "// Max number of bytes which will be uploaded at a time.\n",
              "const MAX_PAYLOAD_SIZE = 100 * 1024;\n",
              "\n",
              "function _uploadFiles(inputId, outputId) {\n",
              "  const steps = uploadFilesStep(inputId, outputId);\n",
              "  const outputElement = document.getElementById(outputId);\n",
              "  // Cache steps on the outputElement to make it available for the next call\n",
              "  // to uploadFilesContinue from Python.\n",
              "  outputElement.steps = steps;\n",
              "\n",
              "  return _uploadFilesContinue(outputId);\n",
              "}\n",
              "\n",
              "// This is roughly an async generator (not supported in the browser yet),\n",
              "// where there are multiple asynchronous steps and the Python side is going\n",
              "// to poll for completion of each step.\n",
              "// This uses a Promise to block the python side on completion of each step,\n",
              "// then passes the result of the previous step as the input to the next step.\n",
              "function _uploadFilesContinue(outputId) {\n",
              "  const outputElement = document.getElementById(outputId);\n",
              "  const steps = outputElement.steps;\n",
              "\n",
              "  const next = steps.next(outputElement.lastPromiseValue);\n",
              "  return Promise.resolve(next.value.promise).then((value) => {\n",
              "    // Cache the last promise value to make it available to the next\n",
              "    // step of the generator.\n",
              "    outputElement.lastPromiseValue = value;\n",
              "    return next.value.response;\n",
              "  });\n",
              "}\n",
              "\n",
              "/**\n",
              " * Generator function which is called between each async step of the upload\n",
              " * process.\n",
              " * @param {string} inputId Element ID of the input file picker element.\n",
              " * @param {string} outputId Element ID of the output display.\n",
              " * @return {!Iterable<!Object>} Iterable of next steps.\n",
              " */\n",
              "function* uploadFilesStep(inputId, outputId) {\n",
              "  const inputElement = document.getElementById(inputId);\n",
              "  inputElement.disabled = false;\n",
              "\n",
              "  const outputElement = document.getElementById(outputId);\n",
              "  outputElement.innerHTML = '';\n",
              "\n",
              "  const pickedPromise = new Promise((resolve) => {\n",
              "    inputElement.addEventListener('change', (e) => {\n",
              "      resolve(e.target.files);\n",
              "    });\n",
              "  });\n",
              "\n",
              "  const cancel = document.createElement('button');\n",
              "  inputElement.parentElement.appendChild(cancel);\n",
              "  cancel.textContent = 'Cancel upload';\n",
              "  const cancelPromise = new Promise((resolve) => {\n",
              "    cancel.onclick = () => {\n",
              "      resolve(null);\n",
              "    };\n",
              "  });\n",
              "\n",
              "  // Wait for the user to pick the files.\n",
              "  const files = yield {\n",
              "    promise: Promise.race([pickedPromise, cancelPromise]),\n",
              "    response: {\n",
              "      action: 'starting',\n",
              "    }\n",
              "  };\n",
              "\n",
              "  cancel.remove();\n",
              "\n",
              "  // Disable the input element since further picks are not allowed.\n",
              "  inputElement.disabled = true;\n",
              "\n",
              "  if (!files) {\n",
              "    return {\n",
              "      response: {\n",
              "        action: 'complete',\n",
              "      }\n",
              "    };\n",
              "  }\n",
              "\n",
              "  for (const file of files) {\n",
              "    const li = document.createElement('li');\n",
              "    li.append(span(file.name, {fontWeight: 'bold'}));\n",
              "    li.append(span(\n",
              "        `(${file.type || 'n/a'}) - ${file.size} bytes, ` +\n",
              "        `last modified: ${\n",
              "            file.lastModifiedDate ? file.lastModifiedDate.toLocaleDateString() :\n",
              "                                    'n/a'} - `));\n",
              "    const percent = span('0% done');\n",
              "    li.appendChild(percent);\n",
              "\n",
              "    outputElement.appendChild(li);\n",
              "\n",
              "    const fileDataPromise = new Promise((resolve) => {\n",
              "      const reader = new FileReader();\n",
              "      reader.onload = (e) => {\n",
              "        resolve(e.target.result);\n",
              "      };\n",
              "      reader.readAsArrayBuffer(file);\n",
              "    });\n",
              "    // Wait for the data to be ready.\n",
              "    let fileData = yield {\n",
              "      promise: fileDataPromise,\n",
              "      response: {\n",
              "        action: 'continue',\n",
              "      }\n",
              "    };\n",
              "\n",
              "    // Use a chunked sending to avoid message size limits. See b/62115660.\n",
              "    let position = 0;\n",
              "    do {\n",
              "      const length = Math.min(fileData.byteLength - position, MAX_PAYLOAD_SIZE);\n",
              "      const chunk = new Uint8Array(fileData, position, length);\n",
              "      position += length;\n",
              "\n",
              "      const base64 = btoa(String.fromCharCode.apply(null, chunk));\n",
              "      yield {\n",
              "        response: {\n",
              "          action: 'append',\n",
              "          file: file.name,\n",
              "          data: base64,\n",
              "        },\n",
              "      };\n",
              "\n",
              "      let percentDone = fileData.byteLength === 0 ?\n",
              "          100 :\n",
              "          Math.round((position / fileData.byteLength) * 100);\n",
              "      percent.textContent = `${percentDone}% done`;\n",
              "\n",
              "    } while (position < fileData.byteLength);\n",
              "  }\n",
              "\n",
              "  // All done.\n",
              "  yield {\n",
              "    response: {\n",
              "      action: 'complete',\n",
              "    }\n",
              "  };\n",
              "}\n",
              "\n",
              "scope.google = scope.google || {};\n",
              "scope.google.colab = scope.google.colab || {};\n",
              "scope.google.colab._files = {\n",
              "  _uploadFiles,\n",
              "  _uploadFilesContinue,\n",
              "};\n",
              "})(self);\n",
              "</script> "
            ]
          },
          "metadata": {}
        },
        {
          "output_type": "stream",
          "name": "stdout",
          "text": [
            "Saving ABBREV_with_CLASS.xlsx to ABBREV_with_CLASS.xlsx\n",
            "Saving ABBREV.xlsx to ABBREV.xlsx\n"
          ]
        }
      ]
    },
    {
      "cell_type": "markdown",
      "source": [
        "1) Изучите полученный набор данных"
      ],
      "metadata": {
        "id": "VLNqnSS5rgbC"
      }
    },
    {
      "cell_type": "markdown",
      "source": [
        "Анализ первого датасета"
      ],
      "metadata": {
        "id": "FjEsPCdcvUyB"
      }
    },
    {
      "cell_type": "code",
      "source": [
        "data = pd.read_excel(\"ABBREV.xlsx\")"
      ],
      "metadata": {
        "id": "o-P4r5hktg0p"
      },
      "execution_count": null,
      "outputs": []
    },
    {
      "cell_type": "code",
      "source": [
        "numeric = [col for col in data.columns if data[col].dtypes in ['int64', 'float64']]\n",
        "categorial = [col for col in data.columns if data[col].dtypes in ['object']]\n",
        "\n",
        "num_data = data[numeric]\n",
        "cat_data = data[categorial]"
      ],
      "metadata": {
        "id": "MPoaf7MFvZQb"
      },
      "execution_count": null,
      "outputs": []
    },
    {
      "cell_type": "code",
      "source": [
        "num_data.info()"
      ],
      "metadata": {
        "colab": {
          "base_uri": "https://localhost:8080/"
        },
        "id": "5lgmTrB-vg_V",
        "outputId": "c2427cc7-75b6-4d71-c68c-56e49929cc7b"
      },
      "execution_count": null,
      "outputs": [
        {
          "output_type": "stream",
          "name": "stdout",
          "text": [
            "<class 'pandas.core.frame.DataFrame'>\n",
            "RangeIndex: 8790 entries, 0 to 8789\n",
            "Data columns (total 50 columns):\n",
            " #   Column             Non-Null Count  Dtype  \n",
            "---  ------             --------------  -----  \n",
            " 0   NDB_No             8790 non-null   int64  \n",
            " 1   Water_(g)          8789 non-null   float64\n",
            " 2   Energ_Kcal         8790 non-null   int64  \n",
            " 3   Protein_(g)        8790 non-null   float64\n",
            " 4   Lipid_Tot_(g)      8790 non-null   float64\n",
            " 5   Ash_(g)            8465 non-null   float64\n",
            " 6   Carbohydrt_(g)     8790 non-null   float64\n",
            " 7   Fiber_TD_(g)       8196 non-null   float64\n",
            " 8   Sugar_Tot_(g)      6958 non-null   float64\n",
            " 9   Calcium_(mg)       8442 non-null   float64\n",
            " 10  Iron_(mg)          8646 non-null   float64\n",
            " 11  Magnesium_(mg)     8051 non-null   float64\n",
            " 12  Phosphorus_(mg)    8211 non-null   float64\n",
            " 13  Potassium_(mg)     8364 non-null   float64\n",
            " 14  Sodium_(mg)        8707 non-null   float64\n",
            " 15  Zinc_(mg)          8084 non-null   float64\n",
            " 16  Copper_mg)         7533 non-null   float64\n",
            " 17  Manganese_(mg)     6630 non-null   float64\n",
            " 18  Selenium_(µg)      7090 non-null   float64\n",
            " 19  Vit_C_(mg)         7972 non-null   float64\n",
            " 20  Thiamin_(mg)       8156 non-null   float64\n",
            " 21  Riboflavin_(mg)    8174 non-null   float64\n",
            " 22  Niacin_(mg)        8153 non-null   float64\n",
            " 23  Panto_Acid_mg)     6548 non-null   float64\n",
            " 24  Vit_B6_(mg)        7885 non-null   float64\n",
            " 25  Folate_Tot_(µg)    7529 non-null   float64\n",
            " 26  Folic_Acid_(µg)    6751 non-null   float64\n",
            " 27  Food_Folate_(µg)   7022 non-null   float64\n",
            " 28  Folate_DFE_(µg)    6733 non-null   float64\n",
            " 29  Choline_Tot_ (mg)  4774 non-null   float64\n",
            " 30  Vit_B12_(µg)       7597 non-null   float64\n",
            " 31  Vit_A_IU           8079 non-null   float64\n",
            " 32  Vit_A_RAE          7255 non-null   float64\n",
            " 33  Retinol_(µg)       6984 non-null   float64\n",
            " 34  Alpha_Carot_(µg)   5532 non-null   float64\n",
            " 35  Beta_Carot_(µg)    5628 non-null   float64\n",
            " 36  Beta_Crypt_(µg)    5520 non-null   float64\n",
            " 37  Lycopene_(µg)      5498 non-null   float64\n",
            " 38  Lut+Zea_ (µg)      5475 non-null   float64\n",
            " 39  Vit_E_(mg)         5901 non-null   float64\n",
            " 40  Vit_D_µg           5528 non-null   float64\n",
            " 41  Vit_D_IU           5579 non-null   float64\n",
            " 42  Vit_K_(µg)         5227 non-null   float64\n",
            " 43  FA_Sat_(g)         8441 non-null   float64\n",
            " 44  FA_Mono_(g)        8124 non-null   float64\n",
            " 45  FA_Poly_(g)        8125 non-null   float64\n",
            " 46  Cholestrl_(mg)     8380 non-null   float64\n",
            " 47  GmWt_1             8490 non-null   float64\n",
            " 48  GmWt_2             4825 non-null   float64\n",
            " 49  Refuse_Pct         8740 non-null   float64\n",
            "dtypes: float64(48), int64(2)\n",
            "memory usage: 3.4 MB\n"
          ]
        }
      ]
    },
    {
      "cell_type": "code",
      "source": [
        "cat_data.info()"
      ],
      "metadata": {
        "colab": {
          "base_uri": "https://localhost:8080/"
        },
        "id": "-G_UBIwgviO_",
        "outputId": "0232217e-a493-4704-d458-4c8f10758f8a"
      },
      "execution_count": null,
      "outputs": [
        {
          "output_type": "stream",
          "name": "stdout",
          "text": [
            "<class 'pandas.core.frame.DataFrame'>\n",
            "RangeIndex: 8790 entries, 0 to 8789\n",
            "Data columns (total 3 columns):\n",
            " #   Column      Non-Null Count  Dtype \n",
            "---  ------      --------------  ----- \n",
            " 0   Shrt_Desc   8790 non-null   object\n",
            " 1   GmWt_Desc1  8491 non-null   object\n",
            " 2   GmWt_Desc2  4825 non-null   object\n",
            "dtypes: object(3)\n",
            "memory usage: 206.1+ KB\n"
          ]
        }
      ]
    },
    {
      "cell_type": "code",
      "source": [
        "with pd.option_context('display.max_columns', 50):\n",
        "  print(num_data.describe())"
      ],
      "metadata": {
        "colab": {
          "base_uri": "https://localhost:8080/"
        },
        "id": "1bFtAUURvj8p",
        "outputId": "f66c3858-8255-49ef-8a23-474c83bbfc1e"
      },
      "execution_count": null,
      "outputs": [
        {
          "output_type": "stream",
          "name": "stdout",
          "text": [
            "             NDB_No    Water_(g)   Energ_Kcal  Protein_(g)  Lipid_Tot_(g)  \\\n",
            "count   8790.000000  8789.000000  8790.000000  8790.000000    8790.000000   \n",
            "mean   15663.495222    54.112218   226.317634    11.342849      10.553725   \n",
            "std     9251.413586    30.772854   169.877539    10.530474      15.814842   \n",
            "min     1001.000000     0.000000     0.000000     0.000000       0.000000   \n",
            "25%     9086.250000    29.700000    91.000000     2.380000       0.950000   \n",
            "50%    14427.500000    63.080000   191.000000     8.000000       5.140000   \n",
            "75%    20142.750000    77.960000   337.000000    19.880000      13.720000   \n",
            "max    93600.000000   100.000000   902.000000    88.320000     100.000000   \n",
            "\n",
            "           Ash_(g)  Carbohydrt_(g)  Fiber_TD_(g)  Sugar_Tot_(g)  Calcium_(mg)  \\\n",
            "count  8465.000000     8790.000000   8196.000000    6958.000000   8442.000000   \n",
            "mean      1.783468       22.127710      2.187445       8.543066     76.738214   \n",
            "std       3.004609       27.270822      4.383138      14.923626    203.527453   \n",
            "min       0.000000        0.000000      0.000000       0.000000      0.000000   \n",
            "25%       0.840000        0.050000      0.000000       0.000000     10.000000   \n",
            "50%       1.200000        9.340000      0.700000       1.840000     21.000000   \n",
            "75%       2.090000       34.910000      2.600000       9.287500     69.000000   \n",
            "max      99.800000      100.000000     79.000000      99.800000   7364.000000   \n",
            "\n",
            "         Iron_(mg)  Magnesium_(mg)  Phosphorus_(mg)  Potassium_(mg)  \\\n",
            "count  8646.000000     8051.000000      8211.000000     8364.000000   \n",
            "mean      2.699674       35.295988       165.142126      279.472740   \n",
            "std       5.687560       57.416785       204.704214      375.483729   \n",
            "min       0.000000        0.000000         0.000000        0.000000   \n",
            "25%       0.540000       12.000000        51.000000      127.000000   \n",
            "50%       1.380000       21.000000       145.000000      229.500000   \n",
            "75%       2.600000       30.000000       220.000000      336.000000   \n",
            "max     123.600000      781.000000      9918.000000    16500.000000   \n",
            "\n",
            "        Sodium_(mg)    Zinc_(mg)   Copper_mg)  Manganese_(mg)  Selenium_(µg)  \\\n",
            "count   8707.000000  8084.000000  7533.000000     6630.000000    7090.000000   \n",
            "mean     312.495923     2.117438     0.195984        0.658156      15.591016   \n",
            "std      943.431341     3.437209     0.582596        7.248609      30.471099   \n",
            "min        0.000000     0.000000     0.000000        0.000000       0.000000   \n",
            "25%       41.000000     0.340000     0.052000        0.015000       1.300000   \n",
            "50%       88.000000     0.990000     0.090000        0.082000      10.100000   \n",
            "75%      404.500000     2.920000     0.160000        0.326000      24.300000   \n",
            "max    38758.000000    90.950000    15.050000      328.000000    1917.000000   \n",
            "\n",
            "        Vit_C_(mg)  Thiamin_(mg)  Riboflavin_(mg)  Niacin_(mg)  \\\n",
            "count  7972.000000   8156.000000      8174.000000  8153.000000   \n",
            "mean      9.231134      0.223134         0.252237     3.657721   \n",
            "std      68.854696      0.523752         0.449461     4.823819   \n",
            "min       0.000000      0.000000         0.000000     0.000000   \n",
            "25%       0.000000      0.040000         0.063000     0.552000   \n",
            "50%       0.000000      0.084000         0.170000     2.580000   \n",
            "75%       3.500000      0.250000         0.270000     5.276000   \n",
            "max    2732.000000     23.375000        17.500000   127.500000   \n",
            "\n",
            "       Panto_Acid_mg)  Vit_B6_(mg)  Folate_Tot_(µg)  Folic_Acid_(µg)  \\\n",
            "count     6548.000000  7885.000000      7529.000000      6751.000000   \n",
            "mean         0.650989     0.291531        51.598220        23.169012   \n",
            "std          1.413303     0.485057       136.601781       114.513700   \n",
            "min          0.000000     0.000000         0.000000         0.000000   \n",
            "25%          0.195000     0.051000         5.000000         0.000000   \n",
            "50%          0.435000     0.150000        12.000000         0.000000   \n",
            "75%          0.732250     0.390000        46.000000         0.000000   \n",
            "max         34.500000    12.000000      3786.000000      2993.000000   \n",
            "\n",
            "       Food_Folate_(µg)  Folate_DFE_(µg)  Choline_Tot_ (mg)  Vit_B12_(µg)  \\\n",
            "count       7022.000000      6733.000000        4774.000000   7597.000000   \n",
            "mean          24.556109        64.275806          43.596230      1.392472   \n",
            "std           62.386069       207.360765          63.109904      4.566460   \n",
            "min            0.000000         0.000000           0.000000      0.000000   \n",
            "25%            4.000000         4.000000           9.000000      0.000000   \n",
            "50%            9.000000        11.000000          24.750000      0.240000   \n",
            "75%           21.000000        41.000000          69.675000      1.610000   \n",
            "max         2340.000000      5881.000000        2403.300000     98.890000   \n",
            "\n",
            "            Vit_A_IU     Vit_A_RAE  Retinol_(µg)  Alpha_Carot_(µg)  \\\n",
            "count    8079.000000   7255.000000   6984.000000       5532.000000   \n",
            "mean      735.810744    111.726120     89.770046         31.496927   \n",
            "std      3848.009267    847.905482    853.251289        321.134973   \n",
            "min         0.000000      0.000000      0.000000          0.000000   \n",
            "25%         0.000000      0.000000      0.000000          0.000000   \n",
            "50%        32.000000      4.000000      0.000000          0.000000   \n",
            "75%       252.500000     33.000000     12.000000          0.000000   \n",
            "max    100000.000000  30000.000000  30000.000000      14251.000000   \n",
            "\n",
            "       Beta_Carot_(µg)  Beta_Crypt_(µg)  Lycopene_(µg)  Lut+Zea_ (µg)  \\\n",
            "count      5628.000000      5520.000000    5498.000000    5475.000000   \n",
            "mean        221.314499        10.623913     157.039651     193.970046   \n",
            "std        1281.280007       155.313138    1397.230145    1148.404329   \n",
            "min           0.000000         0.000000       0.000000       0.000000   \n",
            "25%           0.000000         0.000000       0.000000       0.000000   \n",
            "50%           0.000000         0.000000       0.000000       0.000000   \n",
            "75%          21.000000         0.000000       0.000000      30.000000   \n",
            "max       42891.000000      6252.000000   46260.000000   19697.000000   \n",
            "\n",
            "        Vit_E_(mg)     Vit_D_µg      Vit_D_IU   Vit_K_(µg)   FA_Sat_(g)  \\\n",
            "count  5901.000000  5528.000000   5579.000000  5227.000000  8441.000000   \n",
            "mean      1.331518     0.579269     22.990142    15.631586     3.576334   \n",
            "std       4.640706     3.882702    154.614465    79.949125     6.518840   \n",
            "min       0.000000     0.000000      0.000000     0.000000     0.000000   \n",
            "25%       0.120000     0.000000      0.000000     0.200000     0.220000   \n",
            "50%       0.300000     0.000000      0.000000     1.600000     1.592000   \n",
            "75%       0.800000     0.200000      6.000000     5.200000     4.345000   \n",
            "max     149.400000   250.000000  10000.000000  1714.500000    95.600000   \n",
            "\n",
            "       FA_Mono_(g)  FA_Poly_(g)  Cholestrl_(mg)       GmWt_1       GmWt_2  \\\n",
            "count  8124.000000  8125.000000     8380.000000  8490.000000  4825.000000   \n",
            "mean      4.081006     2.288767       40.613246    96.395130   250.747668   \n",
            "std       7.010760     5.215654      119.869371    84.337063   382.226774   \n",
            "min       0.000000     0.000000        0.000000     0.100000     0.400000   \n",
            "25%       0.235750     0.220000        0.000000    29.000000    42.000000   \n",
            "50%       1.938500     0.696000        4.000000    85.000000   164.000000   \n",
            "75%       5.115000     2.081000       67.000000   130.000000   305.000000   \n",
            "max      83.689000    74.623000     3100.000000  1184.000000  5717.000000   \n",
            "\n",
            "        Refuse_Pct  \n",
            "count  8740.000000  \n",
            "mean      4.964416  \n",
            "std      12.088471  \n",
            "min       0.000000  \n",
            "25%       0.000000  \n",
            "50%       0.000000  \n",
            "75%       0.000000  \n",
            "max      81.000000  \n"
          ]
        }
      ]
    },
    {
      "cell_type": "code",
      "source": [
        "cat_data.describe()"
      ],
      "metadata": {
        "colab": {
          "base_uri": "https://localhost:8080/",
          "height": 175
        },
        "id": "-HTznGXAvm5k",
        "outputId": "e40e0227-edcb-479d-e432-f6c8c47044d4"
      },
      "execution_count": null,
      "outputs": [
        {
          "output_type": "execute_result",
          "data": {
            "text/plain": [
              "                                                Shrt_Desc GmWt_Desc1  \\\n",
              "count                                                8790       8491   \n",
              "unique                                               8787        911   \n",
              "top     BEEF,CHUCK,UNDER BLADE CNTR STEAK,BNLESS,DENVE...       3 oz   \n",
              "freq                                                    2       1409   \n",
              "\n",
              "       GmWt_Desc2  \n",
              "count        4825  \n",
              "unique        921  \n",
              "top         1 cup  \n",
              "freq          298  "
            ],
            "text/html": [
              "\n",
              "  <div id=\"df-0f8ae95c-1abf-40b7-b103-5a79eafb05b8\" class=\"colab-df-container\">\n",
              "    <div>\n",
              "<style scoped>\n",
              "    .dataframe tbody tr th:only-of-type {\n",
              "        vertical-align: middle;\n",
              "    }\n",
              "\n",
              "    .dataframe tbody tr th {\n",
              "        vertical-align: top;\n",
              "    }\n",
              "\n",
              "    .dataframe thead th {\n",
              "        text-align: right;\n",
              "    }\n",
              "</style>\n",
              "<table border=\"1\" class=\"dataframe\">\n",
              "  <thead>\n",
              "    <tr style=\"text-align: right;\">\n",
              "      <th></th>\n",
              "      <th>Shrt_Desc</th>\n",
              "      <th>GmWt_Desc1</th>\n",
              "      <th>GmWt_Desc2</th>\n",
              "    </tr>\n",
              "  </thead>\n",
              "  <tbody>\n",
              "    <tr>\n",
              "      <th>count</th>\n",
              "      <td>8790</td>\n",
              "      <td>8491</td>\n",
              "      <td>4825</td>\n",
              "    </tr>\n",
              "    <tr>\n",
              "      <th>unique</th>\n",
              "      <td>8787</td>\n",
              "      <td>911</td>\n",
              "      <td>921</td>\n",
              "    </tr>\n",
              "    <tr>\n",
              "      <th>top</th>\n",
              "      <td>BEEF,CHUCK,UNDER BLADE CNTR STEAK,BNLESS,DENVE...</td>\n",
              "      <td>3 oz</td>\n",
              "      <td>1 cup</td>\n",
              "    </tr>\n",
              "    <tr>\n",
              "      <th>freq</th>\n",
              "      <td>2</td>\n",
              "      <td>1409</td>\n",
              "      <td>298</td>\n",
              "    </tr>\n",
              "  </tbody>\n",
              "</table>\n",
              "</div>\n",
              "    <div class=\"colab-df-buttons\">\n",
              "\n",
              "  <div class=\"colab-df-container\">\n",
              "    <button class=\"colab-df-convert\" onclick=\"convertToInteractive('df-0f8ae95c-1abf-40b7-b103-5a79eafb05b8')\"\n",
              "            title=\"Convert this dataframe to an interactive table.\"\n",
              "            style=\"display:none;\">\n",
              "\n",
              "  <svg xmlns=\"http://www.w3.org/2000/svg\" height=\"24px\" viewBox=\"0 -960 960 960\">\n",
              "    <path d=\"M120-120v-720h720v720H120Zm60-500h600v-160H180v160Zm220 220h160v-160H400v160Zm0 220h160v-160H400v160ZM180-400h160v-160H180v160Zm440 0h160v-160H620v160ZM180-180h160v-160H180v160Zm440 0h160v-160H620v160Z\"/>\n",
              "  </svg>\n",
              "    </button>\n",
              "\n",
              "  <style>\n",
              "    .colab-df-container {\n",
              "      display:flex;\n",
              "      gap: 12px;\n",
              "    }\n",
              "\n",
              "    .colab-df-convert {\n",
              "      background-color: #E8F0FE;\n",
              "      border: none;\n",
              "      border-radius: 50%;\n",
              "      cursor: pointer;\n",
              "      display: none;\n",
              "      fill: #1967D2;\n",
              "      height: 32px;\n",
              "      padding: 0 0 0 0;\n",
              "      width: 32px;\n",
              "    }\n",
              "\n",
              "    .colab-df-convert:hover {\n",
              "      background-color: #E2EBFA;\n",
              "      box-shadow: 0px 1px 2px rgba(60, 64, 67, 0.3), 0px 1px 3px 1px rgba(60, 64, 67, 0.15);\n",
              "      fill: #174EA6;\n",
              "    }\n",
              "\n",
              "    .colab-df-buttons div {\n",
              "      margin-bottom: 4px;\n",
              "    }\n",
              "\n",
              "    [theme=dark] .colab-df-convert {\n",
              "      background-color: #3B4455;\n",
              "      fill: #D2E3FC;\n",
              "    }\n",
              "\n",
              "    [theme=dark] .colab-df-convert:hover {\n",
              "      background-color: #434B5C;\n",
              "      box-shadow: 0px 1px 3px 1px rgba(0, 0, 0, 0.15);\n",
              "      filter: drop-shadow(0px 1px 2px rgba(0, 0, 0, 0.3));\n",
              "      fill: #FFFFFF;\n",
              "    }\n",
              "  </style>\n",
              "\n",
              "    <script>\n",
              "      const buttonEl =\n",
              "        document.querySelector('#df-0f8ae95c-1abf-40b7-b103-5a79eafb05b8 button.colab-df-convert');\n",
              "      buttonEl.style.display =\n",
              "        google.colab.kernel.accessAllowed ? 'block' : 'none';\n",
              "\n",
              "      async function convertToInteractive(key) {\n",
              "        const element = document.querySelector('#df-0f8ae95c-1abf-40b7-b103-5a79eafb05b8');\n",
              "        const dataTable =\n",
              "          await google.colab.kernel.invokeFunction('convertToInteractive',\n",
              "                                                    [key], {});\n",
              "        if (!dataTable) return;\n",
              "\n",
              "        const docLinkHtml = 'Like what you see? Visit the ' +\n",
              "          '<a target=\"_blank\" href=https://colab.research.google.com/notebooks/data_table.ipynb>data table notebook</a>'\n",
              "          + ' to learn more about interactive tables.';\n",
              "        element.innerHTML = '';\n",
              "        dataTable['output_type'] = 'display_data';\n",
              "        await google.colab.output.renderOutput(dataTable, element);\n",
              "        const docLink = document.createElement('div');\n",
              "        docLink.innerHTML = docLinkHtml;\n",
              "        element.appendChild(docLink);\n",
              "      }\n",
              "    </script>\n",
              "  </div>\n",
              "\n",
              "\n",
              "<div id=\"df-aac90834-20dc-44b1-8cdb-7e3bc5866853\">\n",
              "  <button class=\"colab-df-quickchart\" onclick=\"quickchart('df-aac90834-20dc-44b1-8cdb-7e3bc5866853')\"\n",
              "            title=\"Suggest charts\"\n",
              "            style=\"display:none;\">\n",
              "\n",
              "<svg xmlns=\"http://www.w3.org/2000/svg\" height=\"24px\"viewBox=\"0 0 24 24\"\n",
              "     width=\"24px\">\n",
              "    <g>\n",
              "        <path d=\"M19 3H5c-1.1 0-2 .9-2 2v14c0 1.1.9 2 2 2h14c1.1 0 2-.9 2-2V5c0-1.1-.9-2-2-2zM9 17H7v-7h2v7zm4 0h-2V7h2v10zm4 0h-2v-4h2v4z\"/>\n",
              "    </g>\n",
              "</svg>\n",
              "  </button>\n",
              "\n",
              "<style>\n",
              "  .colab-df-quickchart {\n",
              "      --bg-color: #E8F0FE;\n",
              "      --fill-color: #1967D2;\n",
              "      --hover-bg-color: #E2EBFA;\n",
              "      --hover-fill-color: #174EA6;\n",
              "      --disabled-fill-color: #AAA;\n",
              "      --disabled-bg-color: #DDD;\n",
              "  }\n",
              "\n",
              "  [theme=dark] .colab-df-quickchart {\n",
              "      --bg-color: #3B4455;\n",
              "      --fill-color: #D2E3FC;\n",
              "      --hover-bg-color: #434B5C;\n",
              "      --hover-fill-color: #FFFFFF;\n",
              "      --disabled-bg-color: #3B4455;\n",
              "      --disabled-fill-color: #666;\n",
              "  }\n",
              "\n",
              "  .colab-df-quickchart {\n",
              "    background-color: var(--bg-color);\n",
              "    border: none;\n",
              "    border-radius: 50%;\n",
              "    cursor: pointer;\n",
              "    display: none;\n",
              "    fill: var(--fill-color);\n",
              "    height: 32px;\n",
              "    padding: 0;\n",
              "    width: 32px;\n",
              "  }\n",
              "\n",
              "  .colab-df-quickchart:hover {\n",
              "    background-color: var(--hover-bg-color);\n",
              "    box-shadow: 0 1px 2px rgba(60, 64, 67, 0.3), 0 1px 3px 1px rgba(60, 64, 67, 0.15);\n",
              "    fill: var(--button-hover-fill-color);\n",
              "  }\n",
              "\n",
              "  .colab-df-quickchart-complete:disabled,\n",
              "  .colab-df-quickchart-complete:disabled:hover {\n",
              "    background-color: var(--disabled-bg-color);\n",
              "    fill: var(--disabled-fill-color);\n",
              "    box-shadow: none;\n",
              "  }\n",
              "\n",
              "  .colab-df-spinner {\n",
              "    border: 2px solid var(--fill-color);\n",
              "    border-color: transparent;\n",
              "    border-bottom-color: var(--fill-color);\n",
              "    animation:\n",
              "      spin 1s steps(1) infinite;\n",
              "  }\n",
              "\n",
              "  @keyframes spin {\n",
              "    0% {\n",
              "      border-color: transparent;\n",
              "      border-bottom-color: var(--fill-color);\n",
              "      border-left-color: var(--fill-color);\n",
              "    }\n",
              "    20% {\n",
              "      border-color: transparent;\n",
              "      border-left-color: var(--fill-color);\n",
              "      border-top-color: var(--fill-color);\n",
              "    }\n",
              "    30% {\n",
              "      border-color: transparent;\n",
              "      border-left-color: var(--fill-color);\n",
              "      border-top-color: var(--fill-color);\n",
              "      border-right-color: var(--fill-color);\n",
              "    }\n",
              "    40% {\n",
              "      border-color: transparent;\n",
              "      border-right-color: var(--fill-color);\n",
              "      border-top-color: var(--fill-color);\n",
              "    }\n",
              "    60% {\n",
              "      border-color: transparent;\n",
              "      border-right-color: var(--fill-color);\n",
              "    }\n",
              "    80% {\n",
              "      border-color: transparent;\n",
              "      border-right-color: var(--fill-color);\n",
              "      border-bottom-color: var(--fill-color);\n",
              "    }\n",
              "    90% {\n",
              "      border-color: transparent;\n",
              "      border-bottom-color: var(--fill-color);\n",
              "    }\n",
              "  }\n",
              "</style>\n",
              "\n",
              "  <script>\n",
              "    async function quickchart(key) {\n",
              "      const quickchartButtonEl =\n",
              "        document.querySelector('#' + key + ' button');\n",
              "      quickchartButtonEl.disabled = true;  // To prevent multiple clicks.\n",
              "      quickchartButtonEl.classList.add('colab-df-spinner');\n",
              "      try {\n",
              "        const charts = await google.colab.kernel.invokeFunction(\n",
              "            'suggestCharts', [key], {});\n",
              "      } catch (error) {\n",
              "        console.error('Error during call to suggestCharts:', error);\n",
              "      }\n",
              "      quickchartButtonEl.classList.remove('colab-df-spinner');\n",
              "      quickchartButtonEl.classList.add('colab-df-quickchart-complete');\n",
              "    }\n",
              "    (() => {\n",
              "      let quickchartButtonEl =\n",
              "        document.querySelector('#df-aac90834-20dc-44b1-8cdb-7e3bc5866853 button');\n",
              "      quickchartButtonEl.style.display =\n",
              "        google.colab.kernel.accessAllowed ? 'block' : 'none';\n",
              "    })();\n",
              "  </script>\n",
              "</div>\n",
              "    </div>\n",
              "  </div>\n"
            ],
            "application/vnd.google.colaboratory.intrinsic+json": {
              "type": "dataframe",
              "summary": "{\n  \"name\": \"cat_data\",\n  \"rows\": 4,\n  \"fields\": [\n    {\n      \"column\": \"Shrt_Desc\",\n      \"properties\": {\n        \"dtype\": \"string\",\n        \"num_unique_values\": 4,\n        \"samples\": [\n          8787,\n          \"2\",\n          \"8790\"\n        ],\n        \"semantic_type\": \"\",\n        \"description\": \"\"\n      }\n    },\n    {\n      \"column\": \"GmWt_Desc1\",\n      \"properties\": {\n        \"dtype\": \"string\",\n        \"num_unique_values\": 4,\n        \"samples\": [\n          911,\n          \"1409\",\n          \"8491\"\n        ],\n        \"semantic_type\": \"\",\n        \"description\": \"\"\n      }\n    },\n    {\n      \"column\": \"GmWt_Desc2\",\n      \"properties\": {\n        \"dtype\": \"string\",\n        \"num_unique_values\": 4,\n        \"samples\": [\n          921,\n          \"298\",\n          \"4825\"\n        ],\n        \"semantic_type\": \"\",\n        \"description\": \"\"\n      }\n    }\n  ]\n}"
            }
          },
          "metadata": {},
          "execution_count": 9
        }
      ]
    },
    {
      "cell_type": "markdown",
      "source": [
        "1) Придумайте способ осмысленного разбиения этих данных на несколько классов. Создайте новый столбец CLASS и поместите в него метки классов. Визуализируйте выполненное разбиение. Следующие действия выполняются над тремя версиями таблицы: а) ваш вариант б) разбиение одногруппника в) таблица с метками классов из файла в этом задании."
      ],
      "metadata": {
        "id": "yYTro61FwGxr"
      }
    },
    {
      "cell_type": "markdown",
      "source": [
        "Перый вариант классификации - по витаминам. Посчитаем среднее количество витаминов в еде и разделим все продукты на больше меньше среднего."
      ],
      "metadata": {
        "id": "7jUwcdTswKgY"
      }
    },
    {
      "cell_type": "markdown",
      "source": [
        "Для начала переименуем колонки. В них есть буквы не из английского алфавита."
      ],
      "metadata": {
        "id": "niYVnWx7wtfz"
      }
    },
    {
      "cell_type": "code",
      "source": [
        "data.rename(columns = {'Water_(g)':'Water_g', 'Protein_(g)':'Protein_g', 'Lipid_Tot_(g)':'Lipid_Tot_g', 'Ash_(g)':'Ash_g', 'Carbohydrt_(g)':'Carbohydrt_g', 'Fiber_TD_(g)':'Fiber_TD_g',\n",
        "                       'Sugar_Tot_(g)':'Sugar_Tot_g', 'Calcium_(mg)':'Calcium_mg', 'Iron_(mg)':'Iron_mg', 'Magnesium_(mg)':'Magnesium_mg', 'Phosphorus_(mg)':'Phosphorus_mg',\n",
        "                       'Potassium_(mg)':'Potassium_mg', 'Sodium_(mg)':'Sodium_mg', 'Zinc_(mg)':'Zinc_mg', 'Copper_mg)':'Copper_mg', 'Manganese_(mg)':'Manganese_mg',\n",
        "                       'Selenium_(µg)':'Selenium_µg', 'Vit_C_(mg)':'Vit_C_mg', 'Thiamin_(mg)':'Thiamin_mg', 'Riboflavin_(mg)':'Riboflavin_mg', 'Niacin_(mg)':'Niacin_mg',\n",
        "                       'Panto_Acid_mg)':'Panto_Acid_mg', 'Vit_B6_(mg)':'Vit_B6_mg', 'Folate_Tot_(µg)':'Folate_Tot_µg', 'Food_Folate_(µg)':'Food_Folate_µg',\n",
        "                       'Folate_DFE_(µg)':'Folate_DFE_µg', 'Choline_Tot_ (mg)':'Choline_Tot_mg', 'Folic_Acid_(µg)':'Folic_Acid_µg', 'Vit_B12_(µg)':'Vit_B12_µg',\n",
        "                       'Retinol_(µg)':'Retinol_µg', 'Alpha_Carot_(µg)':'Alpha_Carot_µg', 'Beta_Carot_(µg)':'Beta_Carot_µg', 'Vit_B12_(µg)':'Vit_B12_µg', 'Beta_Crypt_(µg)':'Beta_Crypt_µg',\n",
        "                       'Lycopene_(µg)':'Lycopene_µg', 'Lut+Zea_ (µg)':'Lut+Zea_µg', 'Vit_E_(mg)':'Vit_E_mg', 'Vit_K_(µg)':'Vit_K_µg','FA_Sat_(g)':'FA_Sat_g',\n",
        "                       'FA_Mono_(g)':'FA_Mono_g', 'FA_Poly_(g)':'FA_Poly_g', 'Cholestrl_(mg)':'Cholestrl_mg',\n",
        "                       }, inplace = True )\n",
        "num_data.rename(columns = {'Water_(g)':'Water_g', 'Protein_(g)':'Protein_g', 'Lipid_Tot_(g)':'Lipid_Tot_g', 'Ash_(g)':'Ash_g', 'Carbohydrt_(g)':'Carbohydrt_g', 'Fiber_TD_(g)':'Fiber_TD_g',\n",
        "                       'Sugar_Tot_(g)':'Sugar_Tot_g', 'Calcium_(mg)':'Calcium_mg', 'Iron_(mg)':'Iron_mg', 'Magnesium_(mg)':'Magnesium_mg', 'Phosphorus_(mg)':'Phosphorus_mg',\n",
        "                       'Potassium_(mg)':'Potassium_mg', 'Sodium_(mg)':'Sodium_mg', 'Zinc_(mg)':'Zinc_mg', 'Copper_mg)':'Copper_mg', 'Manganese_(mg)':'Manganese_mg',\n",
        "                       'Selenium_(µg)':'Selenium_mg', 'Vit_C_(mg)':'Vit_C_mg', 'Thiamin_(mg)':'Thiamin_mg', 'Riboflavin_(mg)':'Riboflavin_mg', 'Niacin_(mg)':'Niacin_mg',\n",
        "                       'Panto_Acid_mg)':'Panto_Acid_mg', 'Vit_B6_(mg)':'Vit_B6_mg', 'Folate_Tot_(µg)':'Folate_Tot_mg', 'Food_Folate_(µg)':'Food_Folate_mg',\n",
        "                       'Folate_DFE_(µg)':'Folate_DFE_mg', 'Choline_Tot_ (mg)':'Choline_Tot_mg', 'Folic_Acid_(µg)':'Folic_Acid_mg', 'Vit_B12_(µg)':'Vit_B12_mg',\n",
        "                       'Retinol_(µg)':'Retinol_mg', 'Alpha_Carot_(µg)':'Alpha_Carot_mg', 'Beta_Carot_(µg)':'Beta_Carot_mg', 'Vit_B12_(µg)':'Vit_B12_mg', 'Beta_Crypt_(µg)':'Beta_Crypt_mg',\n",
        "                       'Lycopene_(µg)':'Lycopene_mg', 'Lut+Zea_ (µg)':'Lut_Zea_mg', 'Vit_E_(mg)':'Vit_E_mg', 'Vit_K_(µg)':'Vit_K_mg','FA_Sat_(g)':'FA_Sat_g',\n",
        "                       'FA_Mono_(g)':'FA_Mono_g', 'FA_Poly_(g)':'FA_Poly_g', 'Cholestrl_(mg)':'Cholestrl_mg', 'Vit_D_µg' : 'Vit_D_mg',\n",
        "                       }, inplace = True )\n",
        "num_data = num_data.drop(columns = ['NDB_No'])"
      ],
      "metadata": {
        "colab": {
          "base_uri": "https://localhost:8080/"
        },
        "id": "pNRQdP_Tw3QV",
        "outputId": "a21b0296-7b8b-4061-9e0f-c56cf38210b0"
      },
      "execution_count": null,
      "outputs": [
        {
          "output_type": "stream",
          "name": "stderr",
          "text": [
            "<ipython-input-10-9db37b96f01c>:11: SettingWithCopyWarning: \n",
            "A value is trying to be set on a copy of a slice from a DataFrame\n",
            "\n",
            "See the caveats in the documentation: https://pandas.pydata.org/pandas-docs/stable/user_guide/indexing.html#returning-a-view-versus-a-copy\n",
            "  num_data.rename(columns = {'Water_(g)':'Water_g', 'Protein_(g)':'Protein_g', 'Lipid_Tot_(g)':'Lipid_Tot_g', 'Ash_(g)':'Ash_g', 'Carbohydrt_(g)':'Carbohydrt_g', 'Fiber_TD_(g)':'Fiber_TD_g',\n"
          ]
        }
      ]
    },
    {
      "cell_type": "markdown",
      "source": [
        "1.1) выполните минимальные необходимые манипуляции (обработайте категориальные признаки и пропуски) (Первый датасет)"
      ],
      "metadata": {
        "id": "sU26JrZ4xRZU"
      }
    },
    {
      "cell_type": "code",
      "source": [
        "num_data.isnull().sum()"
      ],
      "metadata": {
        "colab": {
          "base_uri": "https://localhost:8080/"
        },
        "id": "Oab42PPpxTO3",
        "outputId": "9b192bdc-89b0-48cf-ca8b-6224dd97572a"
      },
      "execution_count": null,
      "outputs": [
        {
          "output_type": "execute_result",
          "data": {
            "text/plain": [
              "Water_g              1\n",
              "Energ_Kcal           0\n",
              "Protein_g            0\n",
              "Lipid_Tot_g          0\n",
              "Ash_g              325\n",
              "Carbohydrt_g         0\n",
              "Fiber_TD_g         594\n",
              "Sugar_Tot_g       1832\n",
              "Calcium_mg         348\n",
              "Iron_mg            144\n",
              "Magnesium_mg       739\n",
              "Phosphorus_mg      579\n",
              "Potassium_mg       426\n",
              "Sodium_mg           83\n",
              "Zinc_mg            706\n",
              "Copper_mg         1257\n",
              "Manganese_mg      2160\n",
              "Selenium_mg       1700\n",
              "Vit_C_mg           818\n",
              "Thiamin_mg         634\n",
              "Riboflavin_mg      616\n",
              "Niacin_mg          637\n",
              "Panto_Acid_mg     2242\n",
              "Vit_B6_mg          905\n",
              "Folate_Tot_mg     1261\n",
              "Folic_Acid_mg     2039\n",
              "Food_Folate_mg    1768\n",
              "Folate_DFE_mg     2057\n",
              "Choline_Tot_mg    4016\n",
              "Vit_B12_mg        1193\n",
              "Vit_A_IU           711\n",
              "Vit_A_RAE         1535\n",
              "Retinol_mg        1806\n",
              "Alpha_Carot_mg    3258\n",
              "Beta_Carot_mg     3162\n",
              "Beta_Crypt_mg     3270\n",
              "Lycopene_mg       3292\n",
              "Lut_Zea_mg        3315\n",
              "Vit_E_mg          2889\n",
              "Vit_D_mg          3262\n",
              "Vit_D_IU          3211\n",
              "Vit_K_mg          3563\n",
              "FA_Sat_g           349\n",
              "FA_Mono_g          666\n",
              "FA_Poly_g          665\n",
              "Cholestrl_mg       410\n",
              "GmWt_1             300\n",
              "GmWt_2            3965\n",
              "Refuse_Pct          50\n",
              "dtype: int64"
            ]
          },
          "metadata": {},
          "execution_count": 11
        }
      ]
    },
    {
      "cell_type": "code",
      "source": [
        "num_data.fillna(num_data.median(),inplace=True)"
      ],
      "metadata": {
        "id": "C7LSch7HEthP"
      },
      "execution_count": null,
      "outputs": []
    },
    {
      "cell_type": "markdown",
      "source": [
        "Порог витаминов"
      ],
      "metadata": {
        "id": "YiX_ntknxtS9"
      }
    },
    {
      "cell_type": "code",
      "source": [
        "srz = (8.372082 + 0.276959 + 1.236056 + 678.881342 + 92.913879 + 0.992490 + 0.364300 + 14.591809 + 9.943925) // 9"
      ],
      "metadata": {
        "id": "-H-GOqx8xy28"
      },
      "execution_count": null,
      "outputs": []
    },
    {
      "cell_type": "code",
      "source": [
        "for i, row in num_data.iterrows():\n",
        "  if row['Vit_C_mg'] + row['Vit_B6_mg'] + row['Vit_B12_mg'] + row['Vit_A_IU'] + row['Vit_A_RAE'] + row['Vit_E_mg'] + row['Vit_D_mg'] + row['Vit_D_IU'] + row['Vit_K_mg'] > srz:\n",
        "    num_data.at[i, 'CLASS'] = 1\n",
        "  else:\n",
        "    num_data.at[i, 'CLASS'] = 2"
      ],
      "metadata": {
        "id": "1ZRO8_d4x4Dm"
      },
      "execution_count": null,
      "outputs": []
    },
    {
      "cell_type": "code",
      "source": [
        "sns.countplot(x = num_data['CLASS'])"
      ],
      "metadata": {
        "colab": {
          "base_uri": "https://localhost:8080/",
          "height": 466
        },
        "id": "ltiyVuzxx8Us",
        "outputId": "2e4d0fff-ef6d-4bb2-c60f-70fcd72f3a8c"
      },
      "execution_count": null,
      "outputs": [
        {
          "output_type": "execute_result",
          "data": {
            "text/plain": [
              "<Axes: xlabel='CLASS', ylabel='count'>"
            ]
          },
          "metadata": {},
          "execution_count": 15
        },
        {
          "output_type": "display_data",
          "data": {
            "text/plain": [
              "<Figure size 640x480 with 1 Axes>"
            ],
            "image/png": "[encoded data removed]"
          },
          "metadata": {}
        }
      ]
    },
    {
      "cell_type": "markdown",
      "source": [
        "1.2) отделите столбец с меткой CLASS (Первый датасет)"
      ],
      "metadata": {
        "id": "jpVPyCe7yA-M"
      }
    },
    {
      "cell_type": "code",
      "source": [
        "CLASS = num_data['CLASS'].squeeze()\n",
        "num_data = num_data.drop(['CLASS'], axis = 1)"
      ],
      "metadata": {
        "id": "HHU2LlpoyB1K"
      },
      "execution_count": null,
      "outputs": []
    },
    {
      "cell_type": "markdown",
      "source": [
        "1.3) разбейте данные на тренировочный и тестовый наборы. (Первый датасет)"
      ],
      "metadata": {
        "id": "n_XR_59PyZak"
      }
    },
    {
      "cell_type": "code",
      "source": [
        "from sklearn.model_selection import train_test_split\n",
        "X_train, X_test, y_train, y_test = train_test_split(num_data, CLASS, test_size = 0.3, random_state = 42)"
      ],
      "metadata": {
        "id": "y4PLFrVwyaOc"
      },
      "execution_count": null,
      "outputs": []
    },
    {
      "cell_type": "markdown",
      "source": [
        "2) Обучите классификатор KNeighborsClassifier на тренировочном наборе."
      ],
      "metadata": {
        "id": "d6ej0oi-yjqJ"
      }
    },
    {
      "cell_type": "markdown",
      "source": [],
      "metadata": {
        "id": "iTxKDxZs0Lyx"
      }
    },
    {
      "cell_type": "code",
      "source": [
        "from sklearn.neighbors import KNeighborsClassifier\n",
        "knn_n = KNeighborsClassifier()\n",
        "knn_n.fit(X_train, y_train)\n",
        "knn_n.score(X_test, y_test)"
      ],
      "metadata": {
        "colab": {
          "base_uri": "https://localhost:8080/"
        },
        "id": "kghOCy7AyoIi",
        "outputId": "8442277e-b464-4644-b807-e2a50c4cd028"
      },
      "execution_count": null,
      "outputs": [
        {
          "output_type": "execute_result",
          "data": {
            "text/plain": [
              "0.9355328024270004"
            ]
          },
          "metadata": {},
          "execution_count": 18
        }
      ]
    },
    {
      "cell_type": "markdown",
      "source": [
        "3) Используйте обученную модель на тестовых данных, оцените полученные результаты. Используйте визуализацию и несколько метрик."
      ],
      "metadata": {
        "id": "pwweR6tDyrMJ"
      }
    },
    {
      "cell_type": "code",
      "source": [
        "#Тренировочный набор\n",
        "from sklearn.metrics import classification_report\n",
        "y_pred = knn_n.predict(X_train)\n",
        "print(classification_report(y_train, y_pred))"
      ],
      "metadata": {
        "colab": {
          "base_uri": "https://localhost:8080/"
        },
        "id": "KjfH4yO5ys2r",
        "outputId": "2e978dc6-a9d0-4661-bf37-4dbc4bd9aab5"
      },
      "execution_count": null,
      "outputs": [
        {
          "output_type": "stream",
          "name": "stdout",
          "text": [
            "              precision    recall  f1-score   support\n",
            "\n",
            "         1.0       0.99      0.90      0.94      2427\n",
            "         2.0       0.94      0.99      0.97      3726\n",
            "\n",
            "    accuracy                           0.96      6153\n",
            "   macro avg       0.96      0.95      0.95      6153\n",
            "weighted avg       0.96      0.96      0.96      6153\n",
            "\n"
          ]
        }
      ]
    },
    {
      "cell_type": "code",
      "source": [
        "#Тестовый набор\n",
        "y_pred = knn_n.predict(X_test)\n",
        "print(classification_report(y_test, y_pred))"
      ],
      "metadata": {
        "colab": {
          "base_uri": "https://localhost:8080/"
        },
        "id": "ky8LCT7sy2Re",
        "outputId": "45b478ff-695b-499e-b532-8631e729354f"
      },
      "execution_count": null,
      "outputs": [
        {
          "output_type": "stream",
          "name": "stdout",
          "text": [
            "              precision    recall  f1-score   support\n",
            "\n",
            "         1.0       0.99      0.86      0.92      1079\n",
            "         2.0       0.91      0.99      0.95      1558\n",
            "\n",
            "    accuracy                           0.94      2637\n",
            "   macro avg       0.95      0.92      0.93      2637\n",
            "weighted avg       0.94      0.94      0.93      2637\n",
            "\n"
          ]
        }
      ]
    },
    {
      "cell_type": "code",
      "source": [
        "#Матрица спутанности - правильность модели классификации\n",
        "from sklearn.metrics import confusion_matrix, ConfusionMatrixDisplay\n",
        "cm = confusion_matrix(y_test, y_pred, labels = knn_n.classes_)\n",
        "ConfusionMatrixDisplay(confusion_matrix=cm, display_labels = knn_n.classes_).plot();"
      ],
      "metadata": {
        "colab": {
          "base_uri": "https://localhost:8080/",
          "height": 449
        },
        "id": "0H4BtwLCy3u_",
        "outputId": "6735c826-0e24-4625-e505-399ae71d4e33"
      },
      "execution_count": null,
      "outputs": [
        {
          "output_type": "display_data",
          "data": {
            "text/plain": [
              "<Figure size 640x480 with 2 Axes>"
            ],
            "image/png": "[encoded data removed]"
          },
          "metadata": {}
        }
      ]
    },
    {
      "cell_type": "markdown",
      "source": [
        "4) Нормализуйте данные двумя способами (например, примените StandardScaler и MinMaxScaler)"
      ],
      "metadata": {
        "id": "LUPRNw_6y8ZQ"
      }
    },
    {
      "cell_type": "code",
      "source": [
        "#Нормализация с помощью StandartScaler\n",
        "from sklearn.preprocessing import StandardScaler\n",
        "scaler = StandardScaler()\n",
        "scaler.fit(X_train)\n",
        "X_train_n_StandartScaler = pd.DataFrame(scaler.transform(X_train), columns = X_train.columns)\n",
        "X_test_n_StandartScaler = pd.DataFrame(scaler.transform(X_test), columns = X_test.columns)"
      ],
      "metadata": {
        "id": "3uftAtGpy-rz"
      },
      "execution_count": null,
      "outputs": []
    },
    {
      "cell_type": "code",
      "source": [
        "#Нормализация с помощью MinMaxScaler\n",
        "from sklearn.preprocessing import MinMaxScaler\n",
        "scaler = MinMaxScaler()\n",
        "scaler.fit(X_train)\n",
        "X_train_n_MinMaxScaler = pd.DataFrame(scaler.transform(X_train), columns = X_train.columns)\n",
        "X_test_n_MinMaxScaler = pd.DataFrame(scaler.transform(X_test), columns = X_test.columns)"
      ],
      "metadata": {
        "id": "GyLI8jZ2zHAW"
      },
      "execution_count": null,
      "outputs": []
    },
    {
      "cell_type": "markdown",
      "source": [
        "5) Обучите ещё две модели на нормализованных данных. Оцените и сравнить полученные результаты между собой и с результатами без нормализации."
      ],
      "metadata": {
        "id": "mf4Um2lWzKJi"
      }
    },
    {
      "cell_type": "code",
      "source": [
        "#Обучение с StandartScaler\n",
        "from sklearn.neighbors import KNeighborsClassifier\n",
        "knn_n_StandartScaler = KNeighborsClassifier()\n",
        "knn_n_StandartScaler.fit(X_train_n_StandartScaler, y_train)\n",
        "knn_n_StandartScaler.score(X_test_n_StandartScaler, y_test)"
      ],
      "metadata": {
        "colab": {
          "base_uri": "https://localhost:8080/"
        },
        "id": "T_rX_KvazMDF",
        "outputId": "2ec37858-3389-4158-d3fc-f5ba1bed3953"
      },
      "execution_count": null,
      "outputs": [
        {
          "output_type": "execute_result",
          "data": {
            "text/plain": [
              "0.8403488813045127"
            ]
          },
          "metadata": {},
          "execution_count": 24
        }
      ]
    },
    {
      "cell_type": "code",
      "source": [
        "#Обучение с MinMaxScaler\n",
        "from sklearn.neighbors import KNeighborsClassifier\n",
        "knn_n_MinMaxScaler = KNeighborsClassifier()\n",
        "knn_n_MinMaxScaler.fit(X_train_n_MinMaxScaler, y_train)\n",
        "knn_n_MinMaxScaler.score(X_test_n_MinMaxScaler, y_test)"
      ],
      "metadata": {
        "colab": {
          "base_uri": "https://localhost:8080/"
        },
        "id": "1S4OTJE5zUCm",
        "outputId": "ca7fd2d1-7500-445a-b79d-9b5d5350aa6e"
      },
      "execution_count": null,
      "outputs": [
        {
          "output_type": "execute_result",
          "data": {
            "text/plain": [
              "0.8103905953735305"
            ]
          },
          "metadata": {},
          "execution_count": 25
        }
      ]
    },
    {
      "cell_type": "markdown",
      "source": [
        "8.4) использовать методы уменьшения размерности"
      ],
      "metadata": {
        "id": "DNKzCfil0PYM"
      }
    },
    {
      "cell_type": "code",
      "source": [
        "#PCA для уменьшения размерности нецелевых признаков, для целевых признаков LabelEncoder\n",
        "from sklearn.decomposition import PCA\n",
        "from sklearn.preprocessing import LabelEncoder\n",
        "scaler = StandardScaler()\n",
        "scaler.fit(num_data)\n",
        "X = pd.DataFrame(scaler.transform(num_data), columns = num_data.columns)\n",
        "\n",
        "pca = PCA(n_components=4)\n",
        "x_np = pca.fit_transform(X)\n",
        "X = pd.DataFrame(x_np)\n",
        "print(X)\n",
        "\n",
        "le = LabelEncoder()\n",
        "y = le.fit_transform(CLASS)\n",
        "print(y)\n",
        "\n",
        "X_train, X_test, y_train, y_test = train_test_split(X, y, test_size = 0.3, random_state = 42)\n",
        "knn_n = KNeighborsClassifier()\n",
        "knn_n.fit(X_train, y_train)\n",
        "knn_n.score(X_test, y_test)"
      ],
      "metadata": {
        "colab": {
          "base_uri": "https://localhost:8080/"
        },
        "id": "uPF8MiQi0hMQ",
        "outputId": "027ed5ba-b2ef-40d8-a2b1-a692fc77b4d8"
      },
      "execution_count": null,
      "outputs": [
        {
          "output_type": "stream",
          "name": "stdout",
          "text": [
            "             0         1         2         3\n",
            "0    -0.133654 -6.208042  4.624118  0.831250\n",
            "1    -0.190158 -5.799897  4.343991  0.865452\n",
            "2     0.135851 -7.828136  5.951301  0.839894\n",
            "3     0.745000 -1.688860  1.456928 -0.582483\n",
            "4     0.250810 -1.684472  1.649935 -0.460797\n",
            "...        ...       ...       ...       ...\n",
            "8785  2.474030 -0.406247  4.731232  0.614139\n",
            "8786 -0.928893  1.034857  0.292165 -1.147949\n",
            "8787 -0.759500 -1.168698 -1.731922  2.031621\n",
            "8788 -0.226105  0.799795  0.035932 -0.562136\n",
            "8789 -1.247979  1.270654  0.142902 -0.748989\n",
            "\n",
            "[8790 rows x 4 columns]\n",
            "[0 0 0 ... 1 0 0]\n"
          ]
        },
        {
          "output_type": "execute_result",
          "data": {
            "text/plain": [
              "0.7990140310959424"
            ]
          },
          "metadata": {},
          "execution_count": 49
        }
      ]
    },
    {
      "cell_type": "markdown",
      "source": [
        "6) Подберите значения гиперпараметров (количество соседей и метрику расстояния) с помощью GridSearchCV."
      ],
      "metadata": {
        "id": "Dtqd7Z0z0yMM"
      }
    },
    {
      "cell_type": "code",
      "source": [
        "from mlxtend.plotting import plot_decision_regions\n",
        "fig, ax = plt.subplots(figsize=(10, 8))\n",
        "plot_decision_regions(x_np, y, clf=knn_n, legend=2)"
      ],
      "metadata": {
        "colab": {
          "base_uri": "https://localhost:8080/",
          "height": 693
        },
        "id": "8bN9r_IH04jb",
        "outputId": "3bfa5040-6544-43af-ebe9-b47f1707a1fd"
      },
      "execution_count": null,
      "outputs": [
        {
          "output_type": "execute_result",
          "data": {
            "text/plain": [
              "<Axes: >"
            ]
          },
          "metadata": {},
          "execution_count": 46
        },
        {
          "output_type": "display_data",
          "data": {
            "text/plain": [
              "<Figure size 1000x800 with 1 Axes>"
            ],
            "image/png": "[encoded data removed]"
          },
          "metadata": {}
        }
      ]
    },
    {
      "cell_type": "code",
      "source": [
        "from sklearn.model_selection import GridSearchCV\n",
        "knn = KNeighborsClassifier()\n",
        "#Задаём диапазон значений соседей\n",
        "k_range = list(range(1,20))\n",
        "#Задаём значения гиперпараметров для перебора\n",
        "param_grid = dict(n_neighbors = k_range)\n",
        "grid = GridSearchCV(knn, param_grid, cv=2, scoring='accuracy', return_train_score=False,verbose=1)\n",
        "#Обучение модели\n",
        "grid_search = grid.fit(X_train, y_train)\n",
        "#Лучшие значения параметров\n",
        "print(grid_search.best_params_)\n",
        "#Лучшее значение метрики\n",
        "print(grid_search.best_score_)"
      ],
      "metadata": {
        "colab": {
          "base_uri": "https://localhost:8080/"
        },
        "id": "MygGX24-09mr",
        "outputId": "d266c886-5b75-44e2-f5c0-2276ba8609d7"
      },
      "execution_count": null,
      "outputs": [
        {
          "output_type": "stream",
          "name": "stdout",
          "text": [
            "Fitting 2 folds for each of 19 candidates, totalling 38 fits\n",
            "{'n_neighbors': 5}\n",
            "0.7931094432327098\n"
          ]
        }
      ]
    },
    {
      "cell_type": "markdown",
      "source": [
        "7)Сделайте выводы об использовании (плюсах и минусах) метода k-ближайших соседей для классификации в целом и применительно к рассмотренному набору данных."
      ],
      "metadata": {
        "id": "GmqnqxV01GEB"
      }
    },
    {
      "cell_type": "markdown",
      "source": [
        "Преимущества: Простота, Интерпретируемость.\n",
        "\n",
        "Недостатки: неэффективное расходование памяти, время выполнения, неустойчивость к погрешностям, отсутствие настраиваемых параметров(в исходном варианте)"
      ],
      "metadata": {
        "id": "oqcbei0W1Kc6"
      }
    },
    {
      "cell_type": "markdown",
      "source": [
        "8.1) оставить только по одному из сильно коррелирующих признаков"
      ],
      "metadata": {
        "id": "J5UzCrQF1SJw"
      }
    },
    {
      "cell_type": "code",
      "source": [
        "corr_matrix = num_data.corr().abs()\n",
        "upper_triangle = corr_matrix.where(np.triu(np.ones(corr_matrix.shape), k = 1).astype(bool)) #Оставляем только по одному из сильно коррелирующих признаков\n",
        "#Поиск индексов столбцов с корреляцией больше заданного порога\n",
        "to_drop = [column for column in upper_triangle.columns if (any(upper_triangle[column] > 0.6))]\n",
        "#Удаляем ненужные столбцы\n",
        "num_data_copy1 = num_data\n",
        "num_data_copy1 = num_data_copy1.drop(to_drop, axis = 1)"
      ],
      "metadata": {
        "id": "YeVeR11c1YR-"
      },
      "execution_count": null,
      "outputs": []
    },
    {
      "cell_type": "code",
      "source": [
        "#Разделим данные на тренировочные и тестовые, обучим KNN и посмотрим качество обучения.\n",
        "from sklearn.model_selection import train_test_split\n",
        "X_train, X_test, y_train, y_test = train_test_split(num_data_copy1, CLASS, test_size = 0.3, random_state = 42)\n",
        "knn = KNeighborsClassifier()\n",
        "knn.fit(X_train, y_train)\n",
        "knn.score(X_test, y_test)"
      ],
      "metadata": {
        "colab": {
          "base_uri": "https://localhost:8080/"
        },
        "id": "nj6e02vr1k6A",
        "outputId": "0f743439-eeb1-4b1f-a29e-7714a3af4ec2"
      },
      "execution_count": null,
      "outputs": [
        {
          "output_type": "execute_result",
          "data": {
            "text/plain": [
              "0.9393249905195298"
            ]
          },
          "metadata": {},
          "execution_count": 72
        }
      ]
    },
    {
      "cell_type": "markdown",
      "source": [
        "Качество повысилось"
      ],
      "metadata": {
        "id": "RvF15eB51uUn"
      }
    },
    {
      "cell_type": "markdown",
      "source": [
        "8.2) объединить группу связанных по смыслу признаков в один (например, для витамина A)"
      ],
      "metadata": {
        "id": "xziJseGZ1yc2"
      }
    },
    {
      "cell_type": "markdown",
      "source": [
        "Признаки можно объединить в следующие группу - основные питательные вещества\n"
      ],
      "metadata": {
        "id": "cqxvjVdv2AR2"
      }
    },
    {
      "cell_type": "code",
      "source": [
        "num_data_copy2 = num_data\n",
        "groups = {\n",
        "    'Основные питательные вещества': ['Water_g', 'Energ_Kcal', 'Protein_g', 'Lipid_Tot_g', 'Ash_g', 'Carbohydrt_g', 'Fiber_TD_g', 'Sugar_Tot_g'],\n",
        "    'Минералы': ['Calcium_mg', 'Iron_mg', 'Magnesium_mg', 'Phosphorus_mg', 'Potassium_mg', 'Sodium_mg', 'Zinc_mg', 'Copper_mg', 'Manganese_mg', 'Selenium_µg'],\n",
        "    'Витамины': ['Vit_C_mg', 'Thiamin_mg', 'Riboflavin_mg', 'Niacin_mg', 'Panto_Acid_mg', 'Vit_B6_mg', 'Folate_Tot_µg', 'Folic_Acid_µg', 'Food_Folate_µg', 'Folate_DFE_µg', 'Choline_Tot_mg', 'Vit_B12_µg', 'Vit_A_IU', 'Vit_A_RAE', 'Retinol_µg', 'Alpha_Carot_µg', 'Beta_Carot_µg', 'Beta_Crypt_µg', 'Lycopene_µg', 'Lut+Zea_µg', 'Vit_E_mg', 'Vit_D_µg', 'Vit_D_IU', 'Vit_K_µg'],\n",
        "    'Жирные кислоты': ['FA_Sat_g', 'FA_Mono_g', 'FA_Poly_g'],\n",
        "    'Другие признаки': ['Cholestrl_mg', 'GmWt_1', 'GmWt_2', 'Refuse_Pct']\n",
        "}"
      ],
      "metadata": {
        "id": "5Mc94DyQ2Gdp"
      },
      "execution_count": null,
      "outputs": []
    },
    {
      "cell_type": "code",
      "source": [
        "df = pd.DataFrame(data)"
      ],
      "metadata": {
        "id": "8BSC5_Ai2Luc"
      },
      "execution_count": null,
      "outputs": []
    },
    {
      "cell_type": "code",
      "source": [
        "df.melt(id_vars=['Shrt_Desc'], value_vars=['Water_g', 'Energ_Kcal', 'Protein_g', 'Lipid_Tot_g', 'Ash_g', 'Carbohydrt_g', 'Fiber_TD_g', 'Sugar_Tot_g'], var_name='Основные питательные вещества', value_name='Значение')"
      ],
      "metadata": {
        "colab": {
          "base_uri": "https://localhost:8080/",
          "height": 424
        },
        "id": "K-IHKasW2OMQ",
        "outputId": "235798d1-9cca-49e7-8cc1-52808196146c"
      },
      "execution_count": null,
      "outputs": [
        {
          "output_type": "execute_result",
          "data": {
            "text/plain": [
              "                        Shrt_Desc Основные питательные вещества  Значение\n",
              "0                BUTTER,WITH SALT                       Water_g     15.87\n",
              "1          BUTTER,WHIPPED,W/ SALT                       Water_g     16.72\n",
              "2            BUTTER OIL,ANHYDROUS                       Water_g      0.24\n",
              "3                     CHEESE,BLUE                       Water_g     42.41\n",
              "4                    CHEESE,BRICK                       Water_g     41.11\n",
              "...                           ...                           ...       ...\n",
              "70315             MACKEREL,SALTED                   Sugar_Tot_g      0.00\n",
              "70316  SCALLOP,(BAY&SEA),CKD,STMD                   Sugar_Tot_g      0.00\n",
              "70317                  SYRUP,CANE                   Sugar_Tot_g     73.20\n",
              "70318                   SNAIL,RAW                   Sugar_Tot_g      0.00\n",
              "70319            TURTLE,GREEN,RAW                   Sugar_Tot_g      0.00\n",
              "\n",
              "[70320 rows x 3 columns]"
            ],
            "text/html": [
              "\n",
              "  <div id=\"df-dba13857-9419-48ae-a854-ee4378e181e4\" class=\"colab-df-container\">\n",
              "    <div>\n",
              "<style scoped>\n",
              "    .dataframe tbody tr th:only-of-type {\n",
              "        vertical-align: middle;\n",
              "    }\n",
              "\n",
              "    .dataframe tbody tr th {\n",
              "        vertical-align: top;\n",
              "    }\n",
              "\n",
              "    .dataframe thead th {\n",
              "        text-align: right;\n",
              "    }\n",
              "</style>\n",
              "<table border=\"1\" class=\"dataframe\">\n",
              "  <thead>\n",
              "    <tr style=\"text-align: right;\">\n",
              "      <th></th>\n",
              "      <th>Shrt_Desc</th>\n",
              "      <th>Основные питательные вещества</th>\n",
              "      <th>Значение</th>\n",
              "    </tr>\n",
              "  </thead>\n",
              "  <tbody>\n",
              "    <tr>\n",
              "      <th>0</th>\n",
              "      <td>BUTTER,WITH SALT</td>\n",
              "      <td>Water_g</td>\n",
              "      <td>15.87</td>\n",
              "    </tr>\n",
              "    <tr>\n",
              "      <th>1</th>\n",
              "      <td>BUTTER,WHIPPED,W/ SALT</td>\n",
              "      <td>Water_g</td>\n",
              "      <td>16.72</td>\n",
              "    </tr>\n",
              "    <tr>\n",
              "      <th>2</th>\n",
              "      <td>BUTTER OIL,ANHYDROUS</td>\n",
              "      <td>Water_g</td>\n",
              "      <td>0.24</td>\n",
              "    </tr>\n",
              "    <tr>\n",
              "      <th>3</th>\n",
              "      <td>CHEESE,BLUE</td>\n",
              "      <td>Water_g</td>\n",
              "      <td>42.41</td>\n",
              "    </tr>\n",
              "    <tr>\n",
              "      <th>4</th>\n",
              "      <td>CHEESE,BRICK</td>\n",
              "      <td>Water_g</td>\n",
              "      <td>41.11</td>\n",
              "    </tr>\n",
              "    <tr>\n",
              "      <th>...</th>\n",
              "      <td>...</td>\n",
              "      <td>...</td>\n",
              "      <td>...</td>\n",
              "    </tr>\n",
              "    <tr>\n",
              "      <th>70315</th>\n",
              "      <td>MACKEREL,SALTED</td>\n",
              "      <td>Sugar_Tot_g</td>\n",
              "      <td>0.00</td>\n",
              "    </tr>\n",
              "    <tr>\n",
              "      <th>70316</th>\n",
              "      <td>SCALLOP,(BAY&amp;SEA),CKD,STMD</td>\n",
              "      <td>Sugar_Tot_g</td>\n",
              "      <td>0.00</td>\n",
              "    </tr>\n",
              "    <tr>\n",
              "      <th>70317</th>\n",
              "      <td>SYRUP,CANE</td>\n",
              "      <td>Sugar_Tot_g</td>\n",
              "      <td>73.20</td>\n",
              "    </tr>\n",
              "    <tr>\n",
              "      <th>70318</th>\n",
              "      <td>SNAIL,RAW</td>\n",
              "      <td>Sugar_Tot_g</td>\n",
              "      <td>0.00</td>\n",
              "    </tr>\n",
              "    <tr>\n",
              "      <th>70319</th>\n",
              "      <td>TURTLE,GREEN,RAW</td>\n",
              "      <td>Sugar_Tot_g</td>\n",
              "      <td>0.00</td>\n",
              "    </tr>\n",
              "  </tbody>\n",
              "</table>\n",
              "<p>70320 rows × 3 columns</p>\n",
              "</div>\n",
              "    <div class=\"colab-df-buttons\">\n",
              "\n",
              "  <div class=\"colab-df-container\">\n",
              "    <button class=\"colab-df-convert\" onclick=\"convertToInteractive('df-dba13857-9419-48ae-a854-ee4378e181e4')\"\n",
              "            title=\"Convert this dataframe to an interactive table.\"\n",
              "            style=\"display:none;\">\n",
              "\n",
              "  <svg xmlns=\"http://www.w3.org/2000/svg\" height=\"24px\" viewBox=\"0 -960 960 960\">\n",
              "    <path d=\"M120-120v-720h720v720H120Zm60-500h600v-160H180v160Zm220 220h160v-160H400v160Zm0 220h160v-160H400v160ZM180-400h160v-160H180v160Zm440 0h160v-160H620v160ZM180-180h160v-160H180v160Zm440 0h160v-160H620v160Z\"/>\n",
              "  </svg>\n",
              "    </button>\n",
              "\n",
              "  <style>\n",
              "    .colab-df-container {\n",
              "      display:flex;\n",
              "      gap: 12px;\n",
              "    }\n",
              "\n",
              "    .colab-df-convert {\n",
              "      background-color: #E8F0FE;\n",
              "      border: none;\n",
              "      border-radius: 50%;\n",
              "      cursor: pointer;\n",
              "      display: none;\n",
              "      fill: #1967D2;\n",
              "      height: 32px;\n",
              "      padding: 0 0 0 0;\n",
              "      width: 32px;\n",
              "    }\n",
              "\n",
              "    .colab-df-convert:hover {\n",
              "      background-color: #E2EBFA;\n",
              "      box-shadow: 0px 1px 2px rgba(60, 64, 67, 0.3), 0px 1px 3px 1px rgba(60, 64, 67, 0.15);\n",
              "      fill: #174EA6;\n",
              "    }\n",
              "\n",
              "    .colab-df-buttons div {\n",
              "      margin-bottom: 4px;\n",
              "    }\n",
              "\n",
              "    [theme=dark] .colab-df-convert {\n",
              "      background-color: #3B4455;\n",
              "      fill: #D2E3FC;\n",
              "    }\n",
              "\n",
              "    [theme=dark] .colab-df-convert:hover {\n",
              "      background-color: #434B5C;\n",
              "      box-shadow: 0px 1px 3px 1px rgba(0, 0, 0, 0.15);\n",
              "      filter: drop-shadow(0px 1px 2px rgba(0, 0, 0, 0.3));\n",
              "      fill: #FFFFFF;\n",
              "    }\n",
              "  </style>\n",
              "\n",
              "    <script>\n",
              "      const buttonEl =\n",
              "        document.querySelector('#df-dba13857-9419-48ae-a854-ee4378e181e4 button.colab-df-convert');\n",
              "      buttonEl.style.display =\n",
              "        google.colab.kernel.accessAllowed ? 'block' : 'none';\n",
              "\n",
              "      async function convertToInteractive(key) {\n",
              "        const element = document.querySelector('#df-dba13857-9419-48ae-a854-ee4378e181e4');\n",
              "        const dataTable =\n",
              "          await google.colab.kernel.invokeFunction('convertToInteractive',\n",
              "                                                    [key], {});\n",
              "        if (!dataTable) return;\n",
              "\n",
              "        const docLinkHtml = 'Like what you see? Visit the ' +\n",
              "          '<a target=\"_blank\" href=https://colab.research.google.com/notebooks/data_table.ipynb>data table notebook</a>'\n",
              "          + ' to learn more about interactive tables.';\n",
              "        element.innerHTML = '';\n",
              "        dataTable['output_type'] = 'display_data';\n",
              "        await google.colab.output.renderOutput(dataTable, element);\n",
              "        const docLink = document.createElement('div');\n",
              "        docLink.innerHTML = docLinkHtml;\n",
              "        element.appendChild(docLink);\n",
              "      }\n",
              "    </script>\n",
              "  </div>\n",
              "\n",
              "\n",
              "<div id=\"df-9d522b2f-af3c-4d0d-acce-718ade8869a2\">\n",
              "  <button class=\"colab-df-quickchart\" onclick=\"quickchart('df-9d522b2f-af3c-4d0d-acce-718ade8869a2')\"\n",
              "            title=\"Suggest charts\"\n",
              "            style=\"display:none;\">\n",
              "\n",
              "<svg xmlns=\"http://www.w3.org/2000/svg\" height=\"24px\"viewBox=\"0 0 24 24\"\n",
              "     width=\"24px\">\n",
              "    <g>\n",
              "        <path d=\"M19 3H5c-1.1 0-2 .9-2 2v14c0 1.1.9 2 2 2h14c1.1 0 2-.9 2-2V5c0-1.1-.9-2-2-2zM9 17H7v-7h2v7zm4 0h-2V7h2v10zm4 0h-2v-4h2v4z\"/>\n",
              "    </g>\n",
              "</svg>\n",
              "  </button>\n",
              "\n",
              "<style>\n",
              "  .colab-df-quickchart {\n",
              "      --bg-color: #E8F0FE;\n",
              "      --fill-color: #1967D2;\n",
              "      --hover-bg-color: #E2EBFA;\n",
              "      --hover-fill-color: #174EA6;\n",
              "      --disabled-fill-color: #AAA;\n",
              "      --disabled-bg-color: #DDD;\n",
              "  }\n",
              "\n",
              "  [theme=dark] .colab-df-quickchart {\n",
              "      --bg-color: #3B4455;\n",
              "      --fill-color: #D2E3FC;\n",
              "      --hover-bg-color: #434B5C;\n",
              "      --hover-fill-color: #FFFFFF;\n",
              "      --disabled-bg-color: #3B4455;\n",
              "      --disabled-fill-color: #666;\n",
              "  }\n",
              "\n",
              "  .colab-df-quickchart {\n",
              "    background-color: var(--bg-color);\n",
              "    border: none;\n",
              "    border-radius: 50%;\n",
              "    cursor: pointer;\n",
              "    display: none;\n",
              "    fill: var(--fill-color);\n",
              "    height: 32px;\n",
              "    padding: 0;\n",
              "    width: 32px;\n",
              "  }\n",
              "\n",
              "  .colab-df-quickchart:hover {\n",
              "    background-color: var(--hover-bg-color);\n",
              "    box-shadow: 0 1px 2px rgba(60, 64, 67, 0.3), 0 1px 3px 1px rgba(60, 64, 67, 0.15);\n",
              "    fill: var(--button-hover-fill-color);\n",
              "  }\n",
              "\n",
              "  .colab-df-quickchart-complete:disabled,\n",
              "  .colab-df-quickchart-complete:disabled:hover {\n",
              "    background-color: var(--disabled-bg-color);\n",
              "    fill: var(--disabled-fill-color);\n",
              "    box-shadow: none;\n",
              "  }\n",
              "\n",
              "  .colab-df-spinner {\n",
              "    border: 2px solid var(--fill-color);\n",
              "    border-color: transparent;\n",
              "    border-bottom-color: var(--fill-color);\n",
              "    animation:\n",
              "      spin 1s steps(1) infinite;\n",
              "  }\n",
              "\n",
              "  @keyframes spin {\n",
              "    0% {\n",
              "      border-color: transparent;\n",
              "      border-bottom-color: var(--fill-color);\n",
              "      border-left-color: var(--fill-color);\n",
              "    }\n",
              "    20% {\n",
              "      border-color: transparent;\n",
              "      border-left-color: var(--fill-color);\n",
              "      border-top-color: var(--fill-color);\n",
              "    }\n",
              "    30% {\n",
              "      border-color: transparent;\n",
              "      border-left-color: var(--fill-color);\n",
              "      border-top-color: var(--fill-color);\n",
              "      border-right-color: var(--fill-color);\n",
              "    }\n",
              "    40% {\n",
              "      border-color: transparent;\n",
              "      border-right-color: var(--fill-color);\n",
              "      border-top-color: var(--fill-color);\n",
              "    }\n",
              "    60% {\n",
              "      border-color: transparent;\n",
              "      border-right-color: var(--fill-color);\n",
              "    }\n",
              "    80% {\n",
              "      border-color: transparent;\n",
              "      border-right-color: var(--fill-color);\n",
              "      border-bottom-color: var(--fill-color);\n",
              "    }\n",
              "    90% {\n",
              "      border-color: transparent;\n",
              "      border-bottom-color: var(--fill-color);\n",
              "    }\n",
              "  }\n",
              "</style>\n",
              "\n",
              "  <script>\n",
              "    async function quickchart(key) {\n",
              "      const quickchartButtonEl =\n",
              "        document.querySelector('#' + key + ' button');\n",
              "      quickchartButtonEl.disabled = true;  // To prevent multiple clicks.\n",
              "      quickchartButtonEl.classList.add('colab-df-spinner');\n",
              "      try {\n",
              "        const charts = await google.colab.kernel.invokeFunction(\n",
              "            'suggestCharts', [key], {});\n",
              "      } catch (error) {\n",
              "        console.error('Error during call to suggestCharts:', error);\n",
              "      }\n",
              "      quickchartButtonEl.classList.remove('colab-df-spinner');\n",
              "      quickchartButtonEl.classList.add('colab-df-quickchart-complete');\n",
              "    }\n",
              "    (() => {\n",
              "      let quickchartButtonEl =\n",
              "        document.querySelector('#df-9d522b2f-af3c-4d0d-acce-718ade8869a2 button');\n",
              "      quickchartButtonEl.style.display =\n",
              "        google.colab.kernel.accessAllowed ? 'block' : 'none';\n",
              "    })();\n",
              "  </script>\n",
              "</div>\n",
              "    </div>\n",
              "  </div>\n"
            ],
            "application/vnd.google.colaboratory.intrinsic+json": {
              "type": "dataframe",
              "summary": "{\n  \"name\": \"df\",\n  \"rows\": 70320,\n  \"fields\": [\n    {\n      \"column\": \"Shrt_Desc\",\n      \"properties\": {\n        \"dtype\": \"category\",\n        \"num_unique_values\": 8787,\n        \"samples\": [\n          \"CEREALS,FARINA,ENR,ASSORTED BRANDS,DRY\",\n          \"BRUSSELS SPROUTS,FRZ,CKD,BLD,DRND,W/SALT\",\n          \"RASPBERRIES,CND,RED,HVY SYRUP PK,SOL&LIQUIDS\"\n        ],\n        \"semantic_type\": \"\",\n        \"description\": \"\"\n      }\n    },\n    {\n      \"column\": \"\\u041e\\u0441\\u043d\\u043e\\u0432\\u043d\\u044b\\u0435 \\u043f\\u0438\\u0442\\u0430\\u0442\\u0435\\u043b\\u044c\\u043d\\u044b\\u0435 \\u0432\\u0435\\u0449\\u0435\\u0441\\u0442\\u0432\\u0430\",\n      \"properties\": {\n        \"dtype\": \"category\",\n        \"num_unique_values\": 8,\n        \"samples\": [\n          \"Energ_Kcal\",\n          \"Carbohydrt_g\",\n          \"Water_g\"\n        ],\n        \"semantic_type\": \"\",\n        \"description\": \"\"\n      }\n    },\n    {\n      \"column\": \"\\u0417\\u043d\\u0430\\u0447\\u0435\\u043d\\u0438\\u0435\",\n      \"properties\": {\n        \"dtype\": \"number\",\n        \"std\": 96.41479193618258,\n        \"min\": 0.0,\n        \"max\": 902.0,\n        \"num_unique_values\": 7863,\n        \"samples\": [\n          83.58,\n          80.85,\n          4.89\n        ],\n        \"semantic_type\": \"\",\n        \"description\": \"\"\n      }\n    }\n  ]\n}"
            }
          },
          "metadata": {},
          "execution_count": 75
        }
      ]
    },
    {
      "cell_type": "markdown",
      "source": [
        "8.3) повторно выбирать случайным образом поднабор из нескольких признаков и запоминать лучшие результаты (например, выбирать по 5 или по 7 признаков с помощью random.sample, повторять выбор 100 раз)"
      ],
      "metadata": {
        "id": "IRBHaHZv2tyR"
      }
    },
    {
      "cell_type": "code",
      "source": [
        "from sklearn.feature_selection import SelectFromModel\n",
        "from sklearn.ensemble import RandomForestClassifier\n",
        "from sklearn.model_selection import train_test_split\n",
        "X_train, X_test, y_train, y_test = train_test_split(num_data, CLASS, test_size = 0.3, random_state = 42)\n",
        "\n",
        "sel = RandomForestClassifier(n_estimators = 100)\n",
        "sel.fit(X_train, y_train)\n",
        "#Оценка важности признаков\n",
        "importances = sel.feature_importances_\n",
        "#Вывод наиболее важных признаков\n",
        "important_features = X_train.columns[importances > 0.05]\n",
        "print(important_features)"
      ],
      "metadata": {
        "colab": {
          "base_uri": "https://localhost:8080/"
        },
        "id": "9NdZqDCi2zu0",
        "outputId": "a7c35b6e-f1b8-4a07-e04b-f8ff0ebe91a0"
      },
      "execution_count": null,
      "outputs": [
        {
          "output_type": "stream",
          "name": "stdout",
          "text": [
            "Index(['Vit_A_IU', 'Vit_A_RAE', 'Retinol_mg', 'Beta_Carot_mg'], dtype='object')\n"
          ]
        }
      ]
    },
    {
      "cell_type": "code",
      "source": [
        "importances"
      ],
      "metadata": {
        "colab": {
          "base_uri": "https://localhost:8080/"
        },
        "id": "4Tld168b27e_",
        "outputId": "5e567163-7731-44c7-e87d-b7c676aeb862"
      },
      "execution_count": null,
      "outputs": [
        {
          "output_type": "execute_result",
          "data": {
            "text/plain": [
              "array([0.00521776, 0.00821224, 0.01056848, 0.00346321, 0.0035202 ,\n",
              "       0.00912415, 0.00460633, 0.00942914, 0.0099711 , 0.00487906,\n",
              "       0.00177649, 0.00276719, 0.00296076, 0.00329923, 0.00491208,\n",
              "       0.00390804, 0.00435319, 0.0048918 , 0.04377547, 0.00240288,\n",
              "       0.00478061, 0.00410293, 0.00240212, 0.00322315, 0.00298229,\n",
              "       0.00038294, 0.00155726, 0.001691  , 0.00318944, 0.00399829,\n",
              "       0.36997274, 0.20099539, 0.08574823, 0.01024992, 0.06556972,\n",
              "       0.00288922, 0.00161678, 0.01427569, 0.00562642, 0.01686691,\n",
              "       0.01919207, 0.00963469, 0.00455706, 0.00326303, 0.00418569,\n",
              "       0.00415167, 0.00329562, 0.00139918, 0.00416115])"
            ]
          },
          "metadata": {},
          "execution_count": 77
        }
      ]
    },
    {
      "cell_type": "markdown",
      "source": [
        "8.5) свой вариант отбора и подготовки признаков."
      ],
      "metadata": {
        "id": "88FKh3XG29CH"
      }
    },
    {
      "cell_type": "markdown",
      "source": [
        "Выбор - градиентный бустинг"
      ],
      "metadata": {
        "id": "iYkboT4G3De8"
      }
    },
    {
      "cell_type": "code",
      "source": [
        "from sklearn.ensemble import GradientBoostingClassifier, GradientBoostingRegressor\n",
        "from sklearn.metrics import mean_squared_error, mean_absolute_error, r2_score, accuracy_score\n",
        "from sklearn.model_selection import train_test_split"
      ],
      "metadata": {
        "id": "Dbas-dQ83IY8"
      },
      "execution_count": null,
      "outputs": []
    },
    {
      "cell_type": "code",
      "source": [
        "X_train, X_test, y_train, y_test = train_test_split(num_data, CLASS, test_size = 0.2, random_state = 42)"
      ],
      "metadata": {
        "id": "Q9-IkGga3I8b"
      },
      "execution_count": null,
      "outputs": []
    },
    {
      "cell_type": "code",
      "source": [
        "gb = GradientBoostingClassifier(n_estimators = 100, learning_rate = 0.1, max_depth = 3, random_state = 42)\n",
        "gb.fit(X_train, y_train)"
      ],
      "metadata": {
        "colab": {
          "base_uri": "https://localhost:8080/",
          "height": 75
        },
        "id": "aHUziQkq3NOT",
        "outputId": "05239bd1-63ed-48de-84cc-edf482d6e254"
      },
      "execution_count": null,
      "outputs": [
        {
          "output_type": "execute_result",
          "data": {
            "text/plain": [
              "GradientBoostingClassifier(random_state=42)"
            ],
            "text/html": [
              "<style>#sk-container-id-2 {color: black;background-color: white;}#sk-container-id-2 pre{padding: 0;}#sk-container-id-2 div.sk-toggleable {background-color: white;}#sk-container-id-2 label.sk-toggleable__label {cursor: pointer;display: block;width: 100%;margin-bottom: 0;padding: 0.3em;box-sizing: border-box;text-align: center;}#sk-container-id-2 label.sk-toggleable__label-arrow:before {content: \"▸\";float: left;margin-right: 0.25em;color: #696969;}#sk-container-id-2 label.sk-toggleable__label-arrow:hover:before {color: black;}#sk-container-id-2 div.sk-estimator:hover label.sk-toggleable__label-arrow:before {color: black;}#sk-container-id-2 div.sk-toggleable__content {max-height: 0;max-width: 0;overflow: hidden;text-align: left;background-color: #f0f8ff;}#sk-container-id-2 div.sk-toggleable__content pre {margin: 0.2em;color: black;border-radius: 0.25em;background-color: #f0f8ff;}#sk-container-id-2 input.sk-toggleable__control:checked~div.sk-toggleable__content {max-height: 200px;max-width: 100%;overflow: auto;}#sk-container-id-2 input.sk-toggleable__control:checked~label.sk-toggleable__label-arrow:before {content: \"▾\";}#sk-container-id-2 div.sk-estimator input.sk-toggleable__control:checked~label.sk-toggleable__label {background-color: #d4ebff;}#sk-container-id-2 div.sk-label input.sk-toggleable__control:checked~label.sk-toggleable__label {background-color: #d4ebff;}#sk-container-id-2 input.sk-hidden--visually {border: 0;clip: rect(1px 1px 1px 1px);clip: rect(1px, 1px, 1px, 1px);height: 1px;margin: -1px;overflow: hidden;padding: 0;position: absolute;width: 1px;}#sk-container-id-2 div.sk-estimator {font-family: monospace;background-color: #f0f8ff;border: 1px dotted black;border-radius: 0.25em;box-sizing: border-box;margin-bottom: 0.5em;}#sk-container-id-2 div.sk-estimator:hover {background-color: #d4ebff;}#sk-container-id-2 div.sk-parallel-item::after {content: \"\";width: 100%;border-bottom: 1px solid gray;flex-grow: 1;}#sk-container-id-2 div.sk-label:hover label.sk-toggleable__label {background-color: #d4ebff;}#sk-container-id-2 div.sk-serial::before {content: \"\";position: absolute;border-left: 1px solid gray;box-sizing: border-box;top: 0;bottom: 0;left: 50%;z-index: 0;}#sk-container-id-2 div.sk-serial {display: flex;flex-direction: column;align-items: center;background-color: white;padding-right: 0.2em;padding-left: 0.2em;position: relative;}#sk-container-id-2 div.sk-item {position: relative;z-index: 1;}#sk-container-id-2 div.sk-parallel {display: flex;align-items: stretch;justify-content: center;background-color: white;position: relative;}#sk-container-id-2 div.sk-item::before, #sk-container-id-2 div.sk-parallel-item::before {content: \"\";position: absolute;border-left: 1px solid gray;box-sizing: border-box;top: 0;bottom: 0;left: 50%;z-index: -1;}#sk-container-id-2 div.sk-parallel-item {display: flex;flex-direction: column;z-index: 1;position: relative;background-color: white;}#sk-container-id-2 div.sk-parallel-item:first-child::after {align-self: flex-end;width: 50%;}#sk-container-id-2 div.sk-parallel-item:last-child::after {align-self: flex-start;width: 50%;}#sk-container-id-2 div.sk-parallel-item:only-child::after {width: 0;}#sk-container-id-2 div.sk-dashed-wrapped {border: 1px dashed gray;margin: 0 0.4em 0.5em 0.4em;box-sizing: border-box;padding-bottom: 0.4em;background-color: white;}#sk-container-id-2 div.sk-label label {font-family: monospace;font-weight: bold;display: inline-block;line-height: 1.2em;}#sk-container-id-2 div.sk-label-container {text-align: center;}#sk-container-id-2 div.sk-container {/* jupyter's `normalize.less` sets `[hidden] { display: none; }` but bootstrap.min.css set `[hidden] { display: none !important; }` so we also need the `!important` here to be able to override the default hidden behavior on the sphinx rendered scikit-learn.org. See: https://github.com/scikit-learn/scikit-learn/issues/21755 */display: inline-block !important;position: relative;}#sk-container-id-2 div.sk-text-repr-fallback {display: none;}</style><div id=\"sk-container-id-2\" class=\"sk-top-container\"><div class=\"sk-text-repr-fallback\"><pre>GradientBoostingClassifier(random_state=42)</pre><b>In a Jupyter environment, please rerun this cell to show the HTML representation or trust the notebook. <br />On GitHub, the HTML representation is unable to render, please try loading this page with nbviewer.org.</b></div><div class=\"sk-container\" hidden><div class=\"sk-item\"><div class=\"sk-estimator sk-toggleable\"><input class=\"sk-toggleable__control sk-hidden--visually\" id=\"sk-estimator-id-2\" type=\"checkbox\" checked><label for=\"sk-estimator-id-2\" class=\"sk-toggleable__label sk-toggleable__label-arrow\">GradientBoostingClassifier</label><div class=\"sk-toggleable__content\"><pre>GradientBoostingClassifier(random_state=42)</pre></div></div></div></div></div>"
            ]
          },
          "metadata": {},
          "execution_count": 80
        }
      ]
    },
    {
      "cell_type": "code",
      "source": [
        "y_pred = gb.predict(X_test)\n",
        "print(\"Accuracy:\", accuracy_score(y_test, y_pred))"
      ],
      "metadata": {
        "colab": {
          "base_uri": "https://localhost:8080/"
        },
        "id": "b653GQMK3Qxm",
        "outputId": "42ed9ddf-4793-4b3a-c9ec-bf9ad6fb1e77"
      },
      "execution_count": null,
      "outputs": [
        {
          "output_type": "stream",
          "name": "stdout",
          "text": [
            "Accuracy: 0.9937428896473265\n"
          ]
        }
      ]
    },
    {
      "cell_type": "code",
      "source": [
        "from sklearn.model_selection import GridSearchCV\n",
        "\n",
        "param_grid = {'n_estimators': [50], 'max_depth': [3]}\n",
        "grid_search = GridSearchCV(gb, param_grid, cv=5)\n",
        "grid_search.fit(X_train, y_train)\n",
        "print(\"Best parameters:\", grid_search.best_params_)"
      ],
      "metadata": {
        "colab": {
          "base_uri": "https://localhost:8080/"
        },
        "id": "bMRw6CBT3Sm7",
        "outputId": "55f4097f-b514-46e4-a0b4-a410474c7ea9"
      },
      "execution_count": null,
      "outputs": [
        {
          "output_type": "stream",
          "name": "stdout",
          "text": [
            "Best parameters: {'max_depth': 3, 'n_estimators': 50}\n"
          ]
        }
      ]
    },
    {
      "cell_type": "code",
      "source": [
        "gb_best = GradientBoostingClassifier(n_estimators=200, max_depth=3, learning_rate=0.1, random_state=42)\n",
        "gb_best.fit(X_train, y_train)\n",
        "y_pred = gb_best.predict(X_test)\n",
        "print(\"Accuracy:\", accuracy_score(y_test, y_pred))"
      ],
      "metadata": {
        "colab": {
          "base_uri": "https://localhost:8080/"
        },
        "id": "nMQQU-qW3jJH",
        "outputId": "4fc88991-83ea-408b-88c1-7aa2ede4a5ff"
      },
      "execution_count": null,
      "outputs": [
        {
          "output_type": "stream",
          "name": "stdout",
          "text": [
            "Accuracy: 0.9931740614334471\n"
          ]
        }
      ]
    },
    {
      "cell_type": "markdown",
      "source": [
        "Датасет 3"
      ],
      "metadata": {
        "id": "iJNUe7Wq3tsR"
      }
    },
    {
      "cell_type": "markdown",
      "source": [
        "2) Первичный анализ"
      ],
      "metadata": {
        "id": "fbmz4bB54GeT"
      }
    },
    {
      "cell_type": "code",
      "source": [
        "data_v = pd.read_excel(\"ABBREV_with_CLASS.xlsx\")"
      ],
      "metadata": {
        "id": "bhvligBD3w-g"
      },
      "execution_count": null,
      "outputs": []
    },
    {
      "cell_type": "code",
      "source": [
        "numeric_v = [col for col in data_v.columns if data_v[col].dtypes in ['int64', 'float64']]\n",
        "categorial_v = [col for col in data_v.columns if data_v[col].dtypes in ['object']]\n",
        "\n",
        "num_data_v = data_v[numeric_v]\n",
        "cat_data_v = data[categorial_v]"
      ],
      "metadata": {
        "id": "UW6Emi9k31QG"
      },
      "execution_count": null,
      "outputs": []
    },
    {
      "cell_type": "code",
      "source": [
        "num_data_v.info()"
      ],
      "metadata": {
        "colab": {
          "base_uri": "https://localhost:8080/"
        },
        "id": "1N2UJwtE31ok",
        "outputId": "eb2f6ba5-e813-406a-cdd0-c3cde66adb75"
      },
      "execution_count": null,
      "outputs": [
        {
          "output_type": "stream",
          "name": "stdout",
          "text": [
            "<class 'pandas.core.frame.DataFrame'>\n",
            "RangeIndex: 8790 entries, 0 to 8789\n",
            "Data columns (total 52 columns):\n",
            " #   Column             Non-Null Count  Dtype  \n",
            "---  ------             --------------  -----  \n",
            " 0   Unnamed: 0         8790 non-null   int64  \n",
            " 1   NDB_No             8790 non-null   int64  \n",
            " 2   Water_(g)          8789 non-null   float64\n",
            " 3   Energ_Kcal         8790 non-null   int64  \n",
            " 4   Protein_(g)        8790 non-null   float64\n",
            " 5   Lipid_Tot_(g)      8790 non-null   float64\n",
            " 6   Ash_(g)            8465 non-null   float64\n",
            " 7   Carbohydrt_(g)     8790 non-null   float64\n",
            " 8   Fiber_TD_(g)       8196 non-null   float64\n",
            " 9   Sugar_Tot_(g)      6958 non-null   float64\n",
            " 10  Calcium_(mg)       8442 non-null   float64\n",
            " 11  Iron_(mg)          8646 non-null   float64\n",
            " 12  Magnesium_(mg)     8051 non-null   float64\n",
            " 13  Phosphorus_(mg)    8211 non-null   float64\n",
            " 14  Potassium_(mg)     8364 non-null   float64\n",
            " 15  Sodium_(mg)        8707 non-null   float64\n",
            " 16  Zinc_(mg)          8084 non-null   float64\n",
            " 17  Copper_mg)         7533 non-null   float64\n",
            " 18  Manganese_(mg)     6630 non-null   float64\n",
            " 19  Selenium_(µg)      7090 non-null   float64\n",
            " 20  Vit_C_(mg)         7972 non-null   float64\n",
            " 21  Thiamin_(mg)       8156 non-null   float64\n",
            " 22  Riboflavin_(mg)    8174 non-null   float64\n",
            " 23  Niacin_(mg)        8153 non-null   float64\n",
            " 24  Panto_Acid_mg)     6548 non-null   float64\n",
            " 25  Vit_B6_(mg)        7885 non-null   float64\n",
            " 26  Folate_Tot_(µg)    7529 non-null   float64\n",
            " 27  Folic_Acid_(µg)    6751 non-null   float64\n",
            " 28  Food_Folate_(µg)   7022 non-null   float64\n",
            " 29  Folate_DFE_(µg)    6733 non-null   float64\n",
            " 30  Choline_Tot_ (mg)  4774 non-null   float64\n",
            " 31  Vit_B12_(µg)       7597 non-null   float64\n",
            " 32  Vit_A_IU           8079 non-null   float64\n",
            " 33  Vit_A_RAE          7255 non-null   float64\n",
            " 34  Retinol_(µg)       6984 non-null   float64\n",
            " 35  Alpha_Carot_(µg)   5532 non-null   float64\n",
            " 36  Beta_Carot_(µg)    5628 non-null   float64\n",
            " 37  Beta_Crypt_(µg)    5520 non-null   float64\n",
            " 38  Lycopene_(µg)      5498 non-null   float64\n",
            " 39  Lut+Zea_ (µg)      5475 non-null   float64\n",
            " 40  Vit_E_(mg)         5901 non-null   float64\n",
            " 41  Vit_D_µg           5528 non-null   float64\n",
            " 42  Vit_D_IU           5579 non-null   float64\n",
            " 43  Vit_K_(µg)         5227 non-null   float64\n",
            " 44  FA_Sat_(g)         8441 non-null   float64\n",
            " 45  FA_Mono_(g)        8124 non-null   float64\n",
            " 46  FA_Poly_(g)        8125 non-null   float64\n",
            " 47  Cholestrl_(mg)     8380 non-null   float64\n",
            " 48  GmWt_1             8490 non-null   float64\n",
            " 49  GmWt_2             4825 non-null   float64\n",
            " 50  Refuse_Pct         8740 non-null   float64\n",
            " 51  CLASS              8790 non-null   int64  \n",
            "dtypes: float64(48), int64(4)\n",
            "memory usage: 3.5 MB\n"
          ]
        }
      ]
    },
    {
      "cell_type": "code",
      "source": [
        "num_data_v.describe()"
      ],
      "metadata": {
        "colab": {
          "base_uri": "https://localhost:8080/",
          "height": 350
        },
        "id": "qaSCu-5C33ij",
        "outputId": "6ead985f-1a4b-4282-8924-9a0c30a43d5e"
      },
      "execution_count": null,
      "outputs": [
        {
          "output_type": "execute_result",
          "data": {
            "text/plain": [
              "        Unnamed: 0        NDB_No    Water_(g)   Energ_Kcal  Protein_(g)  \\\n",
              "count  8790.000000   8790.000000  8789.000000  8790.000000  8790.000000   \n",
              "mean   4394.500000  15663.495222    54.112218   226.317634    11.342849   \n",
              "std    2537.598767   9251.413586    30.772854   169.877539    10.530474   \n",
              "min       0.000000   1001.000000     0.000000     0.000000     0.000000   \n",
              "25%    2197.250000   9086.250000    29.700000    91.000000     2.380000   \n",
              "50%    4394.500000  14427.500000    63.080000   191.000000     8.000000   \n",
              "75%    6591.750000  20142.750000    77.960000   337.000000    19.880000   \n",
              "max    8789.000000  93600.000000   100.000000   902.000000    88.320000   \n",
              "\n",
              "       Lipid_Tot_(g)      Ash_(g)  Carbohydrt_(g)  Fiber_TD_(g)  \\\n",
              "count    8790.000000  8465.000000     8790.000000   8196.000000   \n",
              "mean       10.553725     1.783468       22.127710      2.187445   \n",
              "std        15.814842     3.004609       27.270822      4.383138   \n",
              "min         0.000000     0.000000        0.000000      0.000000   \n",
              "25%         0.950000     0.840000        0.050000      0.000000   \n",
              "50%         5.140000     1.200000        9.340000      0.700000   \n",
              "75%        13.720000     2.090000       34.910000      2.600000   \n",
              "max       100.000000    99.800000      100.000000     79.000000   \n",
              "\n",
              "       Sugar_Tot_(g)  ...      Vit_D_IU   Vit_K_(µg)   FA_Sat_(g)  \\\n",
              "count    6958.000000  ...   5579.000000  5227.000000  8441.000000   \n",
              "mean        8.543066  ...     22.990142    15.631586     3.576334   \n",
              "std        14.923626  ...    154.614465    79.949125     6.518840   \n",
              "min         0.000000  ...      0.000000     0.000000     0.000000   \n",
              "25%         0.000000  ...      0.000000     0.200000     0.220000   \n",
              "50%         1.840000  ...      0.000000     1.600000     1.592000   \n",
              "75%         9.287500  ...      6.000000     5.200000     4.345000   \n",
              "max        99.800000  ...  10000.000000  1714.500000    95.600000   \n",
              "\n",
              "       FA_Mono_(g)  FA_Poly_(g)  Cholestrl_(mg)       GmWt_1       GmWt_2  \\\n",
              "count  8124.000000  8125.000000     8380.000000  8490.000000  4825.000000   \n",
              "mean      4.081006     2.288767       40.613246    96.395130   250.747668   \n",
              "std       7.010760     5.215654      119.869371    84.337063   382.226774   \n",
              "min       0.000000     0.000000        0.000000     0.100000     0.400000   \n",
              "25%       0.235750     0.220000        0.000000    29.000000    42.000000   \n",
              "50%       1.938500     0.696000        4.000000    85.000000   164.000000   \n",
              "75%       5.115000     2.081000       67.000000   130.000000   305.000000   \n",
              "max      83.689000    74.623000     3100.000000  1184.000000  5717.000000   \n",
              "\n",
              "        Refuse_Pct        CLASS  \n",
              "count  8740.000000  8790.000000  \n",
              "mean      4.964416     5.715586  \n",
              "std      12.088471     5.076376  \n",
              "min       0.000000     0.000000  \n",
              "25%       0.000000     0.000000  \n",
              "50%       0.000000    10.000000  \n",
              "75%       0.000000    10.000000  \n",
              "max      81.000000    11.000000  \n",
              "\n",
              "[8 rows x 52 columns]"
            ],
            "text/html": [
              "\n",
              "  <div id=\"df-24422308-4394-40d5-8909-b075647068c1\" class=\"colab-df-container\">\n",
              "    <div>\n",
              "<style scoped>\n",
              "    .dataframe tbody tr th:only-of-type {\n",
              "        vertical-align: middle;\n",
              "    }\n",
              "\n",
              "    .dataframe tbody tr th {\n",
              "        vertical-align: top;\n",
              "    }\n",
              "\n",
              "    .dataframe thead th {\n",
              "        text-align: right;\n",
              "    }\n",
              "</style>\n",
              "<table border=\"1\" class=\"dataframe\">\n",
              "  <thead>\n",
              "    <tr style=\"text-align: right;\">\n",
              "      <th></th>\n",
              "      <th>Unnamed: 0</th>\n",
              "      <th>NDB_No</th>\n",
              "      <th>Water_(g)</th>\n",
              "      <th>Energ_Kcal</th>\n",
              "      <th>Protein_(g)</th>\n",
              "      <th>Lipid_Tot_(g)</th>\n",
              "      <th>Ash_(g)</th>\n",
              "      <th>Carbohydrt_(g)</th>\n",
              "      <th>Fiber_TD_(g)</th>\n",
              "      <th>Sugar_Tot_(g)</th>\n",
              "      <th>...</th>\n",
              "      <th>Vit_D_IU</th>\n",
              "      <th>Vit_K_(µg)</th>\n",
              "      <th>FA_Sat_(g)</th>\n",
              "      <th>FA_Mono_(g)</th>\n",
              "      <th>FA_Poly_(g)</th>\n",
              "      <th>Cholestrl_(mg)</th>\n",
              "      <th>GmWt_1</th>\n",
              "      <th>GmWt_2</th>\n",
              "      <th>Refuse_Pct</th>\n",
              "      <th>CLASS</th>\n",
              "    </tr>\n",
              "  </thead>\n",
              "  <tbody>\n",
              "    <tr>\n",
              "      <th>count</th>\n",
              "      <td>8790.000000</td>\n",
              "      <td>8790.000000</td>\n",
              "      <td>8789.000000</td>\n",
              "      <td>8790.000000</td>\n",
              "      <td>8790.000000</td>\n",
              "      <td>8790.000000</td>\n",
              "      <td>8465.000000</td>\n",
              "      <td>8790.000000</td>\n",
              "      <td>8196.000000</td>\n",
              "      <td>6958.000000</td>\n",
              "      <td>...</td>\n",
              "      <td>5579.000000</td>\n",
              "      <td>5227.000000</td>\n",
              "      <td>8441.000000</td>\n",
              "      <td>8124.000000</td>\n",
              "      <td>8125.000000</td>\n",
              "      <td>8380.000000</td>\n",
              "      <td>8490.000000</td>\n",
              "      <td>4825.000000</td>\n",
              "      <td>8740.000000</td>\n",
              "      <td>8790.000000</td>\n",
              "    </tr>\n",
              "    <tr>\n",
              "      <th>mean</th>\n",
              "      <td>4394.500000</td>\n",
              "      <td>15663.495222</td>\n",
              "      <td>54.112218</td>\n",
              "      <td>226.317634</td>\n",
              "      <td>11.342849</td>\n",
              "      <td>10.553725</td>\n",
              "      <td>1.783468</td>\n",
              "      <td>22.127710</td>\n",
              "      <td>2.187445</td>\n",
              "      <td>8.543066</td>\n",
              "      <td>...</td>\n",
              "      <td>22.990142</td>\n",
              "      <td>15.631586</td>\n",
              "      <td>3.576334</td>\n",
              "      <td>4.081006</td>\n",
              "      <td>2.288767</td>\n",
              "      <td>40.613246</td>\n",
              "      <td>96.395130</td>\n",
              "      <td>250.747668</td>\n",
              "      <td>4.964416</td>\n",
              "      <td>5.715586</td>\n",
              "    </tr>\n",
              "    <tr>\n",
              "      <th>std</th>\n",
              "      <td>2537.598767</td>\n",
              "      <td>9251.413586</td>\n",
              "      <td>30.772854</td>\n",
              "      <td>169.877539</td>\n",
              "      <td>10.530474</td>\n",
              "      <td>15.814842</td>\n",
              "      <td>3.004609</td>\n",
              "      <td>27.270822</td>\n",
              "      <td>4.383138</td>\n",
              "      <td>14.923626</td>\n",
              "      <td>...</td>\n",
              "      <td>154.614465</td>\n",
              "      <td>79.949125</td>\n",
              "      <td>6.518840</td>\n",
              "      <td>7.010760</td>\n",
              "      <td>5.215654</td>\n",
              "      <td>119.869371</td>\n",
              "      <td>84.337063</td>\n",
              "      <td>382.226774</td>\n",
              "      <td>12.088471</td>\n",
              "      <td>5.076376</td>\n",
              "    </tr>\n",
              "    <tr>\n",
              "      <th>min</th>\n",
              "      <td>0.000000</td>\n",
              "      <td>1001.000000</td>\n",
              "      <td>0.000000</td>\n",
              "      <td>0.000000</td>\n",
              "      <td>0.000000</td>\n",
              "      <td>0.000000</td>\n",
              "      <td>0.000000</td>\n",
              "      <td>0.000000</td>\n",
              "      <td>0.000000</td>\n",
              "      <td>0.000000</td>\n",
              "      <td>...</td>\n",
              "      <td>0.000000</td>\n",
              "      <td>0.000000</td>\n",
              "      <td>0.000000</td>\n",
              "      <td>0.000000</td>\n",
              "      <td>0.000000</td>\n",
              "      <td>0.000000</td>\n",
              "      <td>0.100000</td>\n",
              "      <td>0.400000</td>\n",
              "      <td>0.000000</td>\n",
              "      <td>0.000000</td>\n",
              "    </tr>\n",
              "    <tr>\n",
              "      <th>25%</th>\n",
              "      <td>2197.250000</td>\n",
              "      <td>9086.250000</td>\n",
              "      <td>29.700000</td>\n",
              "      <td>91.000000</td>\n",
              "      <td>2.380000</td>\n",
              "      <td>0.950000</td>\n",
              "      <td>0.840000</td>\n",
              "      <td>0.050000</td>\n",
              "      <td>0.000000</td>\n",
              "      <td>0.000000</td>\n",
              "      <td>...</td>\n",
              "      <td>0.000000</td>\n",
              "      <td>0.200000</td>\n",
              "      <td>0.220000</td>\n",
              "      <td>0.235750</td>\n",
              "      <td>0.220000</td>\n",
              "      <td>0.000000</td>\n",
              "      <td>29.000000</td>\n",
              "      <td>42.000000</td>\n",
              "      <td>0.000000</td>\n",
              "      <td>0.000000</td>\n",
              "    </tr>\n",
              "    <tr>\n",
              "      <th>50%</th>\n",
              "      <td>4394.500000</td>\n",
              "      <td>14427.500000</td>\n",
              "      <td>63.080000</td>\n",
              "      <td>191.000000</td>\n",
              "      <td>8.000000</td>\n",
              "      <td>5.140000</td>\n",
              "      <td>1.200000</td>\n",
              "      <td>9.340000</td>\n",
              "      <td>0.700000</td>\n",
              "      <td>1.840000</td>\n",
              "      <td>...</td>\n",
              "      <td>0.000000</td>\n",
              "      <td>1.600000</td>\n",
              "      <td>1.592000</td>\n",
              "      <td>1.938500</td>\n",
              "      <td>0.696000</td>\n",
              "      <td>4.000000</td>\n",
              "      <td>85.000000</td>\n",
              "      <td>164.000000</td>\n",
              "      <td>0.000000</td>\n",
              "      <td>10.000000</td>\n",
              "    </tr>\n",
              "    <tr>\n",
              "      <th>75%</th>\n",
              "      <td>6591.750000</td>\n",
              "      <td>20142.750000</td>\n",
              "      <td>77.960000</td>\n",
              "      <td>337.000000</td>\n",
              "      <td>19.880000</td>\n",
              "      <td>13.720000</td>\n",
              "      <td>2.090000</td>\n",
              "      <td>34.910000</td>\n",
              "      <td>2.600000</td>\n",
              "      <td>9.287500</td>\n",
              "      <td>...</td>\n",
              "      <td>6.000000</td>\n",
              "      <td>5.200000</td>\n",
              "      <td>4.345000</td>\n",
              "      <td>5.115000</td>\n",
              "      <td>2.081000</td>\n",
              "      <td>67.000000</td>\n",
              "      <td>130.000000</td>\n",
              "      <td>305.000000</td>\n",
              "      <td>0.000000</td>\n",
              "      <td>10.000000</td>\n",
              "    </tr>\n",
              "    <tr>\n",
              "      <th>max</th>\n",
              "      <td>8789.000000</td>\n",
              "      <td>93600.000000</td>\n",
              "      <td>100.000000</td>\n",
              "      <td>902.000000</td>\n",
              "      <td>88.320000</td>\n",
              "      <td>100.000000</td>\n",
              "      <td>99.800000</td>\n",
              "      <td>100.000000</td>\n",
              "      <td>79.000000</td>\n",
              "      <td>99.800000</td>\n",
              "      <td>...</td>\n",
              "      <td>10000.000000</td>\n",
              "      <td>1714.500000</td>\n",
              "      <td>95.600000</td>\n",
              "      <td>83.689000</td>\n",
              "      <td>74.623000</td>\n",
              "      <td>3100.000000</td>\n",
              "      <td>1184.000000</td>\n",
              "      <td>5717.000000</td>\n",
              "      <td>81.000000</td>\n",
              "      <td>11.000000</td>\n",
              "    </tr>\n",
              "  </tbody>\n",
              "</table>\n",
              "<p>8 rows × 52 columns</p>\n",
              "</div>\n",
              "    <div class=\"colab-df-buttons\">\n",
              "\n",
              "  <div class=\"colab-df-container\">\n",
              "    <button class=\"colab-df-convert\" onclick=\"convertToInteractive('df-24422308-4394-40d5-8909-b075647068c1')\"\n",
              "            title=\"Convert this dataframe to an interactive table.\"\n",
              "            style=\"display:none;\">\n",
              "\n",
              "  <svg xmlns=\"http://www.w3.org/2000/svg\" height=\"24px\" viewBox=\"0 -960 960 960\">\n",
              "    <path d=\"M120-120v-720h720v720H120Zm60-500h600v-160H180v160Zm220 220h160v-160H400v160Zm0 220h160v-160H400v160ZM180-400h160v-160H180v160Zm440 0h160v-160H620v160ZM180-180h160v-160H180v160Zm440 0h160v-160H620v160Z\"/>\n",
              "  </svg>\n",
              "    </button>\n",
              "\n",
              "  <style>\n",
              "    .colab-df-container {\n",
              "      display:flex;\n",
              "      gap: 12px;\n",
              "    }\n",
              "\n",
              "    .colab-df-convert {\n",
              "      background-color: #E8F0FE;\n",
              "      border: none;\n",
              "      border-radius: 50%;\n",
              "      cursor: pointer;\n",
              "      display: none;\n",
              "      fill: #1967D2;\n",
              "      height: 32px;\n",
              "      padding: 0 0 0 0;\n",
              "      width: 32px;\n",
              "    }\n",
              "\n",
              "    .colab-df-convert:hover {\n",
              "      background-color: #E2EBFA;\n",
              "      box-shadow: 0px 1px 2px rgba(60, 64, 67, 0.3), 0px 1px 3px 1px rgba(60, 64, 67, 0.15);\n",
              "      fill: #174EA6;\n",
              "    }\n",
              "\n",
              "    .colab-df-buttons div {\n",
              "      margin-bottom: 4px;\n",
              "    }\n",
              "\n",
              "    [theme=dark] .colab-df-convert {\n",
              "      background-color: #3B4455;\n",
              "      fill: #D2E3FC;\n",
              "    }\n",
              "\n",
              "    [theme=dark] .colab-df-convert:hover {\n",
              "      background-color: #434B5C;\n",
              "      box-shadow: 0px 1px 3px 1px rgba(0, 0, 0, 0.15);\n",
              "      filter: drop-shadow(0px 1px 2px rgba(0, 0, 0, 0.3));\n",
              "      fill: #FFFFFF;\n",
              "    }\n",
              "  </style>\n",
              "\n",
              "    <script>\n",
              "      const buttonEl =\n",
              "        document.querySelector('#df-24422308-4394-40d5-8909-b075647068c1 button.colab-df-convert');\n",
              "      buttonEl.style.display =\n",
              "        google.colab.kernel.accessAllowed ? 'block' : 'none';\n",
              "\n",
              "      async function convertToInteractive(key) {\n",
              "        const element = document.querySelector('#df-24422308-4394-40d5-8909-b075647068c1');\n",
              "        const dataTable =\n",
              "          await google.colab.kernel.invokeFunction('convertToInteractive',\n",
              "                                                    [key], {});\n",
              "        if (!dataTable) return;\n",
              "\n",
              "        const docLinkHtml = 'Like what you see? Visit the ' +\n",
              "          '<a target=\"_blank\" href=https://colab.research.google.com/notebooks/data_table.ipynb>data table notebook</a>'\n",
              "          + ' to learn more about interactive tables.';\n",
              "        element.innerHTML = '';\n",
              "        dataTable['output_type'] = 'display_data';\n",
              "        await google.colab.output.renderOutput(dataTable, element);\n",
              "        const docLink = document.createElement('div');\n",
              "        docLink.innerHTML = docLinkHtml;\n",
              "        element.appendChild(docLink);\n",
              "      }\n",
              "    </script>\n",
              "  </div>\n",
              "\n",
              "\n",
              "<div id=\"df-b93f91d0-dd6d-419f-877f-083b04e8aecf\">\n",
              "  <button class=\"colab-df-quickchart\" onclick=\"quickchart('df-b93f91d0-dd6d-419f-877f-083b04e8aecf')\"\n",
              "            title=\"Suggest charts\"\n",
              "            style=\"display:none;\">\n",
              "\n",
              "<svg xmlns=\"http://www.w3.org/2000/svg\" height=\"24px\"viewBox=\"0 0 24 24\"\n",
              "     width=\"24px\">\n",
              "    <g>\n",
              "        <path d=\"M19 3H5c-1.1 0-2 .9-2 2v14c0 1.1.9 2 2 2h14c1.1 0 2-.9 2-2V5c0-1.1-.9-2-2-2zM9 17H7v-7h2v7zm4 0h-2V7h2v10zm4 0h-2v-4h2v4z\"/>\n",
              "    </g>\n",
              "</svg>\n",
              "  </button>\n",
              "\n",
              "<style>\n",
              "  .colab-df-quickchart {\n",
              "      --bg-color: #E8F0FE;\n",
              "      --fill-color: #1967D2;\n",
              "      --hover-bg-color: #E2EBFA;\n",
              "      --hover-fill-color: #174EA6;\n",
              "      --disabled-fill-color: #AAA;\n",
              "      --disabled-bg-color: #DDD;\n",
              "  }\n",
              "\n",
              "  [theme=dark] .colab-df-quickchart {\n",
              "      --bg-color: #3B4455;\n",
              "      --fill-color: #D2E3FC;\n",
              "      --hover-bg-color: #434B5C;\n",
              "      --hover-fill-color: #FFFFFF;\n",
              "      --disabled-bg-color: #3B4455;\n",
              "      --disabled-fill-color: #666;\n",
              "  }\n",
              "\n",
              "  .colab-df-quickchart {\n",
              "    background-color: var(--bg-color);\n",
              "    border: none;\n",
              "    border-radius: 50%;\n",
              "    cursor: pointer;\n",
              "    display: none;\n",
              "    fill: var(--fill-color);\n",
              "    height: 32px;\n",
              "    padding: 0;\n",
              "    width: 32px;\n",
              "  }\n",
              "\n",
              "  .colab-df-quickchart:hover {\n",
              "    background-color: var(--hover-bg-color);\n",
              "    box-shadow: 0 1px 2px rgba(60, 64, 67, 0.3), 0 1px 3px 1px rgba(60, 64, 67, 0.15);\n",
              "    fill: var(--button-hover-fill-color);\n",
              "  }\n",
              "\n",
              "  .colab-df-quickchart-complete:disabled,\n",
              "  .colab-df-quickchart-complete:disabled:hover {\n",
              "    background-color: var(--disabled-bg-color);\n",
              "    fill: var(--disabled-fill-color);\n",
              "    box-shadow: none;\n",
              "  }\n",
              "\n",
              "  .colab-df-spinner {\n",
              "    border: 2px solid var(--fill-color);\n",
              "    border-color: transparent;\n",
              "    border-bottom-color: var(--fill-color);\n",
              "    animation:\n",
              "      spin 1s steps(1) infinite;\n",
              "  }\n",
              "\n",
              "  @keyframes spin {\n",
              "    0% {\n",
              "      border-color: transparent;\n",
              "      border-bottom-color: var(--fill-color);\n",
              "      border-left-color: var(--fill-color);\n",
              "    }\n",
              "    20% {\n",
              "      border-color: transparent;\n",
              "      border-left-color: var(--fill-color);\n",
              "      border-top-color: var(--fill-color);\n",
              "    }\n",
              "    30% {\n",
              "      border-color: transparent;\n",
              "      border-left-color: var(--fill-color);\n",
              "      border-top-color: var(--fill-color);\n",
              "      border-right-color: var(--fill-color);\n",
              "    }\n",
              "    40% {\n",
              "      border-color: transparent;\n",
              "      border-right-color: var(--fill-color);\n",
              "      border-top-color: var(--fill-color);\n",
              "    }\n",
              "    60% {\n",
              "      border-color: transparent;\n",
              "      border-right-color: var(--fill-color);\n",
              "    }\n",
              "    80% {\n",
              "      border-color: transparent;\n",
              "      border-right-color: var(--fill-color);\n",
              "      border-bottom-color: var(--fill-color);\n",
              "    }\n",
              "    90% {\n",
              "      border-color: transparent;\n",
              "      border-bottom-color: var(--fill-color);\n",
              "    }\n",
              "  }\n",
              "</style>\n",
              "\n",
              "  <script>\n",
              "    async function quickchart(key) {\n",
              "      const quickchartButtonEl =\n",
              "        document.querySelector('#' + key + ' button');\n",
              "      quickchartButtonEl.disabled = true;  // To prevent multiple clicks.\n",
              "      quickchartButtonEl.classList.add('colab-df-spinner');\n",
              "      try {\n",
              "        const charts = await google.colab.kernel.invokeFunction(\n",
              "            'suggestCharts', [key], {});\n",
              "      } catch (error) {\n",
              "        console.error('Error during call to suggestCharts:', error);\n",
              "      }\n",
              "      quickchartButtonEl.classList.remove('colab-df-spinner');\n",
              "      quickchartButtonEl.classList.add('colab-df-quickchart-complete');\n",
              "    }\n",
              "    (() => {\n",
              "      let quickchartButtonEl =\n",
              "        document.querySelector('#df-b93f91d0-dd6d-419f-877f-083b04e8aecf button');\n",
              "      quickchartButtonEl.style.display =\n",
              "        google.colab.kernel.accessAllowed ? 'block' : 'none';\n",
              "    })();\n",
              "  </script>\n",
              "</div>\n",
              "    </div>\n",
              "  </div>\n"
            ],
            "application/vnd.google.colaboratory.intrinsic+json": {
              "type": "dataframe"
            }
          },
          "metadata": {},
          "execution_count": 87
        }
      ]
    },
    {
      "cell_type": "code",
      "source": [
        "cat_data_v.info()"
      ],
      "metadata": {
        "colab": {
          "base_uri": "https://localhost:8080/"
        },
        "id": "tMS6iTUL392x",
        "outputId": "b06937fc-99dc-403c-e345-231105a3679e"
      },
      "execution_count": null,
      "outputs": [
        {
          "output_type": "stream",
          "name": "stdout",
          "text": [
            "<class 'pandas.core.frame.DataFrame'>\n",
            "RangeIndex: 8790 entries, 0 to 8789\n",
            "Data columns (total 3 columns):\n",
            " #   Column      Non-Null Count  Dtype \n",
            "---  ------      --------------  ----- \n",
            " 0   Shrt_Desc   8790 non-null   object\n",
            " 1   GmWt_Desc1  8491 non-null   object\n",
            " 2   GmWt_Desc2  4825 non-null   object\n",
            "dtypes: object(3)\n",
            "memory usage: 206.1+ KB\n"
          ]
        }
      ]
    },
    {
      "cell_type": "code",
      "source": [
        "cat_data_v.describe()"
      ],
      "metadata": {
        "colab": {
          "base_uri": "https://localhost:8080/",
          "height": 175
        },
        "id": "6vEE7K-O3-Qu",
        "outputId": "b8301e1d-1fc3-4f68-e213-a6827159cce3"
      },
      "execution_count": null,
      "outputs": [
        {
          "output_type": "execute_result",
          "data": {
            "text/plain": [
              "                                                Shrt_Desc GmWt_Desc1  \\\n",
              "count                                                8790       8491   \n",
              "unique                                               8787        911   \n",
              "top     BEEF,CHUCK,UNDER BLADE CNTR STEAK,BNLESS,DENVE...       3 oz   \n",
              "freq                                                    2       1409   \n",
              "\n",
              "       GmWt_Desc2  \n",
              "count        4825  \n",
              "unique        921  \n",
              "top         1 cup  \n",
              "freq          298  "
            ],
            "text/html": [
              "\n",
              "  <div id=\"df-d301c65d-1c42-4117-affb-d76f22f813a3\" class=\"colab-df-container\">\n",
              "    <div>\n",
              "<style scoped>\n",
              "    .dataframe tbody tr th:only-of-type {\n",
              "        vertical-align: middle;\n",
              "    }\n",
              "\n",
              "    .dataframe tbody tr th {\n",
              "        vertical-align: top;\n",
              "    }\n",
              "\n",
              "    .dataframe thead th {\n",
              "        text-align: right;\n",
              "    }\n",
              "</style>\n",
              "<table border=\"1\" class=\"dataframe\">\n",
              "  <thead>\n",
              "    <tr style=\"text-align: right;\">\n",
              "      <th></th>\n",
              "      <th>Shrt_Desc</th>\n",
              "      <th>GmWt_Desc1</th>\n",
              "      <th>GmWt_Desc2</th>\n",
              "    </tr>\n",
              "  </thead>\n",
              "  <tbody>\n",
              "    <tr>\n",
              "      <th>count</th>\n",
              "      <td>8790</td>\n",
              "      <td>8491</td>\n",
              "      <td>4825</td>\n",
              "    </tr>\n",
              "    <tr>\n",
              "      <th>unique</th>\n",
              "      <td>8787</td>\n",
              "      <td>911</td>\n",
              "      <td>921</td>\n",
              "    </tr>\n",
              "    <tr>\n",
              "      <th>top</th>\n",
              "      <td>BEEF,CHUCK,UNDER BLADE CNTR STEAK,BNLESS,DENVE...</td>\n",
              "      <td>3 oz</td>\n",
              "      <td>1 cup</td>\n",
              "    </tr>\n",
              "    <tr>\n",
              "      <th>freq</th>\n",
              "      <td>2</td>\n",
              "      <td>1409</td>\n",
              "      <td>298</td>\n",
              "    </tr>\n",
              "  </tbody>\n",
              "</table>\n",
              "</div>\n",
              "    <div class=\"colab-df-buttons\">\n",
              "\n",
              "  <div class=\"colab-df-container\">\n",
              "    <button class=\"colab-df-convert\" onclick=\"convertToInteractive('df-d301c65d-1c42-4117-affb-d76f22f813a3')\"\n",
              "            title=\"Convert this dataframe to an interactive table.\"\n",
              "            style=\"display:none;\">\n",
              "\n",
              "  <svg xmlns=\"http://www.w3.org/2000/svg\" height=\"24px\" viewBox=\"0 -960 960 960\">\n",
              "    <path d=\"M120-120v-720h720v720H120Zm60-500h600v-160H180v160Zm220 220h160v-160H400v160Zm0 220h160v-160H400v160ZM180-400h160v-160H180v160Zm440 0h160v-160H620v160ZM180-180h160v-160H180v160Zm440 0h160v-160H620v160Z\"/>\n",
              "  </svg>\n",
              "    </button>\n",
              "\n",
              "  <style>\n",
              "    .colab-df-container {\n",
              "      display:flex;\n",
              "      gap: 12px;\n",
              "    }\n",
              "\n",
              "    .colab-df-convert {\n",
              "      background-color: #E8F0FE;\n",
              "      border: none;\n",
              "      border-radius: 50%;\n",
              "      cursor: pointer;\n",
              "      display: none;\n",
              "      fill: #1967D2;\n",
              "      height: 32px;\n",
              "      padding: 0 0 0 0;\n",
              "      width: 32px;\n",
              "    }\n",
              "\n",
              "    .colab-df-convert:hover {\n",
              "      background-color: #E2EBFA;\n",
              "      box-shadow: 0px 1px 2px rgba(60, 64, 67, 0.3), 0px 1px 3px 1px rgba(60, 64, 67, 0.15);\n",
              "      fill: #174EA6;\n",
              "    }\n",
              "\n",
              "    .colab-df-buttons div {\n",
              "      margin-bottom: 4px;\n",
              "    }\n",
              "\n",
              "    [theme=dark] .colab-df-convert {\n",
              "      background-color: #3B4455;\n",
              "      fill: #D2E3FC;\n",
              "    }\n",
              "\n",
              "    [theme=dark] .colab-df-convert:hover {\n",
              "      background-color: #434B5C;\n",
              "      box-shadow: 0px 1px 3px 1px rgba(0, 0, 0, 0.15);\n",
              "      filter: drop-shadow(0px 1px 2px rgba(0, 0, 0, 0.3));\n",
              "      fill: #FFFFFF;\n",
              "    }\n",
              "  </style>\n",
              "\n",
              "    <script>\n",
              "      const buttonEl =\n",
              "        document.querySelector('#df-d301c65d-1c42-4117-affb-d76f22f813a3 button.colab-df-convert');\n",
              "      buttonEl.style.display =\n",
              "        google.colab.kernel.accessAllowed ? 'block' : 'none';\n",
              "\n",
              "      async function convertToInteractive(key) {\n",
              "        const element = document.querySelector('#df-d301c65d-1c42-4117-affb-d76f22f813a3');\n",
              "        const dataTable =\n",
              "          await google.colab.kernel.invokeFunction('convertToInteractive',\n",
              "                                                    [key], {});\n",
              "        if (!dataTable) return;\n",
              "\n",
              "        const docLinkHtml = 'Like what you see? Visit the ' +\n",
              "          '<a target=\"_blank\" href=https://colab.research.google.com/notebooks/data_table.ipynb>data table notebook</a>'\n",
              "          + ' to learn more about interactive tables.';\n",
              "        element.innerHTML = '';\n",
              "        dataTable['output_type'] = 'display_data';\n",
              "        await google.colab.output.renderOutput(dataTable, element);\n",
              "        const docLink = document.createElement('div');\n",
              "        docLink.innerHTML = docLinkHtml;\n",
              "        element.appendChild(docLink);\n",
              "      }\n",
              "    </script>\n",
              "  </div>\n",
              "\n",
              "\n",
              "<div id=\"df-8b52a369-fd2c-4bdb-be53-203ff0bab7cb\">\n",
              "  <button class=\"colab-df-quickchart\" onclick=\"quickchart('df-8b52a369-fd2c-4bdb-be53-203ff0bab7cb')\"\n",
              "            title=\"Suggest charts\"\n",
              "            style=\"display:none;\">\n",
              "\n",
              "<svg xmlns=\"http://www.w3.org/2000/svg\" height=\"24px\"viewBox=\"0 0 24 24\"\n",
              "     width=\"24px\">\n",
              "    <g>\n",
              "        <path d=\"M19 3H5c-1.1 0-2 .9-2 2v14c0 1.1.9 2 2 2h14c1.1 0 2-.9 2-2V5c0-1.1-.9-2-2-2zM9 17H7v-7h2v7zm4 0h-2V7h2v10zm4 0h-2v-4h2v4z\"/>\n",
              "    </g>\n",
              "</svg>\n",
              "  </button>\n",
              "\n",
              "<style>\n",
              "  .colab-df-quickchart {\n",
              "      --bg-color: #E8F0FE;\n",
              "      --fill-color: #1967D2;\n",
              "      --hover-bg-color: #E2EBFA;\n",
              "      --hover-fill-color: #174EA6;\n",
              "      --disabled-fill-color: #AAA;\n",
              "      --disabled-bg-color: #DDD;\n",
              "  }\n",
              "\n",
              "  [theme=dark] .colab-df-quickchart {\n",
              "      --bg-color: #3B4455;\n",
              "      --fill-color: #D2E3FC;\n",
              "      --hover-bg-color: #434B5C;\n",
              "      --hover-fill-color: #FFFFFF;\n",
              "      --disabled-bg-color: #3B4455;\n",
              "      --disabled-fill-color: #666;\n",
              "  }\n",
              "\n",
              "  .colab-df-quickchart {\n",
              "    background-color: var(--bg-color);\n",
              "    border: none;\n",
              "    border-radius: 50%;\n",
              "    cursor: pointer;\n",
              "    display: none;\n",
              "    fill: var(--fill-color);\n",
              "    height: 32px;\n",
              "    padding: 0;\n",
              "    width: 32px;\n",
              "  }\n",
              "\n",
              "  .colab-df-quickchart:hover {\n",
              "    background-color: var(--hover-bg-color);\n",
              "    box-shadow: 0 1px 2px rgba(60, 64, 67, 0.3), 0 1px 3px 1px rgba(60, 64, 67, 0.15);\n",
              "    fill: var(--button-hover-fill-color);\n",
              "  }\n",
              "\n",
              "  .colab-df-quickchart-complete:disabled,\n",
              "  .colab-df-quickchart-complete:disabled:hover {\n",
              "    background-color: var(--disabled-bg-color);\n",
              "    fill: var(--disabled-fill-color);\n",
              "    box-shadow: none;\n",
              "  }\n",
              "\n",
              "  .colab-df-spinner {\n",
              "    border: 2px solid var(--fill-color);\n",
              "    border-color: transparent;\n",
              "    border-bottom-color: var(--fill-color);\n",
              "    animation:\n",
              "      spin 1s steps(1) infinite;\n",
              "  }\n",
              "\n",
              "  @keyframes spin {\n",
              "    0% {\n",
              "      border-color: transparent;\n",
              "      border-bottom-color: var(--fill-color);\n",
              "      border-left-color: var(--fill-color);\n",
              "    }\n",
              "    20% {\n",
              "      border-color: transparent;\n",
              "      border-left-color: var(--fill-color);\n",
              "      border-top-color: var(--fill-color);\n",
              "    }\n",
              "    30% {\n",
              "      border-color: transparent;\n",
              "      border-left-color: var(--fill-color);\n",
              "      border-top-color: var(--fill-color);\n",
              "      border-right-color: var(--fill-color);\n",
              "    }\n",
              "    40% {\n",
              "      border-color: transparent;\n",
              "      border-right-color: var(--fill-color);\n",
              "      border-top-color: var(--fill-color);\n",
              "    }\n",
              "    60% {\n",
              "      border-color: transparent;\n",
              "      border-right-color: var(--fill-color);\n",
              "    }\n",
              "    80% {\n",
              "      border-color: transparent;\n",
              "      border-right-color: var(--fill-color);\n",
              "      border-bottom-color: var(--fill-color);\n",
              "    }\n",
              "    90% {\n",
              "      border-color: transparent;\n",
              "      border-bottom-color: var(--fill-color);\n",
              "    }\n",
              "  }\n",
              "</style>\n",
              "\n",
              "  <script>\n",
              "    async function quickchart(key) {\n",
              "      const quickchartButtonEl =\n",
              "        document.querySelector('#' + key + ' button');\n",
              "      quickchartButtonEl.disabled = true;  // To prevent multiple clicks.\n",
              "      quickchartButtonEl.classList.add('colab-df-spinner');\n",
              "      try {\n",
              "        const charts = await google.colab.kernel.invokeFunction(\n",
              "            'suggestCharts', [key], {});\n",
              "      } catch (error) {\n",
              "        console.error('Error during call to suggestCharts:', error);\n",
              "      }\n",
              "      quickchartButtonEl.classList.remove('colab-df-spinner');\n",
              "      quickchartButtonEl.classList.add('colab-df-quickchart-complete');\n",
              "    }\n",
              "    (() => {\n",
              "      let quickchartButtonEl =\n",
              "        document.querySelector('#df-8b52a369-fd2c-4bdb-be53-203ff0bab7cb button');\n",
              "      quickchartButtonEl.style.display =\n",
              "        google.colab.kernel.accessAllowed ? 'block' : 'none';\n",
              "    })();\n",
              "  </script>\n",
              "</div>\n",
              "    </div>\n",
              "  </div>\n"
            ],
            "application/vnd.google.colaboratory.intrinsic+json": {
              "type": "dataframe",
              "summary": "{\n  \"name\": \"cat_data_v\",\n  \"rows\": 4,\n  \"fields\": [\n    {\n      \"column\": \"Shrt_Desc\",\n      \"properties\": {\n        \"dtype\": \"string\",\n        \"num_unique_values\": 4,\n        \"samples\": [\n          8787,\n          \"2\",\n          \"8790\"\n        ],\n        \"semantic_type\": \"\",\n        \"description\": \"\"\n      }\n    },\n    {\n      \"column\": \"GmWt_Desc1\",\n      \"properties\": {\n        \"dtype\": \"string\",\n        \"num_unique_values\": 4,\n        \"samples\": [\n          911,\n          \"1409\",\n          \"8491\"\n        ],\n        \"semantic_type\": \"\",\n        \"description\": \"\"\n      }\n    },\n    {\n      \"column\": \"GmWt_Desc2\",\n      \"properties\": {\n        \"dtype\": \"string\",\n        \"num_unique_values\": 4,\n        \"samples\": [\n          921,\n          \"298\",\n          \"4825\"\n        ],\n        \"semantic_type\": \"\",\n        \"description\": \"\"\n      }\n    }\n  ]\n}"
            }
          },
          "metadata": {},
          "execution_count": 89
        }
      ]
    },
    {
      "cell_type": "markdown",
      "source": [
        "3) Придумайте способ осмысленного разбиения этих данных на несколько классов. Создайте новый столбец CLASS и поместите в него метки классов. Визуализируйте выполненное разбиение. Следующие действия выполняются над тремя версиями таблицы: а) ваш вариант б) разбиение одногруппника в) таблица с метками классов из файла в этом задании."
      ],
      "metadata": {
        "id": "nrZ6dhJp4LWF"
      }
    },
    {
      "cell_type": "code",
      "source": [
        "data_v.rename(columns = {'Water_(g)':'Water_g', 'Protein_(g)':'Protein_g', 'Lipid_Tot_(g)':'Lipid_Tot_g', 'Ash_(g)':'Ash_g', 'Carbohydrt_(g)':'Carbohydrt_g', 'Fiber_TD_(g)':'Fiber_TD_g',\n",
        "                       'Sugar_Tot_(g)':'Sugar_Tot_g', 'Calcium_(mg)':'Calcium_mg', 'Iron_(mg)':'Iron_mg', 'Magnesium_(mg)':'Magnesium_mg', 'Phosphorus_(mg)':'Phosphorus_mg',\n",
        "                       'Potassium_(mg)':'Potassium_mg', 'Sodium_(mg)':'Sodium_mg', 'Zinc_(mg)':'Zinc_mg', 'Copper_mg)':'Copper_mg', 'Manganese_(mg)':'Manganese_mg',\n",
        "                       'Selenium_(µg)':'Selenium_µg', 'Vit_C_(mg)':'Vit_C_mg', 'Thiamin_(mg)':'Thiamin_mg', 'Riboflavin_(mg)':'Riboflavin_mg', 'Niacin_(mg)':'Niacin_mg',\n",
        "                       'Panto_Acid_mg)':'Panto_Acid_mg', 'Vit_B6_(mg)':'Vit_B6_mg', 'Folate_Tot_(µg)':'Folate_Tot_µg', 'Food_Folate_(µg)':'Food_Folate_µg',\n",
        "                       'Folate_DFE_(µg)':'Folate_DFE_µg', 'Choline_Tot_ (mg)':'Choline_Tot_mg', 'Folic_Acid_(µg)':'Folic_Acid_µg', 'Vit_B12_(µg)':'Vit_B12_µg',\n",
        "                       'Retinol_(µg)':'Retinol_µg', 'Alpha_Carot_(µg)':'Alpha_Carot_µg', 'Beta_Carot_(µg)':'Beta_Carot_µg', 'Vit_B12_(µg)':'Vit_B12_µg', 'Beta_Crypt_(µg)':'Beta_Crypt_µg',\n",
        "                       'Lycopene_(µg)':'Lycopene_µg', 'Lut+Zea_ (µg)':'Lut+Zea_µg', 'Vit_E_(mg)':'Vit_E_mg', 'Vit_K_(µg)':'Vit_K_µg','FA_Sat_(g)':'FA_Sat_g',\n",
        "                       'FA_Mono_(g)':'FA_Mono_g', 'FA_Poly_(g)':'FA_Poly_g', 'Cholestrl_(mg)':'Cholestrl_mg',\n",
        "                       }, inplace = True )\n",
        "num_data_v.rename(columns = {'Water_(g)':'Water_g', 'Protein_(g)':'Protein_g', 'Lipid_Tot_(g)':'Lipid_Tot_g', 'Ash_(g)':'Ash_g', 'Carbohydrt_(g)':'Carbohydrt_g', 'Fiber_TD_(g)':'Fiber_TD_g',\n",
        "                       'Sugar_Tot_(g)':'Sugar_Tot_g', 'Calcium_(mg)':'Calcium_mg', 'Iron_(mg)':'Iron_mg', 'Magnesium_(mg)':'Magnesium_mg', 'Phosphorus_(mg)':'Phosphorus_mg',\n",
        "                       'Potassium_(mg)':'Potassium_mg', 'Sodium_(mg)':'Sodium_mg', 'Zinc_(mg)':'Zinc_mg', 'Copper_mg)':'Copper_mg', 'Manganese_(mg)':'Manganese_mg',\n",
        "                       'Selenium_(µg)':'Selenium_mg', 'Vit_C_(mg)':'Vit_C_mg', 'Thiamin_(mg)':'Thiamin_mg', 'Riboflavin_(mg)':'Riboflavin_mg', 'Niacin_(mg)':'Niacin_mg',\n",
        "                       'Panto_Acid_mg)':'Panto_Acid_mg', 'Vit_B6_(mg)':'Vit_B6_mg', 'Folate_Tot_(µg)':'Folate_Tot_mg', 'Food_Folate_(µg)':'Food_Folate_mg',\n",
        "                       'Folate_DFE_(µg)':'Folate_DFE_mg', 'Choline_Tot_ (mg)':'Choline_Tot_mg', 'Folic_Acid_(µg)':'Folic_Acid_mg', 'Vit_B12_(µg)':'Vit_B12_mg',\n",
        "                       'Retinol_(µg)':'Retinol_mg', 'Alpha_Carot_(µg)':'Alpha_Carot_mg', 'Beta_Carot_(µg)':'Beta_Carot_mg', 'Vit_B12_(µg)':'Vit_B12_mg', 'Beta_Crypt_(µg)':'Beta_Crypt_mg',\n",
        "                       'Lycopene_(µg)':'Lycopene_mg', 'Lut+Zea_ (µg)':'Lut_Zea_mg', 'Vit_E_(mg)':'Vit_E_mg', 'Vit_K_(µg)':'Vit_K_mg','FA_Sat_(g)':'FA_Sat_g',\n",
        "                       'FA_Mono_(g)':'FA_Mono_g', 'FA_Poly_(g)':'FA_Poly_g', 'Cholestrl_(mg)':'Cholestrl_mg', 'Vit_D_µg' : 'Vit_D_mg',\n",
        "                       }, inplace = True )"
      ],
      "metadata": {
        "colab": {
          "base_uri": "https://localhost:8080/"
        },
        "id": "BE_fGrMW4Tlz",
        "outputId": "6afc12c6-dee0-4145-e84a-bbdd8e5db200"
      },
      "execution_count": null,
      "outputs": [
        {
          "output_type": "stream",
          "name": "stderr",
          "text": [
            "<ipython-input-90-6dec9dc33440>:11: SettingWithCopyWarning: \n",
            "A value is trying to be set on a copy of a slice from a DataFrame\n",
            "\n",
            "See the caveats in the documentation: https://pandas.pydata.org/pandas-docs/stable/user_guide/indexing.html#returning-a-view-versus-a-copy\n",
            "  num_data_v.rename(columns = {'Water_(g)':'Water_g', 'Protein_(g)':'Protein_g', 'Lipid_Tot_(g)':'Lipid_Tot_g', 'Ash_(g)':'Ash_g', 'Carbohydrt_(g)':'Carbohydrt_g', 'Fiber_TD_(g)':'Fiber_TD_g',\n"
          ]
        }
      ]
    },
    {
      "cell_type": "code",
      "source": [
        "num_data_v = num_data_v.drop(columns = 'NDB_No')"
      ],
      "metadata": {
        "id": "g4t19e-_4fhI"
      },
      "execution_count": null,
      "outputs": []
    },
    {
      "cell_type": "markdown",
      "source": [
        "3.1) выполните минимальные необходимые манипуляции (обработайте категориальные признаки и пропуски)"
      ],
      "metadata": {
        "id": "YpzyWrEk4hgh"
      }
    },
    {
      "cell_type": "code",
      "source": [
        "num_data_v.Water_g = num_data_v.Water_g.fillna(num_data_v.Water_g.median())\n",
        "num_data_v.Ash_g = num_data_v.Ash_g.fillna(num_data_v.Ash_g.median())\n",
        "num_data_v.Fiber_TD_g = num_data_v.Fiber_TD_g.fillna(num_data_v.Fiber_TD_g.median())\n",
        "num_data_v.Sugar_Tot_g = num_data_v.Sugar_Tot_g.fillna(num_data_v.Sugar_Tot_g.median())\n",
        "num_data_v.Calcium_mg = num_data_v.Calcium_mg.fillna(num_data_v.Calcium_mg.median())\n",
        "num_data_v.Iron_mg = num_data_v.Iron_mg.fillna(num_data_v.Iron_mg.median())\n",
        "num_data_v.Magnesium_mg = num_data_v.Magnesium_mg.fillna(num_data_v.Magnesium_mg.median())\n",
        "num_data_v.Phosphorus_mg = num_data_v.Phosphorus_mg.fillna(num_data_v.Phosphorus_mg.median())\n",
        "num_data_v.Potassium_mg = num_data_v.Potassium_mg.fillna(num_data_v.Potassium_mg.median())\n",
        "num_data_v.Sodium_mg = num_data_v.Sodium_mg.fillna(num_data_v.Sodium_mg.median())\n",
        "num_data_v.Zinc_mg = num_data_v.Zinc_mg.fillna(num_data_v.Zinc_mg.median())\n",
        "num_data_v.Copper_mg = num_data_v.Copper_mg.fillna(num_data_v.Copper_mg.median())\n",
        "num_data_v.Manganese_mg = num_data_v.Manganese_mg.fillna(num_data_v.Manganese_mg.median())\n",
        "num_data_v.Selenium_mg = num_data_v.Selenium_mg.fillna(num_data_v.Selenium_mg.median())\n",
        "num_data_v.Vit_C_mg = num_data_v.Vit_C_mg.fillna(num_data_v.Vit_C_mg.median())\n",
        "num_data_v.Thiamin_mg = num_data_v.Thiamin_mg.fillna(num_data_v.Thiamin_mg.median())\n",
        "num_data_v.Riboflavin_mg = num_data_v.Riboflavin_mg.fillna(num_data_v.Riboflavin_mg.median())\n",
        "num_data_v.Niacin_mg = num_data_v.Niacin_mg.fillna(num_data_v.Niacin_mg.median())\n",
        "num_data_v.Panto_Acid_mg = num_data_v.Panto_Acid_mg.fillna(num_data_v.Panto_Acid_mg.median())\n",
        "num_data_v.Vit_B6_mg = num_data_v.Vit_B6_mg.fillna(num_data_v.Vit_B6_mg.median())\n",
        "num_data_v.Folate_Tot_mg = num_data_v.Folate_Tot_mg.fillna(num_data_v.Folate_Tot_mg.median())\n",
        "num_data_v.Folic_Acid_mg = num_data_v.Folic_Acid_mg.fillna(num_data_v.Folic_Acid_mg.median())\n",
        "num_data_v.Food_Folate_mg = num_data_v.Food_Folate_mg.fillna(num_data_v.Food_Folate_mg.median())\n",
        "num_data_v.Folate_DFE_mg = num_data_v.Folate_DFE_mg.fillna(num_data_v.Folate_DFE_mg.median())\n",
        "num_data_v.Choline_Tot_mg = num_data_v.Choline_Tot_mg.fillna(num_data_v.Choline_Tot_mg.median())\n",
        "num_data_v.Vit_B12_mg = num_data_v.Vit_B12_mg.fillna(num_data_v.Vit_B12_mg.median())\n",
        "num_data_v.Vit_A_IU = num_data_v.Vit_A_IU.fillna(num_data_v.Vit_A_IU.median())\n",
        "num_data_v.Vit_A_RAE = num_data_v.Vit_A_RAE.fillna(num_data_v.Vit_A_RAE.median())\n",
        "num_data_v.Retinol_mg = num_data_v.Retinol_mg.fillna(num_data_v.Retinol_mg.median())\n",
        "num_data_v.Alpha_Carot_mg = num_data_v.Alpha_Carot_mg.fillna(num_data_v.Alpha_Carot_mg.median())\n",
        "num_data_v.Beta_Carot_mg = num_data_v.Beta_Carot_mg.fillna(num_data_v.Beta_Carot_mg.median())\n",
        "num_data_v.Beta_Crypt_mg = num_data_v.Beta_Crypt_mg.fillna(num_data_v.Beta_Crypt_mg.median())\n",
        "num_data_v.Lycopene_mg = num_data_v.Lycopene_mg.fillna(num_data_v.Lycopene_mg.median())\n",
        "num_data_v.Lut_Zea_mg = num_data_v.Lut_Zea_mg.fillna(num_data_v.Lut_Zea_mg.median())\n",
        "num_data_v.Vit_E_mg = num_data_v.Vit_E_mg.fillna(num_data_v.Vit_E_mg.median())\n",
        "num_data_v.Vit_D_mg = num_data_v.Vit_D_mg.fillna(num_data_v.Vit_D_mg.median())\n",
        "num_data_v.Vit_D_IU = num_data_v.Vit_D_IU.fillna(num_data_v.Vit_D_IU.median())\n",
        "num_data_v.Vit_K_mg = num_data_v.Vit_K_mg.fillna(num_data_v.Vit_K_mg.median())\n",
        "num_data_v.FA_Sat_g = num_data_v.FA_Sat_g.fillna(num_data_v.FA_Sat_g.median())\n",
        "num_data_v.FA_Mono_g = num_data_v.FA_Mono_g.fillna(num_data_v.FA_Mono_g.median())\n",
        "num_data_v.FA_Poly_g = num_data_v.FA_Poly_g.fillna(num_data_v.FA_Poly_g.median())\n",
        "num_data_v.Cholestrl_mg = num_data_v.Cholestrl_mg.fillna(num_data_v.Cholestrl_mg.median())\n",
        "num_data_v.GmWt_1 = num_data_v.GmWt_1.fillna(num_data_v.GmWt_1.median())\n",
        "num_data_v.GmWt_2 = num_data_v.GmWt_2.fillna(num_data_v.GmWt_2.median())\n",
        "num_data_v.Refuse_Pct = num_data_v.Refuse_Pct.fillna(num_data_v.Refuse_Pct.median())"
      ],
      "metadata": {
        "id": "HfepPEqy4nBe"
      },
      "execution_count": null,
      "outputs": []
    },
    {
      "cell_type": "code",
      "source": [
        "sns.countplot(x = num_data_v['CLASS'])"
      ],
      "metadata": {
        "colab": {
          "base_uri": "https://localhost:8080/",
          "height": 466
        },
        "id": "1Cx-t8xG4nsm",
        "outputId": "23488755-5eb4-4534-c8f2-9b93d4276cd7"
      },
      "execution_count": null,
      "outputs": [
        {
          "output_type": "execute_result",
          "data": {
            "text/plain": [
              "<Axes: xlabel='CLASS', ylabel='count'>"
            ]
          },
          "metadata": {},
          "execution_count": 93
        },
        {
          "output_type": "display_data",
          "data": {
            "text/plain": [
              "<Figure size 640x480 with 1 Axes>"
            ],
            "image/png": "[encoded data removed]"
          },
          "metadata": {}
        }
      ]
    },
    {
      "cell_type": "markdown",
      "source": [
        "3.2) отделите столбец с меткой CLASS (Третий датасет)"
      ],
      "metadata": {
        "id": "72iax6GJ4rlO"
      }
    },
    {
      "cell_type": "code",
      "source": [
        "CLASS = num_data_v['CLASS'].squeeze()\n",
        "num_data_v = num_data_v.drop(['CLASS'], axis = 1)"
      ],
      "metadata": {
        "id": "oG_U28en4wyK"
      },
      "execution_count": null,
      "outputs": []
    },
    {
      "cell_type": "markdown",
      "source": [
        "3.3) разбейте данные на тренировочный и тестовый наборы. (Третий датасет)"
      ],
      "metadata": {
        "id": "GAvYJfx144hm"
      }
    },
    {
      "cell_type": "code",
      "source": [
        "from sklearn.model_selection import train_test_split\n",
        "X_train, X_test, y_train, y_test = train_test_split(num_data_v, CLASS, test_size = 0.3, random_state = 42)"
      ],
      "metadata": {
        "id": "YxjZhV0p46uJ"
      },
      "execution_count": null,
      "outputs": []
    },
    {
      "cell_type": "markdown",
      "source": [
        "4) Обучите классификатор KNeighborsClassifier на тренировочном наборе."
      ],
      "metadata": {
        "id": "8kKj946F495c"
      }
    },
    {
      "cell_type": "code",
      "source": [
        "from sklearn.neighbors import KNeighborsClassifier\n",
        "knn_nv = KNeighborsClassifier()\n",
        "knn_nv.fit(X_train, y_train)\n",
        "knn_nv.score(X_test, y_test)"
      ],
      "metadata": {
        "colab": {
          "base_uri": "https://localhost:8080/"
        },
        "id": "eX2Xwe4x5AQt",
        "outputId": "8fa6b2dc-9e79-4c79-be5b-5d5a61d58fdd"
      },
      "execution_count": null,
      "outputs": [
        {
          "output_type": "execute_result",
          "data": {
            "text/plain": [
              "0.8050815320439894"
            ]
          },
          "metadata": {},
          "execution_count": 96
        }
      ]
    },
    {
      "cell_type": "markdown",
      "source": [
        "5) Используйте обученную модель на тестовых данных, оцените полученные результаты. Используйте визуализацию и несколько метрик."
      ],
      "metadata": {
        "id": "ONpfSXbr5C8T"
      }
    },
    {
      "cell_type": "code",
      "source": [
        "#Тренировочный рабор\n",
        "from sklearn.metrics import classification_report\n",
        "y_pred = knn_nv.predict(X_train)"
      ],
      "metadata": {
        "id": "d5-lSOIq5JtD"
      },
      "execution_count": null,
      "outputs": []
    },
    {
      "cell_type": "code",
      "source": [
        "#Тестовый набор\n",
        "y_pred = knn_nv.predict(X_test)"
      ],
      "metadata": {
        "id": "yDb-ue2c5Mbn"
      },
      "execution_count": null,
      "outputs": []
    },
    {
      "cell_type": "code",
      "source": [
        "#Матрица спутанности - правильность модели классификации\n",
        "from sklearn.metrics import confusion_matrix, ConfusionMatrixDisplay\n",
        "cm = confusion_matrix(y_test, y_pred, labels = knn_nv.classes_)\n",
        "ConfusionMatrixDisplay(confusion_matrix=cm, display_labels = knn_nv.classes_).plot();"
      ],
      "metadata": {
        "colab": {
          "base_uri": "https://localhost:8080/",
          "height": 449
        },
        "id": "t69fTvJv5OiQ",
        "outputId": "5c5466ab-f6e8-4282-c88b-f09f6e852d4a"
      },
      "execution_count": null,
      "outputs": [
        {
          "output_type": "display_data",
          "data": {
            "text/plain": [
              "<Figure size 640x480 with 2 Axes>"
            ],
            "image/png": "[encoded data removed]"
          },
          "metadata": {}
        }
      ]
    },
    {
      "cell_type": "markdown",
      "source": [
        "6) Нормализуйте данные двумя способами (например, примените StandardScaler и MinMaxScaler)."
      ],
      "metadata": {
        "id": "yet7Kxbg5Q_s"
      }
    },
    {
      "cell_type": "code",
      "source": [
        "#Нормализация с помощью StandartScaler\n",
        "from sklearn.preprocessing import StandardScaler\n",
        "scaler = StandardScaler()\n",
        "scaler.fit(X_train)\n",
        "X_train_nv_StandartScaler = pd.DataFrame(scaler.transform(X_train), columns = X_train.columns)\n",
        "X_test_nv_StandartScaler = pd.DataFrame(scaler.transform(X_test), columns = X_test.columns)"
      ],
      "metadata": {
        "id": "gHYZRPma5T75"
      },
      "execution_count": null,
      "outputs": []
    },
    {
      "cell_type": "code",
      "source": [
        "#Нормализация с помощью MinMaxScaler\n",
        "from sklearn.preprocessing import MinMaxScaler\n",
        "scaler = MinMaxScaler()\n",
        "scaler.fit(X_train)\n",
        "X_train_nv_MinMaxScaler = pd.DataFrame(scaler.transform(X_train), columns = X_train.columns)\n",
        "X_test_nv_MinMaxScaler = pd.DataFrame(scaler.transform(X_test), columns = X_test.columns)"
      ],
      "metadata": {
        "id": "F-c8pmO_5ZVI"
      },
      "execution_count": null,
      "outputs": []
    },
    {
      "cell_type": "markdown",
      "source": [
        "7) Обучите ещё две модели на нормализованных данных. Оцените и сравнить полученные результаты между собой и с результатами без нормализации."
      ],
      "metadata": {
        "id": "fzqXdj6_5cDA"
      }
    },
    {
      "cell_type": "code",
      "source": [
        "#Обучение на норм. данных с помощью StandardScaler\n",
        "from sklearn.neighbors import KNeighborsClassifier\n",
        "knn_nv_StandardScaler = KNeighborsClassifier()\n",
        "knn_nv_StandardScaler.fit(X_train_nv_StandartScaler, y_train)\n",
        "knn_nv_StandardScaler.score(X_test_nv_StandartScaler, y_test)"
      ],
      "metadata": {
        "colab": {
          "base_uri": "https://localhost:8080/"
        },
        "id": "e7uP2Anx5d-c",
        "outputId": "5a5669ab-cf7a-48e0-81cc-109301476045"
      },
      "execution_count": null,
      "outputs": [
        {
          "output_type": "execute_result",
          "data": {
            "text/plain": [
              "0.8532423208191127"
            ]
          },
          "metadata": {},
          "execution_count": 102
        }
      ]
    },
    {
      "cell_type": "code",
      "source": [
        "#Обучение на норм. данных с помощью MinMaxScaler\n",
        "from sklearn.neighbors import KNeighborsClassifier\n",
        "knn_nv_MinMaxScaler = KNeighborsClassifier()\n",
        "knn_nv_MinMaxScaler.fit(X_train_nv_MinMaxScaler, y_train)\n",
        "knn_nv_MinMaxScaler.score(X_test_nv_MinMaxScaler, y_test)"
      ],
      "metadata": {
        "colab": {
          "base_uri": "https://localhost:8080/"
        },
        "id": "3l23LD925fhQ",
        "outputId": "f0d15bc5-3380-4633-834a-4511b46dc10e"
      },
      "execution_count": null,
      "outputs": [
        {
          "output_type": "execute_result",
          "data": {
            "text/plain": [
              "0.8627227910504361"
            ]
          },
          "metadata": {},
          "execution_count": 103
        }
      ]
    },
    {
      "cell_type": "markdown",
      "source": [
        "10.4) использовать методы уменьшения размерности (например, PCA)"
      ],
      "metadata": {
        "id": "l2CLwr3g5ifI"
      }
    },
    {
      "cell_type": "code",
      "source": [
        "from sklearn.decomposition import PCA\n",
        "from sklearn.preprocessing import LabelEncoder\n",
        "scaler = StandardScaler()\n",
        "scaler.fit(num_data_v)\n",
        "X = pd.DataFrame(scaler.transform(num_data_v), columns = num_data_v.columns)\n",
        "\n",
        "pca = PCA(n_components=2)\n",
        "x_np = pca.fit_transform(X)\n",
        "X = pd.DataFrame(x_np)\n",
        "print(X)\n",
        "\n",
        "le = LabelEncoder()\n",
        "y = le.fit_transform(CLASS) #Целевой признак - класс, в котором распределена еда по содержанию витаминов\n",
        "print(y)\n",
        "\n",
        "X_train, X_test, y_train, y_test = train_test_split(X, y, test_size = 0.3, random_state = 42)\n",
        "knn_nv = KNeighborsClassifier()\n",
        "knn_nv.fit(X_train, y_train)\n",
        "knn_nv.score(X_test, y_test)"
      ],
      "metadata": {
        "colab": {
          "base_uri": "https://localhost:8080/"
        },
        "id": "Kn8dqON35nIF",
        "outputId": "3388442c-ab14-41af-fbe8-a7ebcbdc69b6"
      },
      "execution_count": null,
      "outputs": [
        {
          "output_type": "stream",
          "name": "stdout",
          "text": [
            "             0         1\n",
            "0    -0.135968 -6.045634\n",
            "1    -0.192470 -5.642618\n",
            "2     0.133613 -7.650679\n",
            "3     0.742543 -1.572485\n",
            "4     0.248366 -1.568034\n",
            "...        ...       ...\n",
            "8785  2.476239 -0.453473\n",
            "8786 -0.926407  0.927190\n",
            "8787 -0.756638 -1.296165\n",
            "8788 -0.223667  0.697266\n",
            "8789 -1.245558  1.166317\n",
            "\n",
            "[8790 rows x 2 columns]\n",
            "[2 2 0 ... 2 0 0]\n"
          ]
        },
        {
          "output_type": "execute_result",
          "data": {
            "text/plain": [
              "0.689419795221843"
            ]
          },
          "metadata": {},
          "execution_count": 104
        }
      ]
    },
    {
      "cell_type": "markdown",
      "source": [
        "8) Подберите значения гиперпараметров (количество соседей и метрику расстояния) с помощью GridSearchCV."
      ],
      "metadata": {
        "id": "YIFxsHu95yF9"
      }
    },
    {
      "cell_type": "code",
      "source": [
        "from mlxtend.plotting import plot_decision_regions\n",
        "fig, ax = plt.subplots(figsize=(10, 8))\n",
        "plot_decision_regions(x_np, y, clf=knn_nv, legend=4)"
      ],
      "metadata": {
        "colab": {
          "base_uri": "https://localhost:8080/",
          "height": 753
        },
        "id": "fqfv2V_854tU",
        "outputId": "c2df7746-d994-4c5b-ca89-e79cd9ed5051"
      },
      "execution_count": null,
      "outputs": [
        {
          "output_type": "stream",
          "name": "stderr",
          "text": [
            "/usr/local/lib/python3.10/dist-packages/mlxtend/plotting/decision_regions.py:346: UserWarning: You passed a edgecolor/edgecolors ('black') for an unfilled marker ('x').  Matplotlib is ignoring the edgecolor in favor of the facecolor.  This behavior may change in the future.\n",
            "  ax.scatter(\n"
          ]
        },
        {
          "output_type": "execute_result",
          "data": {
            "text/plain": [
              "<Axes: >"
            ]
          },
          "metadata": {},
          "execution_count": 105
        },
        {
          "output_type": "display_data",
          "data": {
            "text/plain": [
              "<Figure size 1000x800 with 1 Axes>"
            ],
            "image/png": "[encoded data removed]"
          },
          "metadata": {}
        }
      ]
    },
    {
      "cell_type": "code",
      "source": [
        "from sklearn.model_selection import GridSearchCV\n",
        "knn = KNeighborsClassifier()\n",
        "k_range = list(range(1,20))\n",
        "param_grid = dict(n_neighbors = k_range)\n",
        "grid = GridSearchCV(knn, param_grid, cv=2, scoring='accuracy', return_train_score=False,verbose=1)\n",
        "grid_search = grid.fit(X_train, y_train)\n",
        "print(grid_search.best_params_)\n",
        "print(grid_search.best_score_)"
      ],
      "metadata": {
        "colab": {
          "base_uri": "https://localhost:8080/"
        },
        "id": "r-wnBzOM57wP",
        "outputId": "fa806fdd-ca37-463e-d57a-40f82e36fbc6"
      },
      "execution_count": null,
      "outputs": [
        {
          "output_type": "stream",
          "name": "stdout",
          "text": [
            "Fitting 2 folds for each of 19 candidates, totalling 38 fits\n",
            "{'n_neighbors': 17}\n",
            "0.7118474224425273\n"
          ]
        }
      ]
    },
    {
      "cell_type": "markdown",
      "source": [
        "10.1) оставить только по одному из сильно коррелирующих признаков"
      ],
      "metadata": {
        "id": "L9Xf1Xhw6BG_"
      }
    },
    {
      "cell_type": "code",
      "source": [
        "#Удалим из таблицы лишние сильно коррелирующие признаки и посмотрим что будет.\n",
        "corr_matrix = num_data_v.corr().abs()\n",
        "upper_triangle = corr_matrix.where(np.triu(np.ones(corr_matrix.shape), k = 1).astype(bool))\n",
        "to_drop = [column for column in upper_triangle.columns if (any(upper_triangle[column] > 0.6))]\n",
        "#Удаляем ненужные столбцы\n",
        "num_data_v_copy1 = num_data_v\n",
        "num_data_v_copy1 = num_data_v_copy1.drop(to_drop, axis = 1)"
      ],
      "metadata": {
        "id": "gFvhh5FA6E5_"
      },
      "execution_count": null,
      "outputs": []
    },
    {
      "cell_type": "code",
      "source": [
        "#Разделим данные на тренировочные и тестовые, обучим KNN и посмотрим качество обучения.\n",
        "from sklearn.model_selection import train_test_split\n",
        "X_train, X_test, y_train, y_test = train_test_split(num_data_v_copy1, CLASS, test_size = 0.3, random_state = 42)"
      ],
      "metadata": {
        "id": "QhZlThp76JeM"
      },
      "execution_count": null,
      "outputs": []
    },
    {
      "cell_type": "code",
      "source": [
        "knn = KNeighborsClassifier()\n",
        "knn.fit(X_train, y_train)\n",
        "knn.score(X_test, y_test)"
      ],
      "metadata": {
        "colab": {
          "base_uri": "https://localhost:8080/"
        },
        "id": "PDui9_Di6Q1M",
        "outputId": "88be1db0-0962-413f-fa33-1eac398d1c6f"
      },
      "execution_count": null,
      "outputs": [
        {
          "output_type": "execute_result",
          "data": {
            "text/plain": [
              "0.7785362153962837"
            ]
          },
          "metadata": {},
          "execution_count": 109
        }
      ]
    },
    {
      "cell_type": "markdown",
      "source": [
        "Качество ухудшилось"
      ],
      "metadata": {
        "id": "tOvoX6M56SmH"
      }
    },
    {
      "cell_type": "markdown",
      "source": [
        "10.2) объединить группу связанных по смыслу признаков в один (например, для витамина A)"
      ],
      "metadata": {
        "id": "zPQqtos66Wfo"
      }
    },
    {
      "cell_type": "markdown",
      "source": [
        "Объединение - основные питательные вещества"
      ],
      "metadata": {
        "id": "agQTXHLF67W9"
      }
    },
    {
      "cell_type": "code",
      "source": [
        "num_data_v_copy2 = num_data_v"
      ],
      "metadata": {
        "id": "gSKprFFs6aRT"
      },
      "execution_count": null,
      "outputs": []
    },
    {
      "cell_type": "code",
      "source": [
        "groups = {\n",
        "    'Основные питательные вещества': ['Water_g', 'Energ_Kcal', 'Protein_g', 'Lipid_Tot_g', 'Ash_g', 'Carbohydrt_g', 'Fiber_TD_g', 'Sugar_Tot_g'],\n",
        "    'Минералы': ['Calcium_mg', 'Iron_mg', 'Magnesium_mg', 'Phosphorus_mg', 'Potassium_mg', 'Sodium_mg', 'Zinc_mg', 'Copper_mg', 'Manganese_mg', 'Selenium_µg'],\n",
        "    'Витамины': ['Vit_C_mg', 'Thiamin_mg', 'Riboflavin_mg', 'Niacin_mg', 'Panto_Acid_mg', 'Vit_B6_mg', 'Folate_Tot_µg', 'Folic_Acid_µg', 'Food_Folate_µg', 'Folate_DFE_µg', 'Choline_Tot_mg', 'Vit_B12_µg', 'Vit_A_IU', 'Vit_A_RAE', 'Retinol_µg', 'Alpha_Carot_µg', 'Beta_Carot_µg', 'Beta_Crypt_µg', 'Lycopene_µg', 'Lut+Zea_µg', 'Vit_E_mg', 'Vit_D_µg', 'Vit_D_IU', 'Vit_K_µg'],\n",
        "    'Жирные кислоты': ['FA_Sat_g', 'FA_Mono_g', 'FA_Poly_g'],\n",
        "    'Другие признаки': ['Cholestrl_mg', 'GmWt_1', 'GmWt_2', 'Refuse_Pct']\n",
        "}"
      ],
      "metadata": {
        "id": "QchSkCaT6xGo"
      },
      "execution_count": null,
      "outputs": []
    },
    {
      "cell_type": "code",
      "source": [
        "df = pd.DataFrame(data_v)"
      ],
      "metadata": {
        "id": "fsFM6MNB6z0p"
      },
      "execution_count": null,
      "outputs": []
    },
    {
      "cell_type": "code",
      "source": [
        "df.melt(id_vars=['Shrt_Desc'], value_vars=['Water_g', 'Energ_Kcal', 'Protein_g', 'Lipid_Tot_g', 'Ash_g', 'Carbohydrt_g', 'Fiber_TD_g', 'Sugar_Tot_g'], var_name='Основные питательные вещества', value_name='Значение')"
      ],
      "metadata": {
        "colab": {
          "base_uri": "https://localhost:8080/",
          "height": 424
        },
        "id": "LSWNNBpI7Ap2",
        "outputId": "4977a788-d89a-45e0-9d70-8a03a6530e40"
      },
      "execution_count": null,
      "outputs": [
        {
          "output_type": "execute_result",
          "data": {
            "text/plain": [
              "                        Shrt_Desc Основные питательные вещества  Значение\n",
              "0                BUTTER,WITH SALT                       Water_g     15.87\n",
              "1          BUTTER,WHIPPED,W/ SALT                       Water_g     16.72\n",
              "2            BUTTER OIL,ANHYDROUS                       Water_g      0.24\n",
              "3                     CHEESE,BLUE                       Water_g     42.41\n",
              "4                    CHEESE,BRICK                       Water_g     41.11\n",
              "...                           ...                           ...       ...\n",
              "70315             MACKEREL,SALTED                   Sugar_Tot_g      0.00\n",
              "70316  SCALLOP,(BAY&SEA),CKD,STMD                   Sugar_Tot_g      0.00\n",
              "70317                  SYRUP,CANE                   Sugar_Tot_g     73.20\n",
              "70318                   SNAIL,RAW                   Sugar_Tot_g      0.00\n",
              "70319            TURTLE,GREEN,RAW                   Sugar_Tot_g      0.00\n",
              "\n",
              "[70320 rows x 3 columns]"
            ],
            "text/html": [
              "\n",
              "  <div id=\"df-67a39933-1cee-4b46-9144-c57c1188f552\" class=\"colab-df-container\">\n",
              "    <div>\n",
              "<style scoped>\n",
              "    .dataframe tbody tr th:only-of-type {\n",
              "        vertical-align: middle;\n",
              "    }\n",
              "\n",
              "    .dataframe tbody tr th {\n",
              "        vertical-align: top;\n",
              "    }\n",
              "\n",
              "    .dataframe thead th {\n",
              "        text-align: right;\n",
              "    }\n",
              "</style>\n",
              "<table border=\"1\" class=\"dataframe\">\n",
              "  <thead>\n",
              "    <tr style=\"text-align: right;\">\n",
              "      <th></th>\n",
              "      <th>Shrt_Desc</th>\n",
              "      <th>Основные питательные вещества</th>\n",
              "      <th>Значение</th>\n",
              "    </tr>\n",
              "  </thead>\n",
              "  <tbody>\n",
              "    <tr>\n",
              "      <th>0</th>\n",
              "      <td>BUTTER,WITH SALT</td>\n",
              "      <td>Water_g</td>\n",
              "      <td>15.87</td>\n",
              "    </tr>\n",
              "    <tr>\n",
              "      <th>1</th>\n",
              "      <td>BUTTER,WHIPPED,W/ SALT</td>\n",
              "      <td>Water_g</td>\n",
              "      <td>16.72</td>\n",
              "    </tr>\n",
              "    <tr>\n",
              "      <th>2</th>\n",
              "      <td>BUTTER OIL,ANHYDROUS</td>\n",
              "      <td>Water_g</td>\n",
              "      <td>0.24</td>\n",
              "    </tr>\n",
              "    <tr>\n",
              "      <th>3</th>\n",
              "      <td>CHEESE,BLUE</td>\n",
              "      <td>Water_g</td>\n",
              "      <td>42.41</td>\n",
              "    </tr>\n",
              "    <tr>\n",
              "      <th>4</th>\n",
              "      <td>CHEESE,BRICK</td>\n",
              "      <td>Water_g</td>\n",
              "      <td>41.11</td>\n",
              "    </tr>\n",
              "    <tr>\n",
              "      <th>...</th>\n",
              "      <td>...</td>\n",
              "      <td>...</td>\n",
              "      <td>...</td>\n",
              "    </tr>\n",
              "    <tr>\n",
              "      <th>70315</th>\n",
              "      <td>MACKEREL,SALTED</td>\n",
              "      <td>Sugar_Tot_g</td>\n",
              "      <td>0.00</td>\n",
              "    </tr>\n",
              "    <tr>\n",
              "      <th>70316</th>\n",
              "      <td>SCALLOP,(BAY&amp;SEA),CKD,STMD</td>\n",
              "      <td>Sugar_Tot_g</td>\n",
              "      <td>0.00</td>\n",
              "    </tr>\n",
              "    <tr>\n",
              "      <th>70317</th>\n",
              "      <td>SYRUP,CANE</td>\n",
              "      <td>Sugar_Tot_g</td>\n",
              "      <td>73.20</td>\n",
              "    </tr>\n",
              "    <tr>\n",
              "      <th>70318</th>\n",
              "      <td>SNAIL,RAW</td>\n",
              "      <td>Sugar_Tot_g</td>\n",
              "      <td>0.00</td>\n",
              "    </tr>\n",
              "    <tr>\n",
              "      <th>70319</th>\n",
              "      <td>TURTLE,GREEN,RAW</td>\n",
              "      <td>Sugar_Tot_g</td>\n",
              "      <td>0.00</td>\n",
              "    </tr>\n",
              "  </tbody>\n",
              "</table>\n",
              "<p>70320 rows × 3 columns</p>\n",
              "</div>\n",
              "    <div class=\"colab-df-buttons\">\n",
              "\n",
              "  <div class=\"colab-df-container\">\n",
              "    <button class=\"colab-df-convert\" onclick=\"convertToInteractive('df-67a39933-1cee-4b46-9144-c57c1188f552')\"\n",
              "            title=\"Convert this dataframe to an interactive table.\"\n",
              "            style=\"display:none;\">\n",
              "\n",
              "  <svg xmlns=\"http://www.w3.org/2000/svg\" height=\"24px\" viewBox=\"0 -960 960 960\">\n",
              "    <path d=\"M120-120v-720h720v720H120Zm60-500h600v-160H180v160Zm220 220h160v-160H400v160Zm0 220h160v-160H400v160ZM180-400h160v-160H180v160Zm440 0h160v-160H620v160ZM180-180h160v-160H180v160Zm440 0h160v-160H620v160Z\"/>\n",
              "  </svg>\n",
              "    </button>\n",
              "\n",
              "  <style>\n",
              "    .colab-df-container {\n",
              "      display:flex;\n",
              "      gap: 12px;\n",
              "    }\n",
              "\n",
              "    .colab-df-convert {\n",
              "      background-color: #E8F0FE;\n",
              "      border: none;\n",
              "      border-radius: 50%;\n",
              "      cursor: pointer;\n",
              "      display: none;\n",
              "      fill: #1967D2;\n",
              "      height: 32px;\n",
              "      padding: 0 0 0 0;\n",
              "      width: 32px;\n",
              "    }\n",
              "\n",
              "    .colab-df-convert:hover {\n",
              "      background-color: #E2EBFA;\n",
              "      box-shadow: 0px 1px 2px rgba(60, 64, 67, 0.3), 0px 1px 3px 1px rgba(60, 64, 67, 0.15);\n",
              "      fill: #174EA6;\n",
              "    }\n",
              "\n",
              "    .colab-df-buttons div {\n",
              "      margin-bottom: 4px;\n",
              "    }\n",
              "\n",
              "    [theme=dark] .colab-df-convert {\n",
              "      background-color: #3B4455;\n",
              "      fill: #D2E3FC;\n",
              "    }\n",
              "\n",
              "    [theme=dark] .colab-df-convert:hover {\n",
              "      background-color: #434B5C;\n",
              "      box-shadow: 0px 1px 3px 1px rgba(0, 0, 0, 0.15);\n",
              "      filter: drop-shadow(0px 1px 2px rgba(0, 0, 0, 0.3));\n",
              "      fill: #FFFFFF;\n",
              "    }\n",
              "  </style>\n",
              "\n",
              "    <script>\n",
              "      const buttonEl =\n",
              "        document.querySelector('#df-67a39933-1cee-4b46-9144-c57c1188f552 button.colab-df-convert');\n",
              "      buttonEl.style.display =\n",
              "        google.colab.kernel.accessAllowed ? 'block' : 'none';\n",
              "\n",
              "      async function convertToInteractive(key) {\n",
              "        const element = document.querySelector('#df-67a39933-1cee-4b46-9144-c57c1188f552');\n",
              "        const dataTable =\n",
              "          await google.colab.kernel.invokeFunction('convertToInteractive',\n",
              "                                                    [key], {});\n",
              "        if (!dataTable) return;\n",
              "\n",
              "        const docLinkHtml = 'Like what you see? Visit the ' +\n",
              "          '<a target=\"_blank\" href=https://colab.research.google.com/notebooks/data_table.ipynb>data table notebook</a>'\n",
              "          + ' to learn more about interactive tables.';\n",
              "        element.innerHTML = '';\n",
              "        dataTable['output_type'] = 'display_data';\n",
              "        await google.colab.output.renderOutput(dataTable, element);\n",
              "        const docLink = document.createElement('div');\n",
              "        docLink.innerHTML = docLinkHtml;\n",
              "        element.appendChild(docLink);\n",
              "      }\n",
              "    </script>\n",
              "  </div>\n",
              "\n",
              "\n",
              "<div id=\"df-50f4e972-40e3-49d4-bb8b-72a33cf5075a\">\n",
              "  <button class=\"colab-df-quickchart\" onclick=\"quickchart('df-50f4e972-40e3-49d4-bb8b-72a33cf5075a')\"\n",
              "            title=\"Suggest charts\"\n",
              "            style=\"display:none;\">\n",
              "\n",
              "<svg xmlns=\"http://www.w3.org/2000/svg\" height=\"24px\"viewBox=\"0 0 24 24\"\n",
              "     width=\"24px\">\n",
              "    <g>\n",
              "        <path d=\"M19 3H5c-1.1 0-2 .9-2 2v14c0 1.1.9 2 2 2h14c1.1 0 2-.9 2-2V5c0-1.1-.9-2-2-2zM9 17H7v-7h2v7zm4 0h-2V7h2v10zm4 0h-2v-4h2v4z\"/>\n",
              "    </g>\n",
              "</svg>\n",
              "  </button>\n",
              "\n",
              "<style>\n",
              "  .colab-df-quickchart {\n",
              "      --bg-color: #E8F0FE;\n",
              "      --fill-color: #1967D2;\n",
              "      --hover-bg-color: #E2EBFA;\n",
              "      --hover-fill-color: #174EA6;\n",
              "      --disabled-fill-color: #AAA;\n",
              "      --disabled-bg-color: #DDD;\n",
              "  }\n",
              "\n",
              "  [theme=dark] .colab-df-quickchart {\n",
              "      --bg-color: #3B4455;\n",
              "      --fill-color: #D2E3FC;\n",
              "      --hover-bg-color: #434B5C;\n",
              "      --hover-fill-color: #FFFFFF;\n",
              "      --disabled-bg-color: #3B4455;\n",
              "      --disabled-fill-color: #666;\n",
              "  }\n",
              "\n",
              "  .colab-df-quickchart {\n",
              "    background-color: var(--bg-color);\n",
              "    border: none;\n",
              "    border-radius: 50%;\n",
              "    cursor: pointer;\n",
              "    display: none;\n",
              "    fill: var(--fill-color);\n",
              "    height: 32px;\n",
              "    padding: 0;\n",
              "    width: 32px;\n",
              "  }\n",
              "\n",
              "  .colab-df-quickchart:hover {\n",
              "    background-color: var(--hover-bg-color);\n",
              "    box-shadow: 0 1px 2px rgba(60, 64, 67, 0.3), 0 1px 3px 1px rgba(60, 64, 67, 0.15);\n",
              "    fill: var(--button-hover-fill-color);\n",
              "  }\n",
              "\n",
              "  .colab-df-quickchart-complete:disabled,\n",
              "  .colab-df-quickchart-complete:disabled:hover {\n",
              "    background-color: var(--disabled-bg-color);\n",
              "    fill: var(--disabled-fill-color);\n",
              "    box-shadow: none;\n",
              "  }\n",
              "\n",
              "  .colab-df-spinner {\n",
              "    border: 2px solid var(--fill-color);\n",
              "    border-color: transparent;\n",
              "    border-bottom-color: var(--fill-color);\n",
              "    animation:\n",
              "      spin 1s steps(1) infinite;\n",
              "  }\n",
              "\n",
              "  @keyframes spin {\n",
              "    0% {\n",
              "      border-color: transparent;\n",
              "      border-bottom-color: var(--fill-color);\n",
              "      border-left-color: var(--fill-color);\n",
              "    }\n",
              "    20% {\n",
              "      border-color: transparent;\n",
              "      border-left-color: var(--fill-color);\n",
              "      border-top-color: var(--fill-color);\n",
              "    }\n",
              "    30% {\n",
              "      border-color: transparent;\n",
              "      border-left-color: var(--fill-color);\n",
              "      border-top-color: var(--fill-color);\n",
              "      border-right-color: var(--fill-color);\n",
              "    }\n",
              "    40% {\n",
              "      border-color: transparent;\n",
              "      border-right-color: var(--fill-color);\n",
              "      border-top-color: var(--fill-color);\n",
              "    }\n",
              "    60% {\n",
              "      border-color: transparent;\n",
              "      border-right-color: var(--fill-color);\n",
              "    }\n",
              "    80% {\n",
              "      border-color: transparent;\n",
              "      border-right-color: var(--fill-color);\n",
              "      border-bottom-color: var(--fill-color);\n",
              "    }\n",
              "    90% {\n",
              "      border-color: transparent;\n",
              "      border-bottom-color: var(--fill-color);\n",
              "    }\n",
              "  }\n",
              "</style>\n",
              "\n",
              "  <script>\n",
              "    async function quickchart(key) {\n",
              "      const quickchartButtonEl =\n",
              "        document.querySelector('#' + key + ' button');\n",
              "      quickchartButtonEl.disabled = true;  // To prevent multiple clicks.\n",
              "      quickchartButtonEl.classList.add('colab-df-spinner');\n",
              "      try {\n",
              "        const charts = await google.colab.kernel.invokeFunction(\n",
              "            'suggestCharts', [key], {});\n",
              "      } catch (error) {\n",
              "        console.error('Error during call to suggestCharts:', error);\n",
              "      }\n",
              "      quickchartButtonEl.classList.remove('colab-df-spinner');\n",
              "      quickchartButtonEl.classList.add('colab-df-quickchart-complete');\n",
              "    }\n",
              "    (() => {\n",
              "      let quickchartButtonEl =\n",
              "        document.querySelector('#df-50f4e972-40e3-49d4-bb8b-72a33cf5075a button');\n",
              "      quickchartButtonEl.style.display =\n",
              "        google.colab.kernel.accessAllowed ? 'block' : 'none';\n",
              "    })();\n",
              "  </script>\n",
              "</div>\n",
              "    </div>\n",
              "  </div>\n"
            ],
            "application/vnd.google.colaboratory.intrinsic+json": {
              "type": "dataframe",
              "summary": "{\n  \"name\": \"df\",\n  \"rows\": 70320,\n  \"fields\": [\n    {\n      \"column\": \"Shrt_Desc\",\n      \"properties\": {\n        \"dtype\": \"category\",\n        \"num_unique_values\": 8787,\n        \"samples\": [\n          \"CEREALS,FARINA,ENR,ASSORTED BRANDS,DRY\",\n          \"BRUSSELS SPROUTS,FRZ,CKD,BLD,DRND,W/SALT\",\n          \"RASPBERRIES,CND,RED,HVY SYRUP PK,SOL&LIQUIDS\"\n        ],\n        \"semantic_type\": \"\",\n        \"description\": \"\"\n      }\n    },\n    {\n      \"column\": \"\\u041e\\u0441\\u043d\\u043e\\u0432\\u043d\\u044b\\u0435 \\u043f\\u0438\\u0442\\u0430\\u0442\\u0435\\u043b\\u044c\\u043d\\u044b\\u0435 \\u0432\\u0435\\u0449\\u0435\\u0441\\u0442\\u0432\\u0430\",\n      \"properties\": {\n        \"dtype\": \"category\",\n        \"num_unique_values\": 8,\n        \"samples\": [\n          \"Energ_Kcal\",\n          \"Carbohydrt_g\",\n          \"Water_g\"\n        ],\n        \"semantic_type\": \"\",\n        \"description\": \"\"\n      }\n    },\n    {\n      \"column\": \"\\u0417\\u043d\\u0430\\u0447\\u0435\\u043d\\u0438\\u0435\",\n      \"properties\": {\n        \"dtype\": \"number\",\n        \"std\": 96.41479193618258,\n        \"min\": 0.0,\n        \"max\": 902.0,\n        \"num_unique_values\": 7863,\n        \"samples\": [\n          83.58,\n          80.85,\n          4.89\n        ],\n        \"semantic_type\": \"\",\n        \"description\": \"\"\n      }\n    }\n  ]\n}"
            }
          },
          "metadata": {},
          "execution_count": 113
        }
      ]
    },
    {
      "cell_type": "markdown",
      "source": [
        "10.3) повторно выбирать случайным образом поднабор из нескольких признаков и запоминать лучшие результаты (например, выбирать по 5 или по 7 признаков с помощью random.sample, повторять выбор 100 раз)"
      ],
      "metadata": {
        "id": "FJGegeIx7CJ-"
      }
    },
    {
      "cell_type": "code",
      "source": [
        "from sklearn.feature_selection import SelectFromModel\n",
        "from sklearn.ensemble import RandomForestClassifier\n",
        "from sklearn.model_selection import train_test_split\n",
        "X_train, X_test, y_train, y_test = train_test_split(num_data_v, CLASS, test_size = 0.3, random_state = 42)\n",
        "\n",
        "sel = RandomForestClassifier(n_estimators = 100)\n",
        "sel.fit(X_train, y_train)\n",
        "#Оценка важности признаков\n",
        "importances = sel.feature_importances_\n",
        "#Вывод наиболее важных признаков\n",
        "important_features = X_train.columns[importances > 0.05]\n",
        "print(important_features)"
      ],
      "metadata": {
        "colab": {
          "base_uri": "https://localhost:8080/"
        },
        "id": "kxiup-Ri7Emr",
        "outputId": "1fcbaa5c-49ee-4817-8aee-0f1818e2fc74"
      },
      "execution_count": null,
      "outputs": [
        {
          "output_type": "stream",
          "name": "stdout",
          "text": [
            "Index(['Water_g', 'Energ_Kcal', 'Carbohydrt_g', 'Sugar_Tot_g', 'Cholestrl_mg'], dtype='object')\n"
          ]
        }
      ]
    },
    {
      "cell_type": "code",
      "source": [
        "importances"
      ],
      "metadata": {
        "colab": {
          "base_uri": "https://localhost:8080/"
        },
        "id": "oBd4SVre7Ilc",
        "outputId": "2d63403e-a5bf-493a-c6cb-3d64443410f1"
      },
      "execution_count": null,
      "outputs": [
        {
          "output_type": "execute_result",
          "data": {
            "text/plain": [
              "array([0.0136275 , 0.13562245, 0.07431547, 0.0431384 , 0.01909378,\n",
              "       0.01423567, 0.09692822, 0.03189261, 0.2087749 , 0.01076268,\n",
              "       0.00768471, 0.00544452, 0.01481366, 0.00540651, 0.0255409 ,\n",
              "       0.00657098, 0.00431081, 0.01222757, 0.00773534, 0.00316464,\n",
              "       0.00793405, 0.00466822, 0.00746905, 0.00551689, 0.00520628,\n",
              "       0.00595951, 0.00116939, 0.00424573, 0.00642078, 0.02025332,\n",
              "       0.00934163, 0.00409577, 0.00352444, 0.00215234, 0.00095078,\n",
              "       0.01375833, 0.00136556, 0.00031473, 0.02001852, 0.0164226 ,\n",
              "       0.00176751, 0.00218804, 0.01440602, 0.01227887, 0.00835137,\n",
              "       0.00907385, 0.05122334, 0.00668673, 0.00473476, 0.00721026])"
            ]
          },
          "metadata": {},
          "execution_count": 115
        }
      ]
    },
    {
      "cell_type": "markdown",
      "source": [
        "10.5) свой вариант отбора и подготовки признаков."
      ],
      "metadata": {
        "id": "_Woj-5Vy7Mmi"
      }
    },
    {
      "cell_type": "markdown",
      "source": [
        "Выбран градиентный бустинг"
      ],
      "metadata": {
        "id": "z1NvraqB7SVk"
      }
    },
    {
      "cell_type": "code",
      "source": [
        "from sklearn.ensemble import GradientBoostingClassifier,GradientBoostingRegressor\n",
        "from sklearn.metrics import mean_squared_error, mean_absolute_error, r2_score, accuracy_score\n",
        "from sklearn.model_selection import train_test_split"
      ],
      "metadata": {
        "id": "x3G071Pr7WyN"
      },
      "execution_count": null,
      "outputs": []
    },
    {
      "cell_type": "code",
      "source": [
        "X_train, X_test, y_train, y_test = train_test_split(num_data_v, CLASS, test_size = 0.2, random_state = 42)"
      ],
      "metadata": {
        "id": "YgNxhHlg7XKH"
      },
      "execution_count": null,
      "outputs": []
    },
    {
      "cell_type": "code",
      "source": [
        "gb = GradientBoostingClassifier(n_estimators = 100, learning_rate = 0.1, max_depth = 3, random_state = 42)\n",
        "gb.fit(X_train, y_train)"
      ],
      "metadata": {
        "colab": {
          "base_uri": "https://localhost:8080/",
          "height": 75
        },
        "id": "3QpNdIdT7Zl5",
        "outputId": "0ab40cdd-ac09-4db0-f414-3316e5be1563"
      },
      "execution_count": null,
      "outputs": [
        {
          "output_type": "execute_result",
          "data": {
            "text/plain": [
              "GradientBoostingClassifier(random_state=42)"
            ],
            "text/html": [
              "<style>#sk-container-id-3 {color: black;background-color: white;}#sk-container-id-3 pre{padding: 0;}#sk-container-id-3 div.sk-toggleable {background-color: white;}#sk-container-id-3 label.sk-toggleable__label {cursor: pointer;display: block;width: 100%;margin-bottom: 0;padding: 0.3em;box-sizing: border-box;text-align: center;}#sk-container-id-3 label.sk-toggleable__label-arrow:before {content: \"▸\";float: left;margin-right: 0.25em;color: #696969;}#sk-container-id-3 label.sk-toggleable__label-arrow:hover:before {color: black;}#sk-container-id-3 div.sk-estimator:hover label.sk-toggleable__label-arrow:before {color: black;}#sk-container-id-3 div.sk-toggleable__content {max-height: 0;max-width: 0;overflow: hidden;text-align: left;background-color: #f0f8ff;}#sk-container-id-3 div.sk-toggleable__content pre {margin: 0.2em;color: black;border-radius: 0.25em;background-color: #f0f8ff;}#sk-container-id-3 input.sk-toggleable__control:checked~div.sk-toggleable__content {max-height: 200px;max-width: 100%;overflow: auto;}#sk-container-id-3 input.sk-toggleable__control:checked~label.sk-toggleable__label-arrow:before {content: \"▾\";}#sk-container-id-3 div.sk-estimator input.sk-toggleable__control:checked~label.sk-toggleable__label {background-color: #d4ebff;}#sk-container-id-3 div.sk-label input.sk-toggleable__control:checked~label.sk-toggleable__label {background-color: #d4ebff;}#sk-container-id-3 input.sk-hidden--visually {border: 0;clip: rect(1px 1px 1px 1px);clip: rect(1px, 1px, 1px, 1px);height: 1px;margin: -1px;overflow: hidden;padding: 0;position: absolute;width: 1px;}#sk-container-id-3 div.sk-estimator {font-family: monospace;background-color: #f0f8ff;border: 1px dotted black;border-radius: 0.25em;box-sizing: border-box;margin-bottom: 0.5em;}#sk-container-id-3 div.sk-estimator:hover {background-color: #d4ebff;}#sk-container-id-3 div.sk-parallel-item::after {content: \"\";width: 100%;border-bottom: 1px solid gray;flex-grow: 1;}#sk-container-id-3 div.sk-label:hover label.sk-toggleable__label {background-color: #d4ebff;}#sk-container-id-3 div.sk-serial::before {content: \"\";position: absolute;border-left: 1px solid gray;box-sizing: border-box;top: 0;bottom: 0;left: 50%;z-index: 0;}#sk-container-id-3 div.sk-serial {display: flex;flex-direction: column;align-items: center;background-color: white;padding-right: 0.2em;padding-left: 0.2em;position: relative;}#sk-container-id-3 div.sk-item {position: relative;z-index: 1;}#sk-container-id-3 div.sk-parallel {display: flex;align-items: stretch;justify-content: center;background-color: white;position: relative;}#sk-container-id-3 div.sk-item::before, #sk-container-id-3 div.sk-parallel-item::before {content: \"\";position: absolute;border-left: 1px solid gray;box-sizing: border-box;top: 0;bottom: 0;left: 50%;z-index: -1;}#sk-container-id-3 div.sk-parallel-item {display: flex;flex-direction: column;z-index: 1;position: relative;background-color: white;}#sk-container-id-3 div.sk-parallel-item:first-child::after {align-self: flex-end;width: 50%;}#sk-container-id-3 div.sk-parallel-item:last-child::after {align-self: flex-start;width: 50%;}#sk-container-id-3 div.sk-parallel-item:only-child::after {width: 0;}#sk-container-id-3 div.sk-dashed-wrapped {border: 1px dashed gray;margin: 0 0.4em 0.5em 0.4em;box-sizing: border-box;padding-bottom: 0.4em;background-color: white;}#sk-container-id-3 div.sk-label label {font-family: monospace;font-weight: bold;display: inline-block;line-height: 1.2em;}#sk-container-id-3 div.sk-label-container {text-align: center;}#sk-container-id-3 div.sk-container {/* jupyter's `normalize.less` sets `[hidden] { display: none; }` but bootstrap.min.css set `[hidden] { display: none !important; }` so we also need the `!important` here to be able to override the default hidden behavior on the sphinx rendered scikit-learn.org. See: https://github.com/scikit-learn/scikit-learn/issues/21755 */display: inline-block !important;position: relative;}#sk-container-id-3 div.sk-text-repr-fallback {display: none;}</style><div id=\"sk-container-id-3\" class=\"sk-top-container\"><div class=\"sk-text-repr-fallback\"><pre>GradientBoostingClassifier(random_state=42)</pre><b>In a Jupyter environment, please rerun this cell to show the HTML representation or trust the notebook. <br />On GitHub, the HTML representation is unable to render, please try loading this page with nbviewer.org.</b></div><div class=\"sk-container\" hidden><div class=\"sk-item\"><div class=\"sk-estimator sk-toggleable\"><input class=\"sk-toggleable__control sk-hidden--visually\" id=\"sk-estimator-id-3\" type=\"checkbox\" checked><label for=\"sk-estimator-id-3\" class=\"sk-toggleable__label sk-toggleable__label-arrow\">GradientBoostingClassifier</label><div class=\"sk-toggleable__content\"><pre>GradientBoostingClassifier(random_state=42)</pre></div></div></div></div></div>"
            ]
          },
          "metadata": {},
          "execution_count": 118
        }
      ]
    },
    {
      "cell_type": "code",
      "source": [
        "y_pred = gb.predict(X_test) #Оцениваем качество модели на тестовой выборке\n",
        "print(\"Accuracy:\", accuracy_score(y_test, y_pred))"
      ],
      "metadata": {
        "colab": {
          "base_uri": "https://localhost:8080/"
        },
        "id": "6r_7zYJw7bFR",
        "outputId": "19528c1f-3fe1-4f6f-e308-6ae9e5a89ec4"
      },
      "execution_count": null,
      "outputs": [
        {
          "output_type": "stream",
          "name": "stdout",
          "text": [
            "Accuracy: 1.0\n"
          ]
        }
      ]
    },
    {
      "cell_type": "code",
      "source": [
        "from sklearn.model_selection import GridSearchCV\n",
        "\n",
        "param_grid = {'n_estimators': [50], 'max_depth': [3]}\n",
        "grid_search = GridSearchCV(gb, param_grid, cv=5)\n",
        "grid_search.fit(X_train, y_train)\n",
        "print(\"Best parameters:\", grid_search.best_params_)"
      ],
      "metadata": {
        "colab": {
          "base_uri": "https://localhost:8080/"
        },
        "id": "iuIDXweV7csJ",
        "outputId": "0819fb27-d40f-4ed7-9f3b-90d570e50def"
      },
      "execution_count": null,
      "outputs": [
        {
          "output_type": "stream",
          "name": "stdout",
          "text": [
            "Best parameters: {'max_depth': 3, 'n_estimators': 50}\n"
          ]
        }
      ]
    },
    {
      "cell_type": "code",
      "source": [
        "gb_best = GradientBoostingClassifier(n_estimators = 200, max_depth = 3, learning_rate = 0.1, random_state = 42)\n",
        "gb_best.fit(X_train, y_train)\n",
        "y_pred = gb_best.predict(X_test)\n",
        "print(\"Accuracy:\", accuracy_score(y_test, y_pred))"
      ],
      "metadata": {
        "colab": {
          "base_uri": "https://localhost:8080/"
        },
        "id": "WrmjT6ai7dOg",
        "outputId": "0f5e0249-6b35-4515-c57a-4c55027617d6"
      },
      "execution_count": null,
      "outputs": [
        {
          "output_type": "stream",
          "name": "stdout",
          "text": [
            "Accuracy: 1.0\n"
          ]
        }
      ]
    },
    {
      "cell_type": "markdown",
      "source": [
        "Датасет 2 - разбиение по минералам"
      ],
      "metadata": {
        "id": "aoN5NE_A7vQS"
      }
    },
    {
      "cell_type": "markdown",
      "source": [
        "2) Изучите полученный набор данных"
      ],
      "metadata": {
        "id": "QE6qBMFl8Iuf"
      }
    },
    {
      "cell_type": "code",
      "execution_count": null,
      "metadata": {
        "id": "ku8dsKy6bSL7"
      },
      "outputs": [],
      "source": [
        "data_svoy2 = pd.read_excel(\"ABBREV.xlsx\")"
      ]
    },
    {
      "cell_type": "code",
      "execution_count": null,
      "metadata": {
        "id": "W6eM5UAfb_2r"
      },
      "outputs": [],
      "source": [
        "numeric = [col for col in data_svoy2.columns if data_svoy2[col].dtypes in ['int64', 'float64']]\n",
        "categorial = [col for col in data_svoy2.columns if data_svoy2[col].dtypes in ['object']]\n",
        "\n",
        "num_data_svoy2 = data_svoy2[numeric]\n",
        "cat_data_svoy2 = data_svoy2[categorial]"
      ]
    },
    {
      "cell_type": "code",
      "execution_count": null,
      "metadata": {
        "id": "Q-BFwnkfwa-6",
        "colab": {
          "base_uri": "https://localhost:8080/"
        },
        "outputId": "81e5142e-b120-4a77-c505-92e6a2f472fa"
      },
      "outputs": [
        {
          "output_type": "stream",
          "name": "stdout",
          "text": [
            "<class 'pandas.core.frame.DataFrame'>\n",
            "RangeIndex: 8790 entries, 0 to 8789\n",
            "Data columns (total 50 columns):\n",
            " #   Column             Non-Null Count  Dtype  \n",
            "---  ------             --------------  -----  \n",
            " 0   NDB_No             8790 non-null   int64  \n",
            " 1   Water_(g)          8789 non-null   float64\n",
            " 2   Energ_Kcal         8790 non-null   int64  \n",
            " 3   Protein_(g)        8790 non-null   float64\n",
            " 4   Lipid_Tot_(g)      8790 non-null   float64\n",
            " 5   Ash_(g)            8465 non-null   float64\n",
            " 6   Carbohydrt_(g)     8790 non-null   float64\n",
            " 7   Fiber_TD_(g)       8196 non-null   float64\n",
            " 8   Sugar_Tot_(g)      6958 non-null   float64\n",
            " 9   Calcium_(mg)       8442 non-null   float64\n",
            " 10  Iron_(mg)          8646 non-null   float64\n",
            " 11  Magnesium_(mg)     8051 non-null   float64\n",
            " 12  Phosphorus_(mg)    8211 non-null   float64\n",
            " 13  Potassium_(mg)     8364 non-null   float64\n",
            " 14  Sodium_(mg)        8707 non-null   float64\n",
            " 15  Zinc_(mg)          8084 non-null   float64\n",
            " 16  Copper_mg)         7533 non-null   float64\n",
            " 17  Manganese_(mg)     6630 non-null   float64\n",
            " 18  Selenium_(µg)      7090 non-null   float64\n",
            " 19  Vit_C_(mg)         7972 non-null   float64\n",
            " 20  Thiamin_(mg)       8156 non-null   float64\n",
            " 21  Riboflavin_(mg)    8174 non-null   float64\n",
            " 22  Niacin_(mg)        8153 non-null   float64\n",
            " 23  Panto_Acid_mg)     6548 non-null   float64\n",
            " 24  Vit_B6_(mg)        7885 non-null   float64\n",
            " 25  Folate_Tot_(µg)    7529 non-null   float64\n",
            " 26  Folic_Acid_(µg)    6751 non-null   float64\n",
            " 27  Food_Folate_(µg)   7022 non-null   float64\n",
            " 28  Folate_DFE_(µg)    6733 non-null   float64\n",
            " 29  Choline_Tot_ (mg)  4774 non-null   float64\n",
            " 30  Vit_B12_(µg)       7597 non-null   float64\n",
            " 31  Vit_A_IU           8079 non-null   float64\n",
            " 32  Vit_A_RAE          7255 non-null   float64\n",
            " 33  Retinol_(µg)       6984 non-null   float64\n",
            " 34  Alpha_Carot_(µg)   5532 non-null   float64\n",
            " 35  Beta_Carot_(µg)    5628 non-null   float64\n",
            " 36  Beta_Crypt_(µg)    5520 non-null   float64\n",
            " 37  Lycopene_(µg)      5498 non-null   float64\n",
            " 38  Lut+Zea_ (µg)      5475 non-null   float64\n",
            " 39  Vit_E_(mg)         5901 non-null   float64\n",
            " 40  Vit_D_µg           5528 non-null   float64\n",
            " 41  Vit_D_IU           5579 non-null   float64\n",
            " 42  Vit_K_(µg)         5227 non-null   float64\n",
            " 43  FA_Sat_(g)         8441 non-null   float64\n",
            " 44  FA_Mono_(g)        8124 non-null   float64\n",
            " 45  FA_Poly_(g)        8125 non-null   float64\n",
            " 46  Cholestrl_(mg)     8380 non-null   float64\n",
            " 47  GmWt_1             8490 non-null   float64\n",
            " 48  GmWt_2             4825 non-null   float64\n",
            " 49  Refuse_Pct         8740 non-null   float64\n",
            "dtypes: float64(48), int64(2)\n",
            "memory usage: 3.4 MB\n"
          ]
        }
      ],
      "source": [
        "num_data_svoy2.info()"
      ]
    },
    {
      "cell_type": "code",
      "execution_count": null,
      "metadata": {
        "id": "JC1nx451whWI",
        "colab": {
          "base_uri": "https://localhost:8080/"
        },
        "outputId": "04f0d50d-cd2c-4534-f34f-45d04f6d8476"
      },
      "outputs": [
        {
          "output_type": "stream",
          "name": "stdout",
          "text": [
            "<class 'pandas.core.frame.DataFrame'>\n",
            "RangeIndex: 8790 entries, 0 to 8789\n",
            "Data columns (total 3 columns):\n",
            " #   Column      Non-Null Count  Dtype \n",
            "---  ------      --------------  ----- \n",
            " 0   Shrt_Desc   8790 non-null   object\n",
            " 1   GmWt_Desc1  8491 non-null   object\n",
            " 2   GmWt_Desc2  4825 non-null   object\n",
            "dtypes: object(3)\n",
            "memory usage: 206.1+ KB\n"
          ]
        }
      ],
      "source": [
        "cat_data_svoy2.info()"
      ]
    },
    {
      "cell_type": "code",
      "execution_count": null,
      "metadata": {
        "id": "Lp3jcp1TwryY",
        "colab": {
          "base_uri": "https://localhost:8080/",
          "height": 350
        },
        "outputId": "edcab9f7-4c00-4f20-97b2-99c1ae2f84e3"
      },
      "outputs": [
        {
          "output_type": "execute_result",
          "data": {
            "text/plain": [
              "             NDB_No    Water_(g)   Energ_Kcal  Protein_(g)  Lipid_Tot_(g)  \\\n",
              "count   8790.000000  8789.000000  8790.000000  8790.000000    8790.000000   \n",
              "mean   15663.495222    54.112218   226.317634    11.342849      10.553725   \n",
              "std     9251.413586    30.772854   169.877539    10.530474      15.814842   \n",
              "min     1001.000000     0.000000     0.000000     0.000000       0.000000   \n",
              "25%     9086.250000    29.700000    91.000000     2.380000       0.950000   \n",
              "50%    14427.500000    63.080000   191.000000     8.000000       5.140000   \n",
              "75%    20142.750000    77.960000   337.000000    19.880000      13.720000   \n",
              "max    93600.000000   100.000000   902.000000    88.320000     100.000000   \n",
              "\n",
              "           Ash_(g)  Carbohydrt_(g)  Fiber_TD_(g)  Sugar_Tot_(g)  Calcium_(mg)  \\\n",
              "count  8465.000000     8790.000000   8196.000000    6958.000000   8442.000000   \n",
              "mean      1.783468       22.127710      2.187445       8.543066     76.738214   \n",
              "std       3.004609       27.270822      4.383138      14.923626    203.527453   \n",
              "min       0.000000        0.000000      0.000000       0.000000      0.000000   \n",
              "25%       0.840000        0.050000      0.000000       0.000000     10.000000   \n",
              "50%       1.200000        9.340000      0.700000       1.840000     21.000000   \n",
              "75%       2.090000       34.910000      2.600000       9.287500     69.000000   \n",
              "max      99.800000      100.000000     79.000000      99.800000   7364.000000   \n",
              "\n",
              "       ...     Vit_D_µg      Vit_D_IU   Vit_K_(µg)   FA_Sat_(g)  FA_Mono_(g)  \\\n",
              "count  ...  5528.000000   5579.000000  5227.000000  8441.000000  8124.000000   \n",
              "mean   ...     0.579269     22.990142    15.631586     3.576334     4.081006   \n",
              "std    ...     3.882702    154.614465    79.949125     6.518840     7.010760   \n",
              "min    ...     0.000000      0.000000     0.000000     0.000000     0.000000   \n",
              "25%    ...     0.000000      0.000000     0.200000     0.220000     0.235750   \n",
              "50%    ...     0.000000      0.000000     1.600000     1.592000     1.938500   \n",
              "75%    ...     0.200000      6.000000     5.200000     4.345000     5.115000   \n",
              "max    ...   250.000000  10000.000000  1714.500000    95.600000    83.689000   \n",
              "\n",
              "       FA_Poly_(g)  Cholestrl_(mg)       GmWt_1       GmWt_2   Refuse_Pct  \n",
              "count  8125.000000     8380.000000  8490.000000  4825.000000  8740.000000  \n",
              "mean      2.288767       40.613246    96.395130   250.747668     4.964416  \n",
              "std       5.215654      119.869371    84.337063   382.226774    12.088471  \n",
              "min       0.000000        0.000000     0.100000     0.400000     0.000000  \n",
              "25%       0.220000        0.000000    29.000000    42.000000     0.000000  \n",
              "50%       0.696000        4.000000    85.000000   164.000000     0.000000  \n",
              "75%       2.081000       67.000000   130.000000   305.000000     0.000000  \n",
              "max      74.623000     3100.000000  1184.000000  5717.000000    81.000000  \n",
              "\n",
              "[8 rows x 50 columns]"
            ],
            "text/html": [
              "\n",
              "  <div id=\"df-a6c32c30-e7ae-473a-be75-5a2bac6ed6a8\" class=\"colab-df-container\">\n",
              "    <div>\n",
              "<style scoped>\n",
              "    .dataframe tbody tr th:only-of-type {\n",
              "        vertical-align: middle;\n",
              "    }\n",
              "\n",
              "    .dataframe tbody tr th {\n",
              "        vertical-align: top;\n",
              "    }\n",
              "\n",
              "    .dataframe thead th {\n",
              "        text-align: right;\n",
              "    }\n",
              "</style>\n",
              "<table border=\"1\" class=\"dataframe\">\n",
              "  <thead>\n",
              "    <tr style=\"text-align: right;\">\n",
              "      <th></th>\n",
              "      <th>NDB_No</th>\n",
              "      <th>Water_(g)</th>\n",
              "      <th>Energ_Kcal</th>\n",
              "      <th>Protein_(g)</th>\n",
              "      <th>Lipid_Tot_(g)</th>\n",
              "      <th>Ash_(g)</th>\n",
              "      <th>Carbohydrt_(g)</th>\n",
              "      <th>Fiber_TD_(g)</th>\n",
              "      <th>Sugar_Tot_(g)</th>\n",
              "      <th>Calcium_(mg)</th>\n",
              "      <th>...</th>\n",
              "      <th>Vit_D_µg</th>\n",
              "      <th>Vit_D_IU</th>\n",
              "      <th>Vit_K_(µg)</th>\n",
              "      <th>FA_Sat_(g)</th>\n",
              "      <th>FA_Mono_(g)</th>\n",
              "      <th>FA_Poly_(g)</th>\n",
              "      <th>Cholestrl_(mg)</th>\n",
              "      <th>GmWt_1</th>\n",
              "      <th>GmWt_2</th>\n",
              "      <th>Refuse_Pct</th>\n",
              "    </tr>\n",
              "  </thead>\n",
              "  <tbody>\n",
              "    <tr>\n",
              "      <th>count</th>\n",
              "      <td>8790.000000</td>\n",
              "      <td>8789.000000</td>\n",
              "      <td>8790.000000</td>\n",
              "      <td>8790.000000</td>\n",
              "      <td>8790.000000</td>\n",
              "      <td>8465.000000</td>\n",
              "      <td>8790.000000</td>\n",
              "      <td>8196.000000</td>\n",
              "      <td>6958.000000</td>\n",
              "      <td>8442.000000</td>\n",
              "      <td>...</td>\n",
              "      <td>5528.000000</td>\n",
              "      <td>5579.000000</td>\n",
              "      <td>5227.000000</td>\n",
              "      <td>8441.000000</td>\n",
              "      <td>8124.000000</td>\n",
              "      <td>8125.000000</td>\n",
              "      <td>8380.000000</td>\n",
              "      <td>8490.000000</td>\n",
              "      <td>4825.000000</td>\n",
              "      <td>8740.000000</td>\n",
              "    </tr>\n",
              "    <tr>\n",
              "      <th>mean</th>\n",
              "      <td>15663.495222</td>\n",
              "      <td>54.112218</td>\n",
              "      <td>226.317634</td>\n",
              "      <td>11.342849</td>\n",
              "      <td>10.553725</td>\n",
              "      <td>1.783468</td>\n",
              "      <td>22.127710</td>\n",
              "      <td>2.187445</td>\n",
              "      <td>8.543066</td>\n",
              "      <td>76.738214</td>\n",
              "      <td>...</td>\n",
              "      <td>0.579269</td>\n",
              "      <td>22.990142</td>\n",
              "      <td>15.631586</td>\n",
              "      <td>3.576334</td>\n",
              "      <td>4.081006</td>\n",
              "      <td>2.288767</td>\n",
              "      <td>40.613246</td>\n",
              "      <td>96.395130</td>\n",
              "      <td>250.747668</td>\n",
              "      <td>4.964416</td>\n",
              "    </tr>\n",
              "    <tr>\n",
              "      <th>std</th>\n",
              "      <td>9251.413586</td>\n",
              "      <td>30.772854</td>\n",
              "      <td>169.877539</td>\n",
              "      <td>10.530474</td>\n",
              "      <td>15.814842</td>\n",
              "      <td>3.004609</td>\n",
              "      <td>27.270822</td>\n",
              "      <td>4.383138</td>\n",
              "      <td>14.923626</td>\n",
              "      <td>203.527453</td>\n",
              "      <td>...</td>\n",
              "      <td>3.882702</td>\n",
              "      <td>154.614465</td>\n",
              "      <td>79.949125</td>\n",
              "      <td>6.518840</td>\n",
              "      <td>7.010760</td>\n",
              "      <td>5.215654</td>\n",
              "      <td>119.869371</td>\n",
              "      <td>84.337063</td>\n",
              "      <td>382.226774</td>\n",
              "      <td>12.088471</td>\n",
              "    </tr>\n",
              "    <tr>\n",
              "      <th>min</th>\n",
              "      <td>1001.000000</td>\n",
              "      <td>0.000000</td>\n",
              "      <td>0.000000</td>\n",
              "      <td>0.000000</td>\n",
              "      <td>0.000000</td>\n",
              "      <td>0.000000</td>\n",
              "      <td>0.000000</td>\n",
              "      <td>0.000000</td>\n",
              "      <td>0.000000</td>\n",
              "      <td>0.000000</td>\n",
              "      <td>...</td>\n",
              "      <td>0.000000</td>\n",
              "      <td>0.000000</td>\n",
              "      <td>0.000000</td>\n",
              "      <td>0.000000</td>\n",
              "      <td>0.000000</td>\n",
              "      <td>0.000000</td>\n",
              "      <td>0.000000</td>\n",
              "      <td>0.100000</td>\n",
              "      <td>0.400000</td>\n",
              "      <td>0.000000</td>\n",
              "    </tr>\n",
              "    <tr>\n",
              "      <th>25%</th>\n",
              "      <td>9086.250000</td>\n",
              "      <td>29.700000</td>\n",
              "      <td>91.000000</td>\n",
              "      <td>2.380000</td>\n",
              "      <td>0.950000</td>\n",
              "      <td>0.840000</td>\n",
              "      <td>0.050000</td>\n",
              "      <td>0.000000</td>\n",
              "      <td>0.000000</td>\n",
              "      <td>10.000000</td>\n",
              "      <td>...</td>\n",
              "      <td>0.000000</td>\n",
              "      <td>0.000000</td>\n",
              "      <td>0.200000</td>\n",
              "      <td>0.220000</td>\n",
              "      <td>0.235750</td>\n",
              "      <td>0.220000</td>\n",
              "      <td>0.000000</td>\n",
              "      <td>29.000000</td>\n",
              "      <td>42.000000</td>\n",
              "      <td>0.000000</td>\n",
              "    </tr>\n",
              "    <tr>\n",
              "      <th>50%</th>\n",
              "      <td>14427.500000</td>\n",
              "      <td>63.080000</td>\n",
              "      <td>191.000000</td>\n",
              "      <td>8.000000</td>\n",
              "      <td>5.140000</td>\n",
              "      <td>1.200000</td>\n",
              "      <td>9.340000</td>\n",
              "      <td>0.700000</td>\n",
              "      <td>1.840000</td>\n",
              "      <td>21.000000</td>\n",
              "      <td>...</td>\n",
              "      <td>0.000000</td>\n",
              "      <td>0.000000</td>\n",
              "      <td>1.600000</td>\n",
              "      <td>1.592000</td>\n",
              "      <td>1.938500</td>\n",
              "      <td>0.696000</td>\n",
              "      <td>4.000000</td>\n",
              "      <td>85.000000</td>\n",
              "      <td>164.000000</td>\n",
              "      <td>0.000000</td>\n",
              "    </tr>\n",
              "    <tr>\n",
              "      <th>75%</th>\n",
              "      <td>20142.750000</td>\n",
              "      <td>77.960000</td>\n",
              "      <td>337.000000</td>\n",
              "      <td>19.880000</td>\n",
              "      <td>13.720000</td>\n",
              "      <td>2.090000</td>\n",
              "      <td>34.910000</td>\n",
              "      <td>2.600000</td>\n",
              "      <td>9.287500</td>\n",
              "      <td>69.000000</td>\n",
              "      <td>...</td>\n",
              "      <td>0.200000</td>\n",
              "      <td>6.000000</td>\n",
              "      <td>5.200000</td>\n",
              "      <td>4.345000</td>\n",
              "      <td>5.115000</td>\n",
              "      <td>2.081000</td>\n",
              "      <td>67.000000</td>\n",
              "      <td>130.000000</td>\n",
              "      <td>305.000000</td>\n",
              "      <td>0.000000</td>\n",
              "    </tr>\n",
              "    <tr>\n",
              "      <th>max</th>\n",
              "      <td>93600.000000</td>\n",
              "      <td>100.000000</td>\n",
              "      <td>902.000000</td>\n",
              "      <td>88.320000</td>\n",
              "      <td>100.000000</td>\n",
              "      <td>99.800000</td>\n",
              "      <td>100.000000</td>\n",
              "      <td>79.000000</td>\n",
              "      <td>99.800000</td>\n",
              "      <td>7364.000000</td>\n",
              "      <td>...</td>\n",
              "      <td>250.000000</td>\n",
              "      <td>10000.000000</td>\n",
              "      <td>1714.500000</td>\n",
              "      <td>95.600000</td>\n",
              "      <td>83.689000</td>\n",
              "      <td>74.623000</td>\n",
              "      <td>3100.000000</td>\n",
              "      <td>1184.000000</td>\n",
              "      <td>5717.000000</td>\n",
              "      <td>81.000000</td>\n",
              "    </tr>\n",
              "  </tbody>\n",
              "</table>\n",
              "<p>8 rows × 50 columns</p>\n",
              "</div>\n",
              "    <div class=\"colab-df-buttons\">\n",
              "\n",
              "  <div class=\"colab-df-container\">\n",
              "    <button class=\"colab-df-convert\" onclick=\"convertToInteractive('df-a6c32c30-e7ae-473a-be75-5a2bac6ed6a8')\"\n",
              "            title=\"Convert this dataframe to an interactive table.\"\n",
              "            style=\"display:none;\">\n",
              "\n",
              "  <svg xmlns=\"http://www.w3.org/2000/svg\" height=\"24px\" viewBox=\"0 -960 960 960\">\n",
              "    <path d=\"M120-120v-720h720v720H120Zm60-500h600v-160H180v160Zm220 220h160v-160H400v160Zm0 220h160v-160H400v160ZM180-400h160v-160H180v160Zm440 0h160v-160H620v160ZM180-180h160v-160H180v160Zm440 0h160v-160H620v160Z\"/>\n",
              "  </svg>\n",
              "    </button>\n",
              "\n",
              "  <style>\n",
              "    .colab-df-container {\n",
              "      display:flex;\n",
              "      gap: 12px;\n",
              "    }\n",
              "\n",
              "    .colab-df-convert {\n",
              "      background-color: #E8F0FE;\n",
              "      border: none;\n",
              "      border-radius: 50%;\n",
              "      cursor: pointer;\n",
              "      display: none;\n",
              "      fill: #1967D2;\n",
              "      height: 32px;\n",
              "      padding: 0 0 0 0;\n",
              "      width: 32px;\n",
              "    }\n",
              "\n",
              "    .colab-df-convert:hover {\n",
              "      background-color: #E2EBFA;\n",
              "      box-shadow: 0px 1px 2px rgba(60, 64, 67, 0.3), 0px 1px 3px 1px rgba(60, 64, 67, 0.15);\n",
              "      fill: #174EA6;\n",
              "    }\n",
              "\n",
              "    .colab-df-buttons div {\n",
              "      margin-bottom: 4px;\n",
              "    }\n",
              "\n",
              "    [theme=dark] .colab-df-convert {\n",
              "      background-color: #3B4455;\n",
              "      fill: #D2E3FC;\n",
              "    }\n",
              "\n",
              "    [theme=dark] .colab-df-convert:hover {\n",
              "      background-color: #434B5C;\n",
              "      box-shadow: 0px 1px 3px 1px rgba(0, 0, 0, 0.15);\n",
              "      filter: drop-shadow(0px 1px 2px rgba(0, 0, 0, 0.3));\n",
              "      fill: #FFFFFF;\n",
              "    }\n",
              "  </style>\n",
              "\n",
              "    <script>\n",
              "      const buttonEl =\n",
              "        document.querySelector('#df-a6c32c30-e7ae-473a-be75-5a2bac6ed6a8 button.colab-df-convert');\n",
              "      buttonEl.style.display =\n",
              "        google.colab.kernel.accessAllowed ? 'block' : 'none';\n",
              "\n",
              "      async function convertToInteractive(key) {\n",
              "        const element = document.querySelector('#df-a6c32c30-e7ae-473a-be75-5a2bac6ed6a8');\n",
              "        const dataTable =\n",
              "          await google.colab.kernel.invokeFunction('convertToInteractive',\n",
              "                                                    [key], {});\n",
              "        if (!dataTable) return;\n",
              "\n",
              "        const docLinkHtml = 'Like what you see? Visit the ' +\n",
              "          '<a target=\"_blank\" href=https://colab.research.google.com/notebooks/data_table.ipynb>data table notebook</a>'\n",
              "          + ' to learn more about interactive tables.';\n",
              "        element.innerHTML = '';\n",
              "        dataTable['output_type'] = 'display_data';\n",
              "        await google.colab.output.renderOutput(dataTable, element);\n",
              "        const docLink = document.createElement('div');\n",
              "        docLink.innerHTML = docLinkHtml;\n",
              "        element.appendChild(docLink);\n",
              "      }\n",
              "    </script>\n",
              "  </div>\n",
              "\n",
              "\n",
              "<div id=\"df-899cb70a-8813-43e0-8e93-9203c2bd4194\">\n",
              "  <button class=\"colab-df-quickchart\" onclick=\"quickchart('df-899cb70a-8813-43e0-8e93-9203c2bd4194')\"\n",
              "            title=\"Suggest charts\"\n",
              "            style=\"display:none;\">\n",
              "\n",
              "<svg xmlns=\"http://www.w3.org/2000/svg\" height=\"24px\"viewBox=\"0 0 24 24\"\n",
              "     width=\"24px\">\n",
              "    <g>\n",
              "        <path d=\"M19 3H5c-1.1 0-2 .9-2 2v14c0 1.1.9 2 2 2h14c1.1 0 2-.9 2-2V5c0-1.1-.9-2-2-2zM9 17H7v-7h2v7zm4 0h-2V7h2v10zm4 0h-2v-4h2v4z\"/>\n",
              "    </g>\n",
              "</svg>\n",
              "  </button>\n",
              "\n",
              "<style>\n",
              "  .colab-df-quickchart {\n",
              "      --bg-color: #E8F0FE;\n",
              "      --fill-color: #1967D2;\n",
              "      --hover-bg-color: #E2EBFA;\n",
              "      --hover-fill-color: #174EA6;\n",
              "      --disabled-fill-color: #AAA;\n",
              "      --disabled-bg-color: #DDD;\n",
              "  }\n",
              "\n",
              "  [theme=dark] .colab-df-quickchart {\n",
              "      --bg-color: #3B4455;\n",
              "      --fill-color: #D2E3FC;\n",
              "      --hover-bg-color: #434B5C;\n",
              "      --hover-fill-color: #FFFFFF;\n",
              "      --disabled-bg-color: #3B4455;\n",
              "      --disabled-fill-color: #666;\n",
              "  }\n",
              "\n",
              "  .colab-df-quickchart {\n",
              "    background-color: var(--bg-color);\n",
              "    border: none;\n",
              "    border-radius: 50%;\n",
              "    cursor: pointer;\n",
              "    display: none;\n",
              "    fill: var(--fill-color);\n",
              "    height: 32px;\n",
              "    padding: 0;\n",
              "    width: 32px;\n",
              "  }\n",
              "\n",
              "  .colab-df-quickchart:hover {\n",
              "    background-color: var(--hover-bg-color);\n",
              "    box-shadow: 0 1px 2px rgba(60, 64, 67, 0.3), 0 1px 3px 1px rgba(60, 64, 67, 0.15);\n",
              "    fill: var(--button-hover-fill-color);\n",
              "  }\n",
              "\n",
              "  .colab-df-quickchart-complete:disabled,\n",
              "  .colab-df-quickchart-complete:disabled:hover {\n",
              "    background-color: var(--disabled-bg-color);\n",
              "    fill: var(--disabled-fill-color);\n",
              "    box-shadow: none;\n",
              "  }\n",
              "\n",
              "  .colab-df-spinner {\n",
              "    border: 2px solid var(--fill-color);\n",
              "    border-color: transparent;\n",
              "    border-bottom-color: var(--fill-color);\n",
              "    animation:\n",
              "      spin 1s steps(1) infinite;\n",
              "  }\n",
              "\n",
              "  @keyframes spin {\n",
              "    0% {\n",
              "      border-color: transparent;\n",
              "      border-bottom-color: var(--fill-color);\n",
              "      border-left-color: var(--fill-color);\n",
              "    }\n",
              "    20% {\n",
              "      border-color: transparent;\n",
              "      border-left-color: var(--fill-color);\n",
              "      border-top-color: var(--fill-color);\n",
              "    }\n",
              "    30% {\n",
              "      border-color: transparent;\n",
              "      border-left-color: var(--fill-color);\n",
              "      border-top-color: var(--fill-color);\n",
              "      border-right-color: var(--fill-color);\n",
              "    }\n",
              "    40% {\n",
              "      border-color: transparent;\n",
              "      border-right-color: var(--fill-color);\n",
              "      border-top-color: var(--fill-color);\n",
              "    }\n",
              "    60% {\n",
              "      border-color: transparent;\n",
              "      border-right-color: var(--fill-color);\n",
              "    }\n",
              "    80% {\n",
              "      border-color: transparent;\n",
              "      border-right-color: var(--fill-color);\n",
              "      border-bottom-color: var(--fill-color);\n",
              "    }\n",
              "    90% {\n",
              "      border-color: transparent;\n",
              "      border-bottom-color: var(--fill-color);\n",
              "    }\n",
              "  }\n",
              "</style>\n",
              "\n",
              "  <script>\n",
              "    async function quickchart(key) {\n",
              "      const quickchartButtonEl =\n",
              "        document.querySelector('#' + key + ' button');\n",
              "      quickchartButtonEl.disabled = true;  // To prevent multiple clicks.\n",
              "      quickchartButtonEl.classList.add('colab-df-spinner');\n",
              "      try {\n",
              "        const charts = await google.colab.kernel.invokeFunction(\n",
              "            'suggestCharts', [key], {});\n",
              "      } catch (error) {\n",
              "        console.error('Error during call to suggestCharts:', error);\n",
              "      }\n",
              "      quickchartButtonEl.classList.remove('colab-df-spinner');\n",
              "      quickchartButtonEl.classList.add('colab-df-quickchart-complete');\n",
              "    }\n",
              "    (() => {\n",
              "      let quickchartButtonEl =\n",
              "        document.querySelector('#df-899cb70a-8813-43e0-8e93-9203c2bd4194 button');\n",
              "      quickchartButtonEl.style.display =\n",
              "        google.colab.kernel.accessAllowed ? 'block' : 'none';\n",
              "    })();\n",
              "  </script>\n",
              "</div>\n",
              "    </div>\n",
              "  </div>\n"
            ],
            "application/vnd.google.colaboratory.intrinsic+json": {
              "type": "dataframe"
            }
          },
          "metadata": {},
          "execution_count": 126
        }
      ],
      "source": [
        "num_data_svoy2.describe()"
      ]
    },
    {
      "cell_type": "code",
      "execution_count": null,
      "metadata": {
        "id": "wsZaHFgQwxua",
        "colab": {
          "base_uri": "https://localhost:8080/",
          "height": 175
        },
        "outputId": "4f5b3c9a-d2e6-49f7-953f-9492f358c023"
      },
      "outputs": [
        {
          "output_type": "execute_result",
          "data": {
            "text/plain": [
              "                                                Shrt_Desc GmWt_Desc1  \\\n",
              "count                                                8790       8491   \n",
              "unique                                               8787        911   \n",
              "top     BEEF,CHUCK,UNDER BLADE CNTR STEAK,BNLESS,DENVE...       3 oz   \n",
              "freq                                                    2       1409   \n",
              "\n",
              "       GmWt_Desc2  \n",
              "count        4825  \n",
              "unique        921  \n",
              "top         1 cup  \n",
              "freq          298  "
            ],
            "text/html": [
              "\n",
              "  <div id=\"df-8640d5dc-1bdb-4412-ac01-d1325c10de7b\" class=\"colab-df-container\">\n",
              "    <div>\n",
              "<style scoped>\n",
              "    .dataframe tbody tr th:only-of-type {\n",
              "        vertical-align: middle;\n",
              "    }\n",
              "\n",
              "    .dataframe tbody tr th {\n",
              "        vertical-align: top;\n",
              "    }\n",
              "\n",
              "    .dataframe thead th {\n",
              "        text-align: right;\n",
              "    }\n",
              "</style>\n",
              "<table border=\"1\" class=\"dataframe\">\n",
              "  <thead>\n",
              "    <tr style=\"text-align: right;\">\n",
              "      <th></th>\n",
              "      <th>Shrt_Desc</th>\n",
              "      <th>GmWt_Desc1</th>\n",
              "      <th>GmWt_Desc2</th>\n",
              "    </tr>\n",
              "  </thead>\n",
              "  <tbody>\n",
              "    <tr>\n",
              "      <th>count</th>\n",
              "      <td>8790</td>\n",
              "      <td>8491</td>\n",
              "      <td>4825</td>\n",
              "    </tr>\n",
              "    <tr>\n",
              "      <th>unique</th>\n",
              "      <td>8787</td>\n",
              "      <td>911</td>\n",
              "      <td>921</td>\n",
              "    </tr>\n",
              "    <tr>\n",
              "      <th>top</th>\n",
              "      <td>BEEF,CHUCK,UNDER BLADE CNTR STEAK,BNLESS,DENVE...</td>\n",
              "      <td>3 oz</td>\n",
              "      <td>1 cup</td>\n",
              "    </tr>\n",
              "    <tr>\n",
              "      <th>freq</th>\n",
              "      <td>2</td>\n",
              "      <td>1409</td>\n",
              "      <td>298</td>\n",
              "    </tr>\n",
              "  </tbody>\n",
              "</table>\n",
              "</div>\n",
              "    <div class=\"colab-df-buttons\">\n",
              "\n",
              "  <div class=\"colab-df-container\">\n",
              "    <button class=\"colab-df-convert\" onclick=\"convertToInteractive('df-8640d5dc-1bdb-4412-ac01-d1325c10de7b')\"\n",
              "            title=\"Convert this dataframe to an interactive table.\"\n",
              "            style=\"display:none;\">\n",
              "\n",
              "  <svg xmlns=\"http://www.w3.org/2000/svg\" height=\"24px\" viewBox=\"0 -960 960 960\">\n",
              "    <path d=\"M120-120v-720h720v720H120Zm60-500h600v-160H180v160Zm220 220h160v-160H400v160Zm0 220h160v-160H400v160ZM180-400h160v-160H180v160Zm440 0h160v-160H620v160ZM180-180h160v-160H180v160Zm440 0h160v-160H620v160Z\"/>\n",
              "  </svg>\n",
              "    </button>\n",
              "\n",
              "  <style>\n",
              "    .colab-df-container {\n",
              "      display:flex;\n",
              "      gap: 12px;\n",
              "    }\n",
              "\n",
              "    .colab-df-convert {\n",
              "      background-color: #E8F0FE;\n",
              "      border: none;\n",
              "      border-radius: 50%;\n",
              "      cursor: pointer;\n",
              "      display: none;\n",
              "      fill: #1967D2;\n",
              "      height: 32px;\n",
              "      padding: 0 0 0 0;\n",
              "      width: 32px;\n",
              "    }\n",
              "\n",
              "    .colab-df-convert:hover {\n",
              "      background-color: #E2EBFA;\n",
              "      box-shadow: 0px 1px 2px rgba(60, 64, 67, 0.3), 0px 1px 3px 1px rgba(60, 64, 67, 0.15);\n",
              "      fill: #174EA6;\n",
              "    }\n",
              "\n",
              "    .colab-df-buttons div {\n",
              "      margin-bottom: 4px;\n",
              "    }\n",
              "\n",
              "    [theme=dark] .colab-df-convert {\n",
              "      background-color: #3B4455;\n",
              "      fill: #D2E3FC;\n",
              "    }\n",
              "\n",
              "    [theme=dark] .colab-df-convert:hover {\n",
              "      background-color: #434B5C;\n",
              "      box-shadow: 0px 1px 3px 1px rgba(0, 0, 0, 0.15);\n",
              "      filter: drop-shadow(0px 1px 2px rgba(0, 0, 0, 0.3));\n",
              "      fill: #FFFFFF;\n",
              "    }\n",
              "  </style>\n",
              "\n",
              "    <script>\n",
              "      const buttonEl =\n",
              "        document.querySelector('#df-8640d5dc-1bdb-4412-ac01-d1325c10de7b button.colab-df-convert');\n",
              "      buttonEl.style.display =\n",
              "        google.colab.kernel.accessAllowed ? 'block' : 'none';\n",
              "\n",
              "      async function convertToInteractive(key) {\n",
              "        const element = document.querySelector('#df-8640d5dc-1bdb-4412-ac01-d1325c10de7b');\n",
              "        const dataTable =\n",
              "          await google.colab.kernel.invokeFunction('convertToInteractive',\n",
              "                                                    [key], {});\n",
              "        if (!dataTable) return;\n",
              "\n",
              "        const docLinkHtml = 'Like what you see? Visit the ' +\n",
              "          '<a target=\"_blank\" href=https://colab.research.google.com/notebooks/data_table.ipynb>data table notebook</a>'\n",
              "          + ' to learn more about interactive tables.';\n",
              "        element.innerHTML = '';\n",
              "        dataTable['output_type'] = 'display_data';\n",
              "        await google.colab.output.renderOutput(dataTable, element);\n",
              "        const docLink = document.createElement('div');\n",
              "        docLink.innerHTML = docLinkHtml;\n",
              "        element.appendChild(docLink);\n",
              "      }\n",
              "    </script>\n",
              "  </div>\n",
              "\n",
              "\n",
              "<div id=\"df-a4ea88ff-fdbf-46b5-b8c0-f600b618de5b\">\n",
              "  <button class=\"colab-df-quickchart\" onclick=\"quickchart('df-a4ea88ff-fdbf-46b5-b8c0-f600b618de5b')\"\n",
              "            title=\"Suggest charts\"\n",
              "            style=\"display:none;\">\n",
              "\n",
              "<svg xmlns=\"http://www.w3.org/2000/svg\" height=\"24px\"viewBox=\"0 0 24 24\"\n",
              "     width=\"24px\">\n",
              "    <g>\n",
              "        <path d=\"M19 3H5c-1.1 0-2 .9-2 2v14c0 1.1.9 2 2 2h14c1.1 0 2-.9 2-2V5c0-1.1-.9-2-2-2zM9 17H7v-7h2v7zm4 0h-2V7h2v10zm4 0h-2v-4h2v4z\"/>\n",
              "    </g>\n",
              "</svg>\n",
              "  </button>\n",
              "\n",
              "<style>\n",
              "  .colab-df-quickchart {\n",
              "      --bg-color: #E8F0FE;\n",
              "      --fill-color: #1967D2;\n",
              "      --hover-bg-color: #E2EBFA;\n",
              "      --hover-fill-color: #174EA6;\n",
              "      --disabled-fill-color: #AAA;\n",
              "      --disabled-bg-color: #DDD;\n",
              "  }\n",
              "\n",
              "  [theme=dark] .colab-df-quickchart {\n",
              "      --bg-color: #3B4455;\n",
              "      --fill-color: #D2E3FC;\n",
              "      --hover-bg-color: #434B5C;\n",
              "      --hover-fill-color: #FFFFFF;\n",
              "      --disabled-bg-color: #3B4455;\n",
              "      --disabled-fill-color: #666;\n",
              "  }\n",
              "\n",
              "  .colab-df-quickchart {\n",
              "    background-color: var(--bg-color);\n",
              "    border: none;\n",
              "    border-radius: 50%;\n",
              "    cursor: pointer;\n",
              "    display: none;\n",
              "    fill: var(--fill-color);\n",
              "    height: 32px;\n",
              "    padding: 0;\n",
              "    width: 32px;\n",
              "  }\n",
              "\n",
              "  .colab-df-quickchart:hover {\n",
              "    background-color: var(--hover-bg-color);\n",
              "    box-shadow: 0 1px 2px rgba(60, 64, 67, 0.3), 0 1px 3px 1px rgba(60, 64, 67, 0.15);\n",
              "    fill: var(--button-hover-fill-color);\n",
              "  }\n",
              "\n",
              "  .colab-df-quickchart-complete:disabled,\n",
              "  .colab-df-quickchart-complete:disabled:hover {\n",
              "    background-color: var(--disabled-bg-color);\n",
              "    fill: var(--disabled-fill-color);\n",
              "    box-shadow: none;\n",
              "  }\n",
              "\n",
              "  .colab-df-spinner {\n",
              "    border: 2px solid var(--fill-color);\n",
              "    border-color: transparent;\n",
              "    border-bottom-color: var(--fill-color);\n",
              "    animation:\n",
              "      spin 1s steps(1) infinite;\n",
              "  }\n",
              "\n",
              "  @keyframes spin {\n",
              "    0% {\n",
              "      border-color: transparent;\n",
              "      border-bottom-color: var(--fill-color);\n",
              "      border-left-color: var(--fill-color);\n",
              "    }\n",
              "    20% {\n",
              "      border-color: transparent;\n",
              "      border-left-color: var(--fill-color);\n",
              "      border-top-color: var(--fill-color);\n",
              "    }\n",
              "    30% {\n",
              "      border-color: transparent;\n",
              "      border-left-color: var(--fill-color);\n",
              "      border-top-color: var(--fill-color);\n",
              "      border-right-color: var(--fill-color);\n",
              "    }\n",
              "    40% {\n",
              "      border-color: transparent;\n",
              "      border-right-color: var(--fill-color);\n",
              "      border-top-color: var(--fill-color);\n",
              "    }\n",
              "    60% {\n",
              "      border-color: transparent;\n",
              "      border-right-color: var(--fill-color);\n",
              "    }\n",
              "    80% {\n",
              "      border-color: transparent;\n",
              "      border-right-color: var(--fill-color);\n",
              "      border-bottom-color: var(--fill-color);\n",
              "    }\n",
              "    90% {\n",
              "      border-color: transparent;\n",
              "      border-bottom-color: var(--fill-color);\n",
              "    }\n",
              "  }\n",
              "</style>\n",
              "\n",
              "  <script>\n",
              "    async function quickchart(key) {\n",
              "      const quickchartButtonEl =\n",
              "        document.querySelector('#' + key + ' button');\n",
              "      quickchartButtonEl.disabled = true;  // To prevent multiple clicks.\n",
              "      quickchartButtonEl.classList.add('colab-df-spinner');\n",
              "      try {\n",
              "        const charts = await google.colab.kernel.invokeFunction(\n",
              "            'suggestCharts', [key], {});\n",
              "      } catch (error) {\n",
              "        console.error('Error during call to suggestCharts:', error);\n",
              "      }\n",
              "      quickchartButtonEl.classList.remove('colab-df-spinner');\n",
              "      quickchartButtonEl.classList.add('colab-df-quickchart-complete');\n",
              "    }\n",
              "    (() => {\n",
              "      let quickchartButtonEl =\n",
              "        document.querySelector('#df-a4ea88ff-fdbf-46b5-b8c0-f600b618de5b button');\n",
              "      quickchartButtonEl.style.display =\n",
              "        google.colab.kernel.accessAllowed ? 'block' : 'none';\n",
              "    })();\n",
              "  </script>\n",
              "</div>\n",
              "    </div>\n",
              "  </div>\n"
            ],
            "application/vnd.google.colaboratory.intrinsic+json": {
              "type": "dataframe",
              "summary": "{\n  \"name\": \"cat_data_svoy2\",\n  \"rows\": 4,\n  \"fields\": [\n    {\n      \"column\": \"Shrt_Desc\",\n      \"properties\": {\n        \"dtype\": \"string\",\n        \"num_unique_values\": 4,\n        \"samples\": [\n          8787,\n          \"2\",\n          \"8790\"\n        ],\n        \"semantic_type\": \"\",\n        \"description\": \"\"\n      }\n    },\n    {\n      \"column\": \"GmWt_Desc1\",\n      \"properties\": {\n        \"dtype\": \"string\",\n        \"num_unique_values\": 4,\n        \"samples\": [\n          911,\n          \"1409\",\n          \"8491\"\n        ],\n        \"semantic_type\": \"\",\n        \"description\": \"\"\n      }\n    },\n    {\n      \"column\": \"GmWt_Desc2\",\n      \"properties\": {\n        \"dtype\": \"string\",\n        \"num_unique_values\": 4,\n        \"samples\": [\n          921,\n          \"298\",\n          \"4825\"\n        ],\n        \"semantic_type\": \"\",\n        \"description\": \"\"\n      }\n    }\n  ]\n}"
            }
          },
          "metadata": {},
          "execution_count": 127
        }
      ],
      "source": [
        "cat_data_svoy2.describe()"
      ]
    },
    {
      "cell_type": "markdown",
      "metadata": {
        "id": "7-tpuOV1yMD6"
      },
      "source": [
        "3) Придумайте способ осмысленного разбиения этих данных на несколько классов. Создайте новый столбец CLASS и поместите в него метки классов. Визуализируйте выполненное разбиение. Следующие действия выполняются над тремя версиями таблицы: а) ваш вариант б) разбиение одногруппника в) таблица с метками классов из файла в этом задании."
      ]
    },
    {
      "cell_type": "code",
      "execution_count": null,
      "metadata": {
        "id": "xSyIKz1TydWY",
        "colab": {
          "base_uri": "https://localhost:8080/"
        },
        "outputId": "ff4d1840-d016-43bc-8ad9-e540b8cfe036"
      },
      "outputs": [
        {
          "output_type": "stream",
          "name": "stderr",
          "text": [
            "<ipython-input-128-df09da038d3b>:11: SettingWithCopyWarning: \n",
            "A value is trying to be set on a copy of a slice from a DataFrame\n",
            "\n",
            "See the caveats in the documentation: https://pandas.pydata.org/pandas-docs/stable/user_guide/indexing.html#returning-a-view-versus-a-copy\n",
            "  num_data_svoy2.rename(columns = {'Water_(g)':'Water_g', 'Protein_(g)':'Protein_g', 'Lipid_Tot_(g)':'Lipid_Tot_g', 'Ash_(g)':'Ash_g', 'Carbohydrt_(g)':'Carbohydrt_g', 'Fiber_TD_(g)':'Fiber_TD_g',\n"
          ]
        }
      ],
      "source": [
        "data_svoy2.rename(columns = {'Water_(g)':'Water_g', 'Protein_(g)':'Protein_g', 'Lipid_Tot_(g)':'Lipid_Tot_g', 'Ash_(g)':'Ash_g', 'Carbohydrt_(g)':'Carbohydrt_g', 'Fiber_TD_(g)':'Fiber_TD_g',\n",
        "                       'Sugar_Tot_(g)':'Sugar_Tot_g', 'Calcium_(mg)':'Calcium_mg', 'Iron_(mg)':'Iron_mg', 'Magnesium_(mg)':'Magnesium_mg', 'Phosphorus_(mg)':'Phosphorus_mg',\n",
        "                       'Potassium_(mg)':'Potassium_mg', 'Sodium_(mg)':'Sodium_mg', 'Zinc_(mg)':'Zinc_mg', 'Copper_mg)':'Copper_mg', 'Manganese_(mg)':'Manganese_mg',\n",
        "                       'Selenium_(µg)':'Selenium_µg', 'Vit_C_(mg)':'Vit_C_mg', 'Thiamin_(mg)':'Thiamin_mg', 'Riboflavin_(mg)':'Riboflavin_mg', 'Niacin_(mg)':'Niacin_mg',\n",
        "                       'Panto_Acid_mg)':'Panto_Acid_mg', 'Vit_B6_(mg)':'Vit_B6_mg', 'Folate_Tot_(µg)':'Folate_Tot_µg', 'Food_Folate_(µg)':'Food_Folate_µg',\n",
        "                       'Folate_DFE_(µg)':'Folate_DFE_µg', 'Choline_Tot_ (mg)':'Choline_Tot_mg', 'Folic_Acid_(µg)':'Folic_Acid_µg', 'Vit_B12_(µg)':'Vit_B12_µg',\n",
        "                       'Retinol_(µg)':'Retinol_µg', 'Alpha_Carot_(µg)':'Alpha_Carot_µg', 'Beta_Carot_(µg)':'Beta_Carot_µg', 'Vit_B12_(µg)':'Vit_B12_µg', 'Beta_Crypt_(µg)':'Beta_Crypt_µg',\n",
        "                       'Lycopene_(µg)':'Lycopene_µg', 'Lut+Zea_ (µg)':'Lut+Zea_µg', 'Vit_E_(mg)':'Vit_E_mg', 'Vit_K_(µg)':'Vit_K_µg','FA_Sat_(g)':'FA_Sat_g',\n",
        "                       'FA_Mono_(g)':'FA_Mono_g', 'FA_Poly_(g)':'FA_Poly_g', 'Cholestrl_(mg)':'Cholestrl_mg',\n",
        "                       }, inplace = True )\n",
        "num_data_svoy2.rename(columns = {'Water_(g)':'Water_g', 'Protein_(g)':'Protein_g', 'Lipid_Tot_(g)':'Lipid_Tot_g', 'Ash_(g)':'Ash_g', 'Carbohydrt_(g)':'Carbohydrt_g', 'Fiber_TD_(g)':'Fiber_TD_g',\n",
        "                       'Sugar_Tot_(g)':'Sugar_Tot_g', 'Calcium_(mg)':'Calcium_mg', 'Iron_(mg)':'Iron_mg', 'Magnesium_(mg)':'Magnesium_mg', 'Phosphorus_(mg)':'Phosphorus_mg',\n",
        "                       'Potassium_(mg)':'Potassium_mg', 'Sodium_(mg)':'Sodium_mg', 'Zinc_(mg)':'Zinc_mg', 'Copper_mg)':'Copper_mg', 'Manganese_(mg)':'Manganese_mg',\n",
        "                       'Selenium_(µg)':'Selenium_mg', 'Vit_C_(mg)':'Vit_C_mg', 'Thiamin_(mg)':'Thiamin_mg', 'Riboflavin_(mg)':'Riboflavin_mg', 'Niacin_(mg)':'Niacin_mg',\n",
        "                       'Panto_Acid_mg)':'Panto_Acid_mg', 'Vit_B6_(mg)':'Vit_B6_mg', 'Folate_Tot_(µg)':'Folate_Tot_mg', 'Food_Folate_(µg)':'Food_Folate_mg',\n",
        "                       'Folate_DFE_(µg)':'Folate_DFE_mg', 'Choline_Tot_ (mg)':'Choline_Tot_mg', 'Folic_Acid_(µg)':'Folic_Acid_mg', 'Vit_B12_(µg)':'Vit_B12_mg',\n",
        "                       'Retinol_(µg)':'Retinol_mg', 'Alpha_Carot_(µg)':'Alpha_Carot_mg', 'Beta_Carot_(µg)':'Beta_Carot_mg', 'Vit_B12_(µg)':'Vit_B12_mg', 'Beta_Crypt_(µg)':'Beta_Crypt_mg',\n",
        "                       'Lycopene_(µg)':'Lycopene_mg', 'Lut+Zea_ (µg)':'Lut_Zea_mg', 'Vit_E_(mg)':'Vit_E_mg', 'Vit_K_(µg)':'Vit_K_mg','FA_Sat_(g)':'FA_Sat_g',\n",
        "                       'FA_Mono_(g)':'FA_Mono_g', 'FA_Poly_(g)':'FA_Poly_g', 'Cholestrl_(mg)':'Cholestrl_mg', 'Vit_D_µg' : 'Vit_D_mg',\n",
        "                       }, inplace = True )"
      ]
    },
    {
      "cell_type": "code",
      "execution_count": null,
      "metadata": {
        "id": "tcZX3Nyx16jA"
      },
      "outputs": [],
      "source": [
        "num_data_svoy2 = num_data_svoy2.drop(columns = ['NDB_No'])"
      ]
    },
    {
      "cell_type": "markdown",
      "metadata": {
        "id": "rPI-gZNi1gbf"
      },
      "source": [
        "3.1) выполните минимальные необходимые манипуляции (обработайте категориальные признаки и пропуски) (Первый датасет)"
      ]
    },
    {
      "cell_type": "code",
      "execution_count": null,
      "metadata": {
        "id": "YrLCjwrS2kMH"
      },
      "outputs": [],
      "source": [
        "num_data_svoy2.Water_g = num_data_svoy2.Water_g.fillna(num_data_svoy2.Water_g.median())\n",
        "num_data_svoy2.Ash_g = num_data_svoy2.Ash_g.fillna(num_data_svoy2.Ash_g.median())\n",
        "num_data_svoy2.Fiber_TD_g = num_data_svoy2.Fiber_TD_g.fillna(num_data_svoy2.Fiber_TD_g.median())\n",
        "num_data_svoy2.Sugar_Tot_g = num_data_svoy2.Sugar_Tot_g.fillna(num_data_svoy2.Sugar_Tot_g.median())\n",
        "num_data_svoy2.Calcium_mg = num_data_svoy2.Calcium_mg.fillna(num_data_svoy2.Calcium_mg.median())\n",
        "num_data_svoy2.Iron_mg = num_data_svoy2.Iron_mg.fillna(num_data_svoy2.Iron_mg.median())\n",
        "num_data_svoy2.Magnesium_mg = num_data_svoy2.Magnesium_mg.fillna(num_data_svoy2.Magnesium_mg.median())\n",
        "num_data_svoy2.Phosphorus_mg = num_data_svoy2.Phosphorus_mg.fillna(num_data_svoy2.Phosphorus_mg.median())\n",
        "num_data_svoy2.Potassium_mg = num_data_svoy2.Potassium_mg.fillna(num_data_svoy2.Potassium_mg.median())\n",
        "num_data_svoy2.Sodium_mg = num_data_svoy2.Sodium_mg.fillna(num_data_svoy2.Sodium_mg.median())\n",
        "num_data_svoy2.Zinc_mg = num_data_svoy2.Zinc_mg.fillna(num_data_svoy2.Zinc_mg.median())\n",
        "num_data_svoy2.Copper_mg = num_data_svoy2.Copper_mg.fillna(num_data_svoy2.Copper_mg.median())\n",
        "num_data_svoy2.Manganese_mg = num_data_svoy2.Manganese_mg.fillna(num_data_svoy2.Manganese_mg.median())\n",
        "num_data_svoy2.Selenium_mg = num_data_svoy2.Selenium_mg.fillna(num_data_svoy2.Selenium_mg.median())\n",
        "num_data_svoy2.Vit_C_mg = num_data_svoy2.Vit_C_mg.fillna(num_data_svoy2.Vit_C_mg.median())\n",
        "num_data_svoy2.Thiamin_mg = num_data_svoy2.Thiamin_mg.fillna(num_data_svoy2.Thiamin_mg.median())\n",
        "num_data_svoy2.Riboflavin_mg = num_data_svoy2.Riboflavin_mg.fillna(num_data_svoy2.Riboflavin_mg.median())\n",
        "num_data_svoy2.Niacin_mg = num_data_svoy2.Niacin_mg.fillna(num_data_svoy2.Niacin_mg.median())\n",
        "num_data_svoy2.Panto_Acid_mg = num_data_svoy2.Panto_Acid_mg.fillna(num_data_svoy2.Panto_Acid_mg.median())\n",
        "num_data_svoy2.Vit_B6_mg = num_data_svoy2.Vit_B6_mg.fillna(num_data_svoy2.Vit_B6_mg.median())\n",
        "num_data_svoy2.Folate_Tot_mg = num_data_svoy2.Folate_Tot_mg.fillna(num_data_svoy2.Folate_Tot_mg.median())\n",
        "num_data_svoy2.Folic_Acid_mg = num_data_svoy2.Folic_Acid_mg.fillna(num_data_svoy2.Folic_Acid_mg.median())\n",
        "num_data_svoy2.Food_Folate_mg = num_data_svoy2.Food_Folate_mg.fillna(num_data_svoy2.Food_Folate_mg.median())\n",
        "num_data_svoy2.Folate_DFE_mg = num_data_svoy2.Folate_DFE_mg.fillna(num_data_svoy2.Folate_DFE_mg.median())\n",
        "num_data_svoy2.Choline_Tot_mg = num_data_svoy2.Choline_Tot_mg.fillna(num_data_svoy2.Choline_Tot_mg.median())\n",
        "num_data_svoy2.Vit_B12_mg = num_data_svoy2.Vit_B12_mg.fillna(num_data_svoy2.Vit_B12_mg.median())\n",
        "num_data_svoy2.Vit_A_IU = num_data_svoy2.Vit_A_IU.fillna(num_data_svoy2.Vit_A_IU.median())\n",
        "num_data_svoy2.Vit_A_RAE = num_data_svoy2.Vit_A_RAE.fillna(num_data_svoy2.Vit_A_RAE.median())\n",
        "num_data_svoy2.Retinol_mg = num_data_svoy2.Retinol_mg.fillna(num_data_svoy2.Retinol_mg.median())\n",
        "num_data_svoy2.Alpha_Carot_mg = num_data_svoy2.Alpha_Carot_mg.fillna(num_data_svoy2.Alpha_Carot_mg.median())\n",
        "num_data_svoy2.Beta_Carot_mg = num_data_svoy2.Beta_Carot_mg.fillna(num_data_svoy2.Beta_Carot_mg.median())\n",
        "num_data_svoy2.Beta_Crypt_mg = num_data_svoy2.Beta_Crypt_mg.fillna(num_data_svoy2.Beta_Crypt_mg.median())\n",
        "num_data_svoy2.Lycopene_mg = num_data_svoy2.Lycopene_mg.fillna(num_data_svoy2.Lycopene_mg.median())\n",
        "num_data_svoy2.Lut_Zea_mg = num_data_svoy2.Lut_Zea_mg.fillna(num_data_svoy2.Lut_Zea_mg.median())\n",
        "num_data_svoy2.Vit_E_mg = num_data_svoy2.Vit_E_mg.fillna(num_data_svoy2.Vit_E_mg.median())\n",
        "num_data_svoy2.Vit_D_mg = num_data_svoy2.Vit_D_mg.fillna(num_data_svoy2.Vit_D_mg.median())\n",
        "num_data_svoy2.Vit_D_IU = num_data_svoy2.Vit_D_IU.fillna(num_data_svoy2.Vit_D_IU.median())\n",
        "num_data_svoy2.Vit_K_mg = num_data_svoy2.Vit_K_mg.fillna(num_data_svoy2.Vit_K_mg.median())\n",
        "num_data_svoy2.FA_Sat_g = num_data_svoy2.FA_Sat_g.fillna(num_data_svoy2.FA_Sat_g.median())\n",
        "num_data_svoy2.FA_Mono_g = num_data_svoy2.FA_Mono_g.fillna(num_data_svoy2.FA_Mono_g.median())\n",
        "num_data_svoy2.FA_Poly_g = num_data_svoy2.FA_Poly_g.fillna(num_data_svoy2.FA_Poly_g.median())\n",
        "num_data_svoy2.Cholestrl_mg = num_data_svoy2.Cholestrl_mg.fillna(num_data_svoy2.Cholestrl_mg.median())\n",
        "num_data_svoy2.GmWt_1 = num_data_svoy2.GmWt_1.fillna(num_data_svoy2.GmWt_1.median())\n",
        "num_data_svoy2.GmWt_2 = num_data_svoy2.GmWt_2.fillna(num_data_svoy2.GmWt_2.median())\n",
        "num_data_svoy2.Refuse_Pct = num_data_svoy2.Refuse_Pct.fillna(num_data_svoy2.Refuse_Pct.median())"
      ]
    },
    {
      "cell_type": "code",
      "execution_count": null,
      "metadata": {
        "id": "vFHtdyBH9vER"
      },
      "outputs": [],
      "source": [
        "groups = {\n",
        "    'Минералы': ['Calcium_mg', 'Iron_mg', 'Magnesium_mg', 'Phosphorus_mg', 'Potassium_mg', 'Sodium_mg', 'Zinc_mg', 'Copper_mg', 'Manganese_mg', 'Selenium_mg'],\n",
        "}"
      ]
    },
    {
      "cell_type": "code",
      "execution_count": null,
      "metadata": {
        "id": "xJ057U0_90zI"
      },
      "outputs": [],
      "source": [
        "# Среднее значение считалось вручную по сумме средних значений каждого вида витамина\n",
        "srz = (74.531513 + 2.678055 + 34.094084 + 163.815358 + 277.050853 + 310.376109 + 2.026884 + 0.180828 + 0.516575 + 14.529044) // 10"
      ]
    },
    {
      "cell_type": "code",
      "execution_count": null,
      "metadata": {
        "id": "2pr1CF0iGVlW"
      },
      "outputs": [],
      "source": [
        "for i, row in num_data_svoy2.iterrows():\n",
        "  if row['Calcium_mg'] + row['Iron_mg'] + row['Magnesium_mg'] + row['Phosphorus_mg'] + row['Potassium_mg'] + row['Sodium_mg'] + row['Zinc_mg'] + row['Copper_mg'] + row['Manganese_mg'] + row['Selenium_mg'] > srz:\n",
        "    num_data_svoy2.at[i, 'CLASS'] = 1\n",
        "  else:\n",
        "    num_data_svoy2.at[i, 'CLASS'] = 2"
      ]
    },
    {
      "cell_type": "code",
      "execution_count": null,
      "metadata": {
        "id": "SP45kM9sHcGG",
        "colab": {
          "base_uri": "https://localhost:8080/",
          "height": 466
        },
        "outputId": "88b41dd5-c70b-4b3d-bcb0-e4d0b9295d82"
      },
      "outputs": [
        {
          "output_type": "execute_result",
          "data": {
            "text/plain": [
              "<Axes: xlabel='CLASS', ylabel='count'>"
            ]
          },
          "metadata": {},
          "execution_count": 134
        },
        {
          "output_type": "display_data",
          "data": {
            "text/plain": [
              "<Figure size 640x480 with 1 Axes>"
            ],
            "image/png": "[encoded data removed]"
          },
          "metadata": {}
        }
      ],
      "source": [
        "sns.countplot(x = num_data_svoy2['CLASS'])"
      ]
    },
    {
      "cell_type": "markdown",
      "metadata": {
        "id": "TkJK2m2paJkW"
      },
      "source": [
        "3.2) отделите столбец с меткой CLASS(Второй датасет)"
      ]
    },
    {
      "cell_type": "code",
      "execution_count": null,
      "metadata": {
        "id": "o4OgivvoaJxe"
      },
      "outputs": [],
      "source": [
        "CLASS = num_data_svoy2['CLASS'].squeeze()\n",
        "num_data_svoy2 = num_data_svoy2.drop(['CLASS'], axis = 1)"
      ]
    },
    {
      "cell_type": "markdown",
      "metadata": {
        "id": "cv3SDJgCarqo"
      },
      "source": [
        "3.3) разбейте данные на тренировочный и тестовый наборыю (Второй датасет)"
      ]
    },
    {
      "cell_type": "code",
      "execution_count": null,
      "metadata": {
        "id": "pB5afkWlar2I"
      },
      "outputs": [],
      "source": [
        "from sklearn.model_selection import train_test_split\n",
        "X_train, X_test, y_train, y_test = train_test_split(num_data_svoy2, CLASS, test_size = 0.3, random_state = 42)"
      ]
    },
    {
      "cell_type": "markdown",
      "metadata": {
        "id": "gt__er6RbL1g"
      },
      "source": [
        "4) Обучите классификатор KneighborsClassifier На тренировочном наборе."
      ]
    },
    {
      "cell_type": "code",
      "execution_count": null,
      "metadata": {
        "id": "x9XGO6pZbMBP",
        "colab": {
          "base_uri": "https://localhost:8080/"
        },
        "outputId": "84a6a48c-ee80-4464-803f-699a3eab5582"
      },
      "outputs": [
        {
          "output_type": "execute_result",
          "data": {
            "text/plain": [
              "0.9882442169131589"
            ]
          },
          "metadata": {},
          "execution_count": 137
        }
      ],
      "source": [
        "from sklearn.neighbors import KNeighborsClassifier\n",
        "knn_svoy2 = KNeighborsClassifier()\n",
        "knn_svoy2.fit(X_train, y_train)\n",
        "knn_svoy2.score(X_test, y_test)"
      ]
    },
    {
      "cell_type": "markdown",
      "metadata": {
        "id": "qlC2vkLYbsz4"
      },
      "source": [
        "5) Используйте обученную модель на тестовых данных, оцените полученные результаты. Используйте визуализацию и несколько метрик. (Второй датасет)"
      ]
    },
    {
      "cell_type": "code",
      "execution_count": null,
      "metadata": {
        "id": "QOwxXldVbtCW",
        "colab": {
          "base_uri": "https://localhost:8080/"
        },
        "outputId": "b65f6b54-3e93-4162-a1a0-a8f59757f69e"
      },
      "outputs": [
        {
          "output_type": "stream",
          "name": "stdout",
          "text": [
            "              precision    recall  f1-score   support\n",
            "\n",
            "         1.0       0.99      1.00      1.00      5883\n",
            "         2.0       0.92      0.88      0.90       270\n",
            "\n",
            "    accuracy                           0.99      6153\n",
            "   macro avg       0.95      0.94      0.95      6153\n",
            "weighted avg       0.99      0.99      0.99      6153\n",
            "\n"
          ]
        }
      ],
      "source": [
        "#Тренировочный набор\n",
        "from sklearn.metrics import classification_report\n",
        "y_pred = knn_svoy2.predict(X_train)\n",
        "print(classification_report(y_train, y_pred))"
      ]
    },
    {
      "cell_type": "code",
      "execution_count": null,
      "metadata": {
        "id": "KYdLj5ksdHea",
        "colab": {
          "base_uri": "https://localhost:8080/"
        },
        "outputId": "4f6d8c1e-3ea8-4c4d-c44e-b6d9e7d39235"
      },
      "outputs": [
        {
          "output_type": "stream",
          "name": "stdout",
          "text": [
            "              precision    recall  f1-score   support\n",
            "\n",
            "         1.0       0.99      1.00      0.99      2505\n",
            "         2.0       0.92      0.84      0.88       132\n",
            "\n",
            "    accuracy                           0.99      2637\n",
            "   macro avg       0.95      0.92      0.94      2637\n",
            "weighted avg       0.99      0.99      0.99      2637\n",
            "\n"
          ]
        }
      ],
      "source": [
        "#Тестовый набор\n",
        "y_pred = knn_svoy2.predict(X_test)\n",
        "print(classification_report(y_test, y_pred))"
      ]
    },
    {
      "cell_type": "code",
      "execution_count": null,
      "metadata": {
        "id": "0hMkitNgkBc1",
        "colab": {
          "base_uri": "https://localhost:8080/",
          "height": 449
        },
        "outputId": "13a6eb21-6ef3-4188-fda3-a46bdc8e07f7"
      },
      "outputs": [
        {
          "output_type": "display_data",
          "data": {
            "text/plain": [
              "<Figure size 640x480 with 2 Axes>"
            ],
            "image/png": "[encoded data removed]"
          },
          "metadata": {}
        }
      ],
      "source": [
        "#Матрица спутанности - правильность модели классификации\n",
        "from sklearn.metrics import confusion_matrix, ConfusionMatrixDisplay\n",
        "cm = confusion_matrix(y_test, y_pred, labels = knn_svoy2.classes_)\n",
        "ConfusionMatrixDisplay(confusion_matrix = cm, display_labels = knn_svoy2.classes_).plot();"
      ]
    },
    {
      "cell_type": "markdown",
      "metadata": {
        "id": "v78Y8em9ky46"
      },
      "source": [
        "6) Нормализуйте данные двумя способами (например, примините StandardScaler и MinMaxScaler)"
      ]
    },
    {
      "cell_type": "code",
      "execution_count": null,
      "metadata": {
        "id": "zPgRrCo9pYDI"
      },
      "outputs": [],
      "source": [
        "#Нормализация с помощью StandartScaler\n",
        "from sklearn.preprocessing import StandardScaler\n",
        "scaler = StandardScaler()\n",
        "scaler.fit(X_train)\n",
        "X_train_n_StandartScaler = pd.DataFrame(scaler.transform(X_train), columns = X_train.columns)\n",
        "X_test_n_StandartScaler = pd.DataFrame(scaler.transform(X_test), columns = X_test.columns)"
      ]
    },
    {
      "cell_type": "code",
      "execution_count": null,
      "metadata": {
        "id": "ncYxHxgwpncx"
      },
      "outputs": [],
      "source": [
        "#Нормализация с помощью MinMaxScaler\n",
        "from sklearn.preprocessing import MinMaxScaler\n",
        "scaler = MinMaxScaler()\n",
        "scaler.fit(X_train)\n",
        "X_train_n_MinMaxScaler = pd.DataFrame(scaler.transform(X_train), columns = X_train.columns)\n",
        "X_test_n_MinMaxScaler = pd.DataFrame(scaler.transform(X_test), columns = X_test.columns)"
      ]
    },
    {
      "cell_type": "markdown",
      "metadata": {
        "id": "gboom-Kcps9E"
      },
      "source": [
        "7) Обучите ещё две модели на нормализованных данных. Оцените и сравнить полученные результаты между собой и с результатами без нормализации."
      ]
    },
    {
      "cell_type": "code",
      "execution_count": null,
      "metadata": {
        "id": "xWzGNt5Rp1EE",
        "colab": {
          "base_uri": "https://localhost:8080/"
        },
        "outputId": "3e5702eb-58fa-46fc-c7cf-dac2bd3366ab"
      },
      "outputs": [
        {
          "output_type": "execute_result",
          "data": {
            "text/plain": [
              "0.9783845278725825"
            ]
          },
          "metadata": {},
          "execution_count": 143
        }
      ],
      "source": [
        "#Обучение на норм. данных с помощью StandartScaler\n",
        "from sklearn.neighbors import KNeighborsClassifier\n",
        "knn_n_StandartScaler = KNeighborsClassifier()\n",
        "knn_n_StandartScaler.fit(X_train_n_StandartScaler, y_train)\n",
        "knn_n_StandartScaler.score(X_test_n_StandartScaler, y_test)"
      ]
    },
    {
      "cell_type": "code",
      "execution_count": null,
      "metadata": {
        "id": "L7VclnVdp8r1",
        "colab": {
          "base_uri": "https://localhost:8080/"
        },
        "outputId": "d7bed96c-5a92-4b91-c5ae-4805e3d3d35b"
      },
      "outputs": [
        {
          "output_type": "execute_result",
          "data": {
            "text/plain": [
              "0.9768676526355707"
            ]
          },
          "metadata": {},
          "execution_count": 144
        }
      ],
      "source": [
        "#Обучение на норм. данных с помощью MinMaxScaler\n",
        "from sklearn.neighbors import KNeighborsClassifier\n",
        "knn_n_MinMaxScaler = KNeighborsClassifier()\n",
        "knn_n_MinMaxScaler.fit(X_train_n_MinMaxScaler, y_train)\n",
        "knn_n_MinMaxScaler.score(X_test_n_MinMaxScaler, y_test)"
      ]
    },
    {
      "cell_type": "markdown",
      "metadata": {
        "id": "C2hZLngzqEk7"
      },
      "source": [
        "10.4) использовать методы уменьшения размерности"
      ]
    },
    {
      "cell_type": "code",
      "execution_count": null,
      "metadata": {
        "id": "-5jFIDzTqVvF",
        "colab": {
          "base_uri": "https://localhost:8080/"
        },
        "outputId": "b96661ef-3f05-4e9f-cd1f-f0e16da64cf7"
      },
      "outputs": [
        {
          "output_type": "stream",
          "name": "stdout",
          "text": [
            "             0         1\n",
            "0    -0.133654 -6.208109\n",
            "1    -0.190158 -5.799965\n",
            "2     0.135852 -7.828186\n",
            "3     0.744999 -1.688959\n",
            "4     0.250810 -1.684575\n",
            "...        ...       ...\n",
            "8785  2.474027 -0.406207\n",
            "8786 -0.928894  1.034827\n",
            "8787 -0.759501 -1.168800\n",
            "8788 -0.226106  0.799815\n",
            "8789 -1.247980  1.270605\n",
            "\n",
            "[8790 rows x 2 columns]\n",
            "[0 0 1 ... 0 0 0]\n"
          ]
        },
        {
          "output_type": "execute_result",
          "data": {
            "text/plain": [
              "0.9704209328782708"
            ]
          },
          "metadata": {},
          "execution_count": 145
        }
      ],
      "source": [
        "from sklearn.decomposition import PCA\n",
        "from sklearn.preprocessing import LabelEncoder\n",
        "scaler = StandardScaler()\n",
        "scaler.fit(num_data_svoy2)\n",
        "X = pd.DataFrame(scaler.transform(num_data_svoy2), columns = num_data_svoy2.columns)\n",
        "\n",
        "pca = PCA(n_components=2)\n",
        "x_np = pca.fit_transform(X)\n",
        "X = pd.DataFrame(x_np)\n",
        "print(X)\n",
        "\n",
        "le = LabelEncoder()\n",
        "y = le.fit_transform(CLASS)\n",
        "print(y)\n",
        "\n",
        "X_train, X_test, y_train, y_test = train_test_split(X, y, test_size = 0.3, random_state = 42)\n",
        "knn_n = KNeighborsClassifier()\n",
        "knn_n.fit(X_train, y_train)\n",
        "knn_n.score(X_test, y_test)"
      ]
    },
    {
      "cell_type": "markdown",
      "metadata": {
        "id": "KmsL61KYq5Hg"
      },
      "source": [
        "8) Подберите значения гиперпараметров (количество соседей и метрику расстояния) с помощью GridSearchCV."
      ]
    },
    {
      "cell_type": "code",
      "execution_count": null,
      "metadata": {
        "id": "U7H5f_iGq9uC",
        "colab": {
          "base_uri": "https://localhost:8080/",
          "height": 693
        },
        "outputId": "1c7efa20-f805-454d-ad86-34025711ec14"
      },
      "outputs": [
        {
          "output_type": "execute_result",
          "data": {
            "text/plain": [
              "<Axes: >"
            ]
          },
          "metadata": {},
          "execution_count": 146
        },
        {
          "output_type": "display_data",
          "data": {
            "text/plain": [
              "<Figure size 1000x800 with 1 Axes>"
            ],
            "image/png": "[encoded data removed]"
          },
          "metadata": {}
        }
      ],
      "source": [
        "#Визуализация knn\n",
        "from mlxtend.plotting import plot_decision_regions\n",
        "fig, ax = plt.subplots(figsize=(10, 8))\n",
        "plot_decision_regions(x_np, y, clf=knn_n, legend=2)"
      ]
    },
    {
      "cell_type": "code",
      "execution_count": null,
      "metadata": {
        "id": "qtOtMJXkrYv3",
        "colab": {
          "base_uri": "https://localhost:8080/"
        },
        "outputId": "5fbe2149-cc5f-4002-c5ba-cb1f29b23308"
      },
      "outputs": [
        {
          "output_type": "stream",
          "name": "stdout",
          "text": [
            "Fitting 2 folds for each of 19 candidates, totalling 38 fits\n",
            "{'n_neighbors': 18}\n",
            "0.977571757064981\n"
          ]
        }
      ],
      "source": [
        "from sklearn.model_selection import GridSearchCV\n",
        "knn = KNeighborsClassifier()\n",
        "k_range = list(range(1,20))\n",
        "#Задаём значения гиперпараметров для перебора\n",
        "param_grid = dict(n_neighbors = k_range)\n",
        "#Создание модели GridSearchCV\n",
        "grid = GridSearchCV(knn, param_grid, cv=2, scoring='accuracy', return_train_score=False,verbose=1)\n",
        "grid_search = grid.fit(X_train, y_train)\n",
        "#Лучшие значения параметров\n",
        "print(grid_search.best_params_)\n",
        "#Лучшее значение метрики\n",
        "print(grid_search.best_score_)"
      ]
    },
    {
      "cell_type": "markdown",
      "metadata": {
        "id": "PkpggfsDrv8F"
      },
      "source": [
        "10.1) оставить только по одному из сильно коррелирующих признаков"
      ]
    },
    {
      "cell_type": "code",
      "execution_count": null,
      "metadata": {
        "id": "4pZ4SpY2sGAy"
      },
      "outputs": [],
      "source": [
        "#Удалим из таблицы лишние сильно коррелирующие признаки и посмотрим что будет.\n",
        "corr_matrix = num_data_svoy2.corr().abs()\n",
        "#Выбор верхнего треугольника матрицы (без повторений)\n",
        "upper_triangle = corr_matrix.where(np.triu(np.ones(corr_matrix.shape), k = 1).astype(bool)) #Оставляем только по одному из сильно коррелирующих признаков\n",
        "#Поиск индексов столбцов с корреляцией больше заданного порога\n",
        "to_drop = [column for column in upper_triangle.columns if (any(upper_triangle[column] > 0.6))]\n",
        "#Удаляем ненужные столбцы\n",
        "num_data_copy1 = num_data_svoy2\n",
        "num_data_copy1 = num_data_copy1.drop(to_drop, axis = 1)"
      ]
    },
    {
      "cell_type": "code",
      "execution_count": null,
      "metadata": {
        "id": "zdjOJtyHs68W"
      },
      "outputs": [],
      "source": [
        "#Разделим данные на тренировочные и тестовые, обучим KNN и посмотрим качество обучения.\n",
        "from sklearn.model_selection import train_test_split\n",
        "X_train, X_test, y_train, y_test = train_test_split(num_data_copy1, CLASS, test_size = 0.3, random_state = 42)"
      ]
    },
    {
      "cell_type": "code",
      "execution_count": null,
      "metadata": {
        "id": "SozgOspitB2F",
        "colab": {
          "base_uri": "https://localhost:8080/"
        },
        "outputId": "7b58b223-43a9-47bb-acc4-b0135828e4aa"
      },
      "outputs": [
        {
          "output_type": "execute_result",
          "data": {
            "text/plain": [
              "0.9825559347743648"
            ]
          },
          "metadata": {},
          "execution_count": 150
        }
      ],
      "source": [
        "knn = KNeighborsClassifier()\n",
        "knn.fit(X_train, y_train)\n",
        "knn.score(X_test, y_test)"
      ]
    },
    {
      "cell_type": "markdown",
      "metadata": {
        "id": "GD-LTVZLtLs3"
      },
      "source": [
        "10.2) объединить группу связанных по смыслу признаков в один (например, для витамина A)"
      ]
    },
    {
      "cell_type": "code",
      "execution_count": null,
      "metadata": {
        "id": "amSzK5LywUap"
      },
      "outputs": [],
      "source": [
        "groups = {\n",
        "    'Основные питательные вещества': ['Water_g', 'Energ_Kcal', 'Protein_g', 'Lipid_Tot_g', 'Ash_g', 'Carbohydrt_g', 'Fiber_TD_g', 'Sugar_Tot_g'],\n",
        "    'Минералы': ['Calcium_mg', 'Iron_mg', 'Magnesium_mg', 'Phosphorus_mg', 'Potassium_mg', 'Sodium_mg', 'Zinc_mg', 'Copper_mg', 'Manganese_mg', 'Selenium_µg'],\n",
        "    'Витамины': ['Vit_C_mg', 'Thiamin_mg', 'Riboflavin_mg', 'Niacin_mg', 'Panto_Acid_mg', 'Vit_B6_mg', 'Folate_Tot_µg', 'Folic_Acid_µg', 'Food_Folate_µg', 'Folate_DFE_µg', 'Choline_Tot_mg', 'Vit_B12_µg', 'Vit_A_IU', 'Vit_A_RAE', 'Retinol_µg', 'Alpha_Carot_µg', 'Beta_Carot_µg', 'Beta_Crypt_µg', 'Lycopene_µg', 'Lut+Zea_µg', 'Vit_E_mg', 'Vit_D_µg', 'Vit_D_IU', 'Vit_K_µg'],\n",
        "    'Жирные кислоты': ['FA_Sat_g', 'FA_Mono_g', 'FA_Poly_g'],\n",
        "    'Другие признаки': ['Cholestrl_mg', 'GmWt_1', 'GmWt_2', 'Refuse_Pct']\n",
        "}"
      ]
    },
    {
      "cell_type": "code",
      "execution_count": null,
      "metadata": {
        "id": "SvbpO54RwfGq"
      },
      "outputs": [],
      "source": [
        "df = pd.DataFrame(data_svoy2)"
      ]
    },
    {
      "cell_type": "code",
      "execution_count": null,
      "metadata": {
        "id": "-Yi2mFBmwm0T",
        "colab": {
          "base_uri": "https://localhost:8080/",
          "height": 424
        },
        "outputId": "94f4451f-f885-416f-8607-86d780dc2309"
      },
      "outputs": [
        {
          "output_type": "execute_result",
          "data": {
            "text/plain": [
              "                         Shrt_Desc  Минералы  Значение\n",
              "0                 BUTTER,WITH SALT  Vit_C_mg       0.0\n",
              "1           BUTTER,WHIPPED,W/ SALT  Vit_C_mg       0.0\n",
              "2             BUTTER OIL,ANHYDROUS  Vit_C_mg       0.0\n",
              "3                      CHEESE,BLUE  Vit_C_mg       0.0\n",
              "4                     CHEESE,BRICK  Vit_C_mg       0.0\n",
              "...                            ...       ...       ...\n",
              "210955             MACKEREL,SALTED  Vit_K_µg       7.8\n",
              "210956  SCALLOP,(BAY&SEA),CKD,STMD  Vit_K_µg       0.0\n",
              "210957                  SYRUP,CANE  Vit_K_µg       0.0\n",
              "210958                   SNAIL,RAW  Vit_K_µg       0.1\n",
              "210959            TURTLE,GREEN,RAW  Vit_K_µg       0.1\n",
              "\n",
              "[210960 rows x 3 columns]"
            ],
            "text/html": [
              "\n",
              "  <div id=\"df-69bf0475-bb1d-484f-8187-91f3d48b814f\" class=\"colab-df-container\">\n",
              "    <div>\n",
              "<style scoped>\n",
              "    .dataframe tbody tr th:only-of-type {\n",
              "        vertical-align: middle;\n",
              "    }\n",
              "\n",
              "    .dataframe tbody tr th {\n",
              "        vertical-align: top;\n",
              "    }\n",
              "\n",
              "    .dataframe thead th {\n",
              "        text-align: right;\n",
              "    }\n",
              "</style>\n",
              "<table border=\"1\" class=\"dataframe\">\n",
              "  <thead>\n",
              "    <tr style=\"text-align: right;\">\n",
              "      <th></th>\n",
              "      <th>Shrt_Desc</th>\n",
              "      <th>Минералы</th>\n",
              "      <th>Значение</th>\n",
              "    </tr>\n",
              "  </thead>\n",
              "  <tbody>\n",
              "    <tr>\n",
              "      <th>0</th>\n",
              "      <td>BUTTER,WITH SALT</td>\n",
              "      <td>Vit_C_mg</td>\n",
              "      <td>0.0</td>\n",
              "    </tr>\n",
              "    <tr>\n",
              "      <th>1</th>\n",
              "      <td>BUTTER,WHIPPED,W/ SALT</td>\n",
              "      <td>Vit_C_mg</td>\n",
              "      <td>0.0</td>\n",
              "    </tr>\n",
              "    <tr>\n",
              "      <th>2</th>\n",
              "      <td>BUTTER OIL,ANHYDROUS</td>\n",
              "      <td>Vit_C_mg</td>\n",
              "      <td>0.0</td>\n",
              "    </tr>\n",
              "    <tr>\n",
              "      <th>3</th>\n",
              "      <td>CHEESE,BLUE</td>\n",
              "      <td>Vit_C_mg</td>\n",
              "      <td>0.0</td>\n",
              "    </tr>\n",
              "    <tr>\n",
              "      <th>4</th>\n",
              "      <td>CHEESE,BRICK</td>\n",
              "      <td>Vit_C_mg</td>\n",
              "      <td>0.0</td>\n",
              "    </tr>\n",
              "    <tr>\n",
              "      <th>...</th>\n",
              "      <td>...</td>\n",
              "      <td>...</td>\n",
              "      <td>...</td>\n",
              "    </tr>\n",
              "    <tr>\n",
              "      <th>210955</th>\n",
              "      <td>MACKEREL,SALTED</td>\n",
              "      <td>Vit_K_µg</td>\n",
              "      <td>7.8</td>\n",
              "    </tr>\n",
              "    <tr>\n",
              "      <th>210956</th>\n",
              "      <td>SCALLOP,(BAY&amp;SEA),CKD,STMD</td>\n",
              "      <td>Vit_K_µg</td>\n",
              "      <td>0.0</td>\n",
              "    </tr>\n",
              "    <tr>\n",
              "      <th>210957</th>\n",
              "      <td>SYRUP,CANE</td>\n",
              "      <td>Vit_K_µg</td>\n",
              "      <td>0.0</td>\n",
              "    </tr>\n",
              "    <tr>\n",
              "      <th>210958</th>\n",
              "      <td>SNAIL,RAW</td>\n",
              "      <td>Vit_K_µg</td>\n",
              "      <td>0.1</td>\n",
              "    </tr>\n",
              "    <tr>\n",
              "      <th>210959</th>\n",
              "      <td>TURTLE,GREEN,RAW</td>\n",
              "      <td>Vit_K_µg</td>\n",
              "      <td>0.1</td>\n",
              "    </tr>\n",
              "  </tbody>\n",
              "</table>\n",
              "<p>210960 rows × 3 columns</p>\n",
              "</div>\n",
              "    <div class=\"colab-df-buttons\">\n",
              "\n",
              "  <div class=\"colab-df-container\">\n",
              "    <button class=\"colab-df-convert\" onclick=\"convertToInteractive('df-69bf0475-bb1d-484f-8187-91f3d48b814f')\"\n",
              "            title=\"Convert this dataframe to an interactive table.\"\n",
              "            style=\"display:none;\">\n",
              "\n",
              "  <svg xmlns=\"http://www.w3.org/2000/svg\" height=\"24px\" viewBox=\"0 -960 960 960\">\n",
              "    <path d=\"M120-120v-720h720v720H120Zm60-500h600v-160H180v160Zm220 220h160v-160H400v160Zm0 220h160v-160H400v160ZM180-400h160v-160H180v160Zm440 0h160v-160H620v160ZM180-180h160v-160H180v160Zm440 0h160v-160H620v160Z\"/>\n",
              "  </svg>\n",
              "    </button>\n",
              "\n",
              "  <style>\n",
              "    .colab-df-container {\n",
              "      display:flex;\n",
              "      gap: 12px;\n",
              "    }\n",
              "\n",
              "    .colab-df-convert {\n",
              "      background-color: #E8F0FE;\n",
              "      border: none;\n",
              "      border-radius: 50%;\n",
              "      cursor: pointer;\n",
              "      display: none;\n",
              "      fill: #1967D2;\n",
              "      height: 32px;\n",
              "      padding: 0 0 0 0;\n",
              "      width: 32px;\n",
              "    }\n",
              "\n",
              "    .colab-df-convert:hover {\n",
              "      background-color: #E2EBFA;\n",
              "      box-shadow: 0px 1px 2px rgba(60, 64, 67, 0.3), 0px 1px 3px 1px rgba(60, 64, 67, 0.15);\n",
              "      fill: #174EA6;\n",
              "    }\n",
              "\n",
              "    .colab-df-buttons div {\n",
              "      margin-bottom: 4px;\n",
              "    }\n",
              "\n",
              "    [theme=dark] .colab-df-convert {\n",
              "      background-color: #3B4455;\n",
              "      fill: #D2E3FC;\n",
              "    }\n",
              "\n",
              "    [theme=dark] .colab-df-convert:hover {\n",
              "      background-color: #434B5C;\n",
              "      box-shadow: 0px 1px 3px 1px rgba(0, 0, 0, 0.15);\n",
              "      filter: drop-shadow(0px 1px 2px rgba(0, 0, 0, 0.3));\n",
              "      fill: #FFFFFF;\n",
              "    }\n",
              "  </style>\n",
              "\n",
              "    <script>\n",
              "      const buttonEl =\n",
              "        document.querySelector('#df-69bf0475-bb1d-484f-8187-91f3d48b814f button.colab-df-convert');\n",
              "      buttonEl.style.display =\n",
              "        google.colab.kernel.accessAllowed ? 'block' : 'none';\n",
              "\n",
              "      async function convertToInteractive(key) {\n",
              "        const element = document.querySelector('#df-69bf0475-bb1d-484f-8187-91f3d48b814f');\n",
              "        const dataTable =\n",
              "          await google.colab.kernel.invokeFunction('convertToInteractive',\n",
              "                                                    [key], {});\n",
              "        if (!dataTable) return;\n",
              "\n",
              "        const docLinkHtml = 'Like what you see? Visit the ' +\n",
              "          '<a target=\"_blank\" href=https://colab.research.google.com/notebooks/data_table.ipynb>data table notebook</a>'\n",
              "          + ' to learn more about interactive tables.';\n",
              "        element.innerHTML = '';\n",
              "        dataTable['output_type'] = 'display_data';\n",
              "        await google.colab.output.renderOutput(dataTable, element);\n",
              "        const docLink = document.createElement('div');\n",
              "        docLink.innerHTML = docLinkHtml;\n",
              "        element.appendChild(docLink);\n",
              "      }\n",
              "    </script>\n",
              "  </div>\n",
              "\n",
              "\n",
              "<div id=\"df-4f6add2d-82d2-495a-8ca6-fd07cf08c39d\">\n",
              "  <button class=\"colab-df-quickchart\" onclick=\"quickchart('df-4f6add2d-82d2-495a-8ca6-fd07cf08c39d')\"\n",
              "            title=\"Suggest charts\"\n",
              "            style=\"display:none;\">\n",
              "\n",
              "<svg xmlns=\"http://www.w3.org/2000/svg\" height=\"24px\"viewBox=\"0 0 24 24\"\n",
              "     width=\"24px\">\n",
              "    <g>\n",
              "        <path d=\"M19 3H5c-1.1 0-2 .9-2 2v14c0 1.1.9 2 2 2h14c1.1 0 2-.9 2-2V5c0-1.1-.9-2-2-2zM9 17H7v-7h2v7zm4 0h-2V7h2v10zm4 0h-2v-4h2v4z\"/>\n",
              "    </g>\n",
              "</svg>\n",
              "  </button>\n",
              "\n",
              "<style>\n",
              "  .colab-df-quickchart {\n",
              "      --bg-color: #E8F0FE;\n",
              "      --fill-color: #1967D2;\n",
              "      --hover-bg-color: #E2EBFA;\n",
              "      --hover-fill-color: #174EA6;\n",
              "      --disabled-fill-color: #AAA;\n",
              "      --disabled-bg-color: #DDD;\n",
              "  }\n",
              "\n",
              "  [theme=dark] .colab-df-quickchart {\n",
              "      --bg-color: #3B4455;\n",
              "      --fill-color: #D2E3FC;\n",
              "      --hover-bg-color: #434B5C;\n",
              "      --hover-fill-color: #FFFFFF;\n",
              "      --disabled-bg-color: #3B4455;\n",
              "      --disabled-fill-color: #666;\n",
              "  }\n",
              "\n",
              "  .colab-df-quickchart {\n",
              "    background-color: var(--bg-color);\n",
              "    border: none;\n",
              "    border-radius: 50%;\n",
              "    cursor: pointer;\n",
              "    display: none;\n",
              "    fill: var(--fill-color);\n",
              "    height: 32px;\n",
              "    padding: 0;\n",
              "    width: 32px;\n",
              "  }\n",
              "\n",
              "  .colab-df-quickchart:hover {\n",
              "    background-color: var(--hover-bg-color);\n",
              "    box-shadow: 0 1px 2px rgba(60, 64, 67, 0.3), 0 1px 3px 1px rgba(60, 64, 67, 0.15);\n",
              "    fill: var(--button-hover-fill-color);\n",
              "  }\n",
              "\n",
              "  .colab-df-quickchart-complete:disabled,\n",
              "  .colab-df-quickchart-complete:disabled:hover {\n",
              "    background-color: var(--disabled-bg-color);\n",
              "    fill: var(--disabled-fill-color);\n",
              "    box-shadow: none;\n",
              "  }\n",
              "\n",
              "  .colab-df-spinner {\n",
              "    border: 2px solid var(--fill-color);\n",
              "    border-color: transparent;\n",
              "    border-bottom-color: var(--fill-color);\n",
              "    animation:\n",
              "      spin 1s steps(1) infinite;\n",
              "  }\n",
              "\n",
              "  @keyframes spin {\n",
              "    0% {\n",
              "      border-color: transparent;\n",
              "      border-bottom-color: var(--fill-color);\n",
              "      border-left-color: var(--fill-color);\n",
              "    }\n",
              "    20% {\n",
              "      border-color: transparent;\n",
              "      border-left-color: var(--fill-color);\n",
              "      border-top-color: var(--fill-color);\n",
              "    }\n",
              "    30% {\n",
              "      border-color: transparent;\n",
              "      border-left-color: var(--fill-color);\n",
              "      border-top-color: var(--fill-color);\n",
              "      border-right-color: var(--fill-color);\n",
              "    }\n",
              "    40% {\n",
              "      border-color: transparent;\n",
              "      border-right-color: var(--fill-color);\n",
              "      border-top-color: var(--fill-color);\n",
              "    }\n",
              "    60% {\n",
              "      border-color: transparent;\n",
              "      border-right-color: var(--fill-color);\n",
              "    }\n",
              "    80% {\n",
              "      border-color: transparent;\n",
              "      border-right-color: var(--fill-color);\n",
              "      border-bottom-color: var(--fill-color);\n",
              "    }\n",
              "    90% {\n",
              "      border-color: transparent;\n",
              "      border-bottom-color: var(--fill-color);\n",
              "    }\n",
              "  }\n",
              "</style>\n",
              "\n",
              "  <script>\n",
              "    async function quickchart(key) {\n",
              "      const quickchartButtonEl =\n",
              "        document.querySelector('#' + key + ' button');\n",
              "      quickchartButtonEl.disabled = true;  // To prevent multiple clicks.\n",
              "      quickchartButtonEl.classList.add('colab-df-spinner');\n",
              "      try {\n",
              "        const charts = await google.colab.kernel.invokeFunction(\n",
              "            'suggestCharts', [key], {});\n",
              "      } catch (error) {\n",
              "        console.error('Error during call to suggestCharts:', error);\n",
              "      }\n",
              "      quickchartButtonEl.classList.remove('colab-df-spinner');\n",
              "      quickchartButtonEl.classList.add('colab-df-quickchart-complete');\n",
              "    }\n",
              "    (() => {\n",
              "      let quickchartButtonEl =\n",
              "        document.querySelector('#df-4f6add2d-82d2-495a-8ca6-fd07cf08c39d button');\n",
              "      quickchartButtonEl.style.display =\n",
              "        google.colab.kernel.accessAllowed ? 'block' : 'none';\n",
              "    })();\n",
              "  </script>\n",
              "</div>\n",
              "    </div>\n",
              "  </div>\n"
            ],
            "application/vnd.google.colaboratory.intrinsic+json": {
              "type": "dataframe"
            }
          },
          "metadata": {},
          "execution_count": 153
        }
      ],
      "source": [
        "df.melt(id_vars=['Shrt_Desc'], value_vars=['Vit_C_mg', 'Thiamin_mg', 'Riboflavin_mg', 'Niacin_mg', 'Panto_Acid_mg', 'Vit_B6_mg', 'Folate_Tot_µg', 'Folic_Acid_µg', 'Food_Folate_µg', 'Folate_DFE_µg', 'Choline_Tot_mg', 'Vit_B12_µg', 'Vit_A_IU', 'Vit_A_RAE', 'Retinol_µg', 'Alpha_Carot_µg', 'Beta_Carot_µg', 'Beta_Crypt_µg', 'Lycopene_µg', 'Lut+Zea_µg', 'Vit_E_mg', 'Vit_D_µg', 'Vit_D_IU', 'Vit_K_µg'], var_name='Минералы', value_name='Значение')"
      ]
    },
    {
      "cell_type": "markdown",
      "metadata": {
        "id": "GE4ohV0lxNYR"
      },
      "source": [
        "10.3) повторно выбирать случайным образом поднабор из нескольких признаков и запоминать лучшие результаты (например, выбирать по 5 или по 7 признаков с помощью random.sample, повторять выбор 100 раз)"
      ]
    },
    {
      "cell_type": "code",
      "execution_count": null,
      "metadata": {
        "id": "8S7BQOjdxWhF",
        "colab": {
          "base_uri": "https://localhost:8080/"
        },
        "outputId": "1356ecd3-014a-4aec-8fee-57cd894e139a"
      },
      "outputs": [
        {
          "output_type": "stream",
          "name": "stdout",
          "text": [
            "Index(['Ash_g', 'Magnesium_mg', 'Phosphorus_mg', 'Potassium_mg', 'Sodium_mg',\n",
            "       'Zinc_mg'],\n",
            "      dtype='object')\n"
          ]
        }
      ],
      "source": [
        "from sklearn.feature_selection import SelectFromModel\n",
        "from sklearn.ensemble import RandomForestClassifier\n",
        "from sklearn.model_selection import train_test_split\n",
        "X_train, X_test, y_train, y_test = train_test_split(num_data_svoy2, CLASS, test_size = 0.3, random_state = 42)\n",
        "\n",
        "sel = RandomForestClassifier(n_estimators = 100)\n",
        "sel.fit(X_train, y_train)\n",
        "#Оценка важности признаков\n",
        "importances = sel.feature_importances_\n",
        "#Вывод наиболее важных признаков\n",
        "important_features = X_train.columns[importances > 0.05]\n",
        "print(important_features)"
      ]
    },
    {
      "cell_type": "code",
      "execution_count": null,
      "metadata": {
        "id": "phuYLrOqxcMG",
        "colab": {
          "base_uri": "https://localhost:8080/"
        },
        "outputId": "9d3e2445-b6ed-4092-9a06-f8fa27f85b65"
      },
      "outputs": [
        {
          "output_type": "execute_result",
          "data": {
            "text/plain": [
              "array([1.25674304e-02, 1.52406212e-02, 4.79229300e-02, 7.86535298e-03,\n",
              "       2.05734375e-01, 5.69228792e-03, 3.18918175e-03, 5.68879230e-03,\n",
              "       2.05290661e-02, 2.50050029e-02, 5.72692966e-02, 1.10042516e-01,\n",
              "       1.37197959e-01, 5.97524900e-02, 5.63502918e-02, 1.42450025e-02,\n",
              "       4.54562335e-03, 1.54605615e-02, 2.83132861e-03, 2.77105611e-02,\n",
              "       2.39678647e-02, 2.17930006e-02, 1.19648194e-02, 9.80845369e-03,\n",
              "       1.83892616e-03, 5.27797814e-04, 3.84678377e-03, 6.52417834e-03,\n",
              "       2.14863340e-02, 3.62842534e-03, 4.92727116e-03, 4.04048655e-03,\n",
              "       9.14579700e-04, 6.88571653e-04, 1.89826713e-03, 1.64364277e-03,\n",
              "       6.34506984e-05, 2.04651932e-03, 2.67088544e-03, 7.67815565e-04,\n",
              "       3.75841768e-04, 2.78867859e-03, 9.39525185e-03, 7.15872152e-03,\n",
              "       5.52180004e-03, 5.79182649e-04, 8.06346353e-03, 5.86535000e-03,\n",
              "       3.62965445e-04])"
            ]
          },
          "metadata": {},
          "execution_count": 155
        }
      ],
      "source": [
        "importances"
      ]
    },
    {
      "cell_type": "markdown",
      "metadata": {
        "id": "Npa__6RJxiaA"
      },
      "source": [
        "10.5) свой вариант отбора и подготовки признаков."
      ]
    },
    {
      "cell_type": "code",
      "execution_count": null,
      "metadata": {
        "id": "rJVcDXp5iiid"
      },
      "outputs": [],
      "source": [
        "from sklearn.ensemble import GradientBoostingClassifier,GradientBoostingRegressor\n",
        "from sklearn.metrics import mean_squared_error, mean_absolute_error, r2_score, accuracy_score\n",
        "from sklearn.model_selection import train_test_split"
      ]
    },
    {
      "cell_type": "code",
      "execution_count": null,
      "metadata": {
        "id": "oVOUxDsrilcN"
      },
      "outputs": [],
      "source": [
        "X_train, X_test, y_train, y_test = train_test_split(num_data_svoy2, CLASS, test_size = 0.2, random_state = 42)"
      ]
    },
    {
      "cell_type": "code",
      "execution_count": null,
      "metadata": {
        "id": "4uKHpl1Xi00v",
        "colab": {
          "base_uri": "https://localhost:8080/",
          "height": 75
        },
        "outputId": "488e22ce-0385-4825-e45d-1339b5d19af2"
      },
      "outputs": [
        {
          "output_type": "execute_result",
          "data": {
            "text/plain": [
              "GradientBoostingClassifier(random_state=42)"
            ],
            "text/html": [
              "<style>#sk-container-id-4 {color: black;background-color: white;}#sk-container-id-4 pre{padding: 0;}#sk-container-id-4 div.sk-toggleable {background-color: white;}#sk-container-id-4 label.sk-toggleable__label {cursor: pointer;display: block;width: 100%;margin-bottom: 0;padding: 0.3em;box-sizing: border-box;text-align: center;}#sk-container-id-4 label.sk-toggleable__label-arrow:before {content: \"▸\";float: left;margin-right: 0.25em;color: #696969;}#sk-container-id-4 label.sk-toggleable__label-arrow:hover:before {color: black;}#sk-container-id-4 div.sk-estimator:hover label.sk-toggleable__label-arrow:before {color: black;}#sk-container-id-4 div.sk-toggleable__content {max-height: 0;max-width: 0;overflow: hidden;text-align: left;background-color: #f0f8ff;}#sk-container-id-4 div.sk-toggleable__content pre {margin: 0.2em;color: black;border-radius: 0.25em;background-color: #f0f8ff;}#sk-container-id-4 input.sk-toggleable__control:checked~div.sk-toggleable__content {max-height: 200px;max-width: 100%;overflow: auto;}#sk-container-id-4 input.sk-toggleable__control:checked~label.sk-toggleable__label-arrow:before {content: \"▾\";}#sk-container-id-4 div.sk-estimator input.sk-toggleable__control:checked~label.sk-toggleable__label {background-color: #d4ebff;}#sk-container-id-4 div.sk-label input.sk-toggleable__control:checked~label.sk-toggleable__label {background-color: #d4ebff;}#sk-container-id-4 input.sk-hidden--visually {border: 0;clip: rect(1px 1px 1px 1px);clip: rect(1px, 1px, 1px, 1px);height: 1px;margin: -1px;overflow: hidden;padding: 0;position: absolute;width: 1px;}#sk-container-id-4 div.sk-estimator {font-family: monospace;background-color: #f0f8ff;border: 1px dotted black;border-radius: 0.25em;box-sizing: border-box;margin-bottom: 0.5em;}#sk-container-id-4 div.sk-estimator:hover {background-color: #d4ebff;}#sk-container-id-4 div.sk-parallel-item::after {content: \"\";width: 100%;border-bottom: 1px solid gray;flex-grow: 1;}#sk-container-id-4 div.sk-label:hover label.sk-toggleable__label {background-color: #d4ebff;}#sk-container-id-4 div.sk-serial::before {content: \"\";position: absolute;border-left: 1px solid gray;box-sizing: border-box;top: 0;bottom: 0;left: 50%;z-index: 0;}#sk-container-id-4 div.sk-serial {display: flex;flex-direction: column;align-items: center;background-color: white;padding-right: 0.2em;padding-left: 0.2em;position: relative;}#sk-container-id-4 div.sk-item {position: relative;z-index: 1;}#sk-container-id-4 div.sk-parallel {display: flex;align-items: stretch;justify-content: center;background-color: white;position: relative;}#sk-container-id-4 div.sk-item::before, #sk-container-id-4 div.sk-parallel-item::before {content: \"\";position: absolute;border-left: 1px solid gray;box-sizing: border-box;top: 0;bottom: 0;left: 50%;z-index: -1;}#sk-container-id-4 div.sk-parallel-item {display: flex;flex-direction: column;z-index: 1;position: relative;background-color: white;}#sk-container-id-4 div.sk-parallel-item:first-child::after {align-self: flex-end;width: 50%;}#sk-container-id-4 div.sk-parallel-item:last-child::after {align-self: flex-start;width: 50%;}#sk-container-id-4 div.sk-parallel-item:only-child::after {width: 0;}#sk-container-id-4 div.sk-dashed-wrapped {border: 1px dashed gray;margin: 0 0.4em 0.5em 0.4em;box-sizing: border-box;padding-bottom: 0.4em;background-color: white;}#sk-container-id-4 div.sk-label label {font-family: monospace;font-weight: bold;display: inline-block;line-height: 1.2em;}#sk-container-id-4 div.sk-label-container {text-align: center;}#sk-container-id-4 div.sk-container {/* jupyter's `normalize.less` sets `[hidden] { display: none; }` but bootstrap.min.css set `[hidden] { display: none !important; }` so we also need the `!important` here to be able to override the default hidden behavior on the sphinx rendered scikit-learn.org. See: https://github.com/scikit-learn/scikit-learn/issues/21755 */display: inline-block !important;position: relative;}#sk-container-id-4 div.sk-text-repr-fallback {display: none;}</style><div id=\"sk-container-id-4\" class=\"sk-top-container\"><div class=\"sk-text-repr-fallback\"><pre>GradientBoostingClassifier(random_state=42)</pre><b>In a Jupyter environment, please rerun this cell to show the HTML representation or trust the notebook. <br />On GitHub, the HTML representation is unable to render, please try loading this page with nbviewer.org.</b></div><div class=\"sk-container\" hidden><div class=\"sk-item\"><div class=\"sk-estimator sk-toggleable\"><input class=\"sk-toggleable__control sk-hidden--visually\" id=\"sk-estimator-id-4\" type=\"checkbox\" checked><label for=\"sk-estimator-id-4\" class=\"sk-toggleable__label sk-toggleable__label-arrow\">GradientBoostingClassifier</label><div class=\"sk-toggleable__content\"><pre>GradientBoostingClassifier(random_state=42)</pre></div></div></div></div></div>"
            ]
          },
          "metadata": {},
          "execution_count": 158
        }
      ],
      "source": [
        "gb = GradientBoostingClassifier(n_estimators = 100, learning_rate = 0.1, max_depth = 3, random_state = 42)\n",
        "gb.fit(X_train, y_train)"
      ]
    },
    {
      "cell_type": "code",
      "execution_count": null,
      "metadata": {
        "id": "zygd6KwcjB6z",
        "colab": {
          "base_uri": "https://localhost:8080/"
        },
        "outputId": "f67f2c72-37d8-4c3b-c2fa-5229c21484c1"
      },
      "outputs": [
        {
          "output_type": "stream",
          "name": "stdout",
          "text": [
            "Accuracy: 0.9965870307167235\n"
          ]
        }
      ],
      "source": [
        "y_pred = gb.predict(X_test)\n",
        "print(\"Accuracy:\", accuracy_score(y_test, y_pred))"
      ]
    },
    {
      "cell_type": "code",
      "execution_count": null,
      "metadata": {
        "id": "ksi7L9JejbHk",
        "colab": {
          "base_uri": "https://localhost:8080/"
        },
        "outputId": "b4d3538d-eb64-4048-f368-ef6f05c087e0"
      },
      "outputs": [
        {
          "output_type": "stream",
          "name": "stdout",
          "text": [
            "Best parameters: {'max_depth': 3, 'n_estimators': 50}\n"
          ]
        }
      ],
      "source": [
        "from sklearn.model_selection import GridSearchCV\n",
        "\n",
        "param_grid = {'n_estimators': [50], 'max_depth': [3]}\n",
        "grid_search = GridSearchCV(gb, param_grid, cv=5)\n",
        "grid_search.fit(X_train, y_train)\n",
        "print(\"Best parameters:\", grid_search.best_params_)"
      ]
    },
    {
      "cell_type": "code",
      "execution_count": null,
      "metadata": {
        "id": "i3RxsX-yji53",
        "colab": {
          "base_uri": "https://localhost:8080/"
        },
        "outputId": "168b0c03-5054-481b-f579-eb7202925b7d"
      },
      "outputs": [
        {
          "output_type": "stream",
          "name": "stdout",
          "text": [
            "Accuracy: 0.9965870307167235\n"
          ]
        }
      ],
      "source": [
        "gb_best = GradientBoostingClassifier(n_estimators=200, max_depth=3, learning_rate=0.1, random_state=42)\n",
        "gb_best.fit(X_train, y_train)\n",
        "y_pred = gb_best.predict(X_test)\n",
        "print(\"Accuracy:\", accuracy_score(y_test, y_pred))"
      ]
    }
  ]
}