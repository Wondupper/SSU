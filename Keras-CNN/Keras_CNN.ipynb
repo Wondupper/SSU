{
  "nbformat": 4,
  "nbformat_minor": 0,
  "metadata": {
    "colab": {
      "provenance": [],
      "gpuType": "V28",
      "include_colab_link": true
    },
    "kernelspec": {
      "name": "python3",
      "display_name": "Python 3"
    },
    "language_info": {
      "name": "python"
    },
    "accelerator": "TPU"
  },
  "cells": [
    {
      "cell_type": "markdown",
      "metadata": {
        "id": "view-in-github",
        "colab_type": "text"
      },
      "source": [
        "<a href=\"https://colab.research.google.com/github/Wondupper/Keras-CNN/blob/main/Keras_CNN.ipynb\" target=\"_parent\"><img src=\"https://colab.research.google.com/assets/colab-badge.svg\" alt=\"Open In Colab\"/></a>"
      ]
    },
    {
      "cell_type": "markdown",
      "source": [
        "(+) 1) Изучите доступные типы слоёв в Keras и принципы построения свёрточных сетей.\n",
        "\n",
        "(+) 2) Загрузите встроенный набор картинок cifar10.\n",
        "\n",
        "(+) 3) Создайте и обучите несколько моделей свёрточных нейросетей.\n",
        "\n",
        "(+) 4) Оцените результаты."
      ],
      "metadata": {
        "id": "Wqj1iP79QTO-"
      }
    },
    {
      "cell_type": "code",
      "execution_count": null,
      "metadata": {
        "id": "qkE5l7WKP0Nz"
      },
      "outputs": [],
      "source": [
        "from keras.datasets import cifar10\n",
        "from keras.models import Sequential\n",
        "from keras import models\n",
        "from keras import layers\n",
        "from tensorflow import keras\n",
        "from keras.layers import Conv2D\n",
        "from keras.layers import MaxPooling2D\n",
        "from keras.layers import Dense\n",
        "from keras.layers import Flatten\n",
        "import numpy as np\n",
        "import time\n",
        "import matplotlib.pyplot as plt"
      ]
    },
    {
      "cell_type": "code",
      "source": [
        "(X_train, y_train), (X_test, y_test) = cifar10.load_data()"
      ],
      "metadata": {
        "id": "HsVnxSPkTK8g"
      },
      "execution_count": null,
      "outputs": []
    },
    {
      "cell_type": "code",
      "source": [
        "X_train.shape"
      ],
      "metadata": {
        "colab": {
          "base_uri": "https://localhost:8080/"
        },
        "id": "M4nnd3fKdKbt",
        "outputId": "7ed5a23b-8382-4323-bfc8-a54f643784c4"
      },
      "execution_count": null,
      "outputs": [
        {
          "output_type": "execute_result",
          "data": {
            "text/plain": [
              "(50000, 32, 32, 3)"
            ]
          },
          "metadata": {},
          "execution_count": 7
        }
      ]
    },
    {
      "cell_type": "markdown",
      "source": [
        "3) Создайте и обучите несколько моделей свёрточных нейросетей."
      ],
      "metadata": {
        "id": "ctHx0szWg7fO"
      }
    },
    {
      "cell_type": "code",
      "source": [
        "model1_1 = keras.Sequential([\n",
        "                           Conv2D(32, (3,3), padding = 'same', activation = 'relu', input_shape = (32,32,3)),\n",
        "                           MaxPooling2D((2,2), strides = 2),\n",
        "                           Conv2D(64, (3,3), padding = 'same', activation = 'relu'),\n",
        "                           MaxPooling2D((2,2), strides = 2),\n",
        "                           Flatten(),\n",
        "                           Dense(128, activation = 'relu'),\n",
        "                           Dense(10, activation = 'softmax')\n",
        "                        ])\n",
        "\n",
        "model1_1.compile(optimizer = 'adam', loss = 'sparse_categorical_crossentropy', metrics = ['accuracy'] )\n",
        "\n",
        "start_time = time.perf_counter()\n",
        "model1_1.fit(X_train, y_train, batch_size = 32, epochs = 10, validation_split=0.2)\n",
        "end_time = time.perf_counter()\n",
        "\n",
        "print(end_time - start_time)"
      ],
      "metadata": {
        "colab": {
          "base_uri": "https://localhost:8080/"
        },
        "id": "fbRkSoXqTWKP",
        "outputId": "d31e8107-b365-495f-8884-ef276b3f55d8"
      },
      "execution_count": null,
      "outputs": [
        {
          "output_type": "stream",
          "name": "stdout",
          "text": [
            "Epoch 1/10\n",
            "1250/1250 [==============================] - 12s 9ms/step - loss: 2.3773 - accuracy: 0.4063 - val_loss: 1.3862 - val_accuracy: 0.5079\n",
            "Epoch 2/10\n",
            "1250/1250 [==============================] - 11s 9ms/step - loss: 1.2694 - accuracy: 0.5503 - val_loss: 1.2364 - val_accuracy: 0.5632\n",
            "Epoch 3/10\n",
            "1250/1250 [==============================] - 11s 9ms/step - loss: 1.0878 - accuracy: 0.6135 - val_loss: 1.1621 - val_accuracy: 0.5975\n",
            "Epoch 4/10\n",
            "1250/1250 [==============================] - 11s 9ms/step - loss: 0.9616 - accuracy: 0.6596 - val_loss: 1.1386 - val_accuracy: 0.6163\n",
            "Epoch 5/10\n",
            "1250/1250 [==============================] - 11s 9ms/step - loss: 0.8609 - accuracy: 0.6986 - val_loss: 1.1895 - val_accuracy: 0.6030\n",
            "Epoch 6/10\n",
            "1250/1250 [==============================] - 11s 9ms/step - loss: 0.7696 - accuracy: 0.7296 - val_loss: 1.1935 - val_accuracy: 0.6339\n",
            "Epoch 7/10\n",
            "1250/1250 [==============================] - 11s 9ms/step - loss: 0.6825 - accuracy: 0.7569 - val_loss: 1.2451 - val_accuracy: 0.6332\n",
            "Epoch 8/10\n",
            "1250/1250 [==============================] - 11s 9ms/step - loss: 0.5980 - accuracy: 0.7916 - val_loss: 1.3208 - val_accuracy: 0.6243\n",
            "Epoch 9/10\n",
            "1250/1250 [==============================] - 11s 9ms/step - loss: 0.5385 - accuracy: 0.8113 - val_loss: 1.3621 - val_accuracy: 0.6392\n",
            "Epoch 10/10\n",
            "1250/1250 [==============================] - 11s 9ms/step - loss: 0.4854 - accuracy: 0.8299 - val_loss: 1.5348 - val_accuracy: 0.6145\n",
            "109.01860563000014\n"
          ]
        }
      ]
    },
    {
      "cell_type": "code",
      "source": [
        "print(model1_1.summary())"
      ],
      "metadata": {
        "id": "df4GkUb8av9d",
        "colab": {
          "base_uri": "https://localhost:8080/"
        },
        "outputId": "beaa61ba-97f0-491c-8c1b-7b5e8facd20a"
      },
      "execution_count": null,
      "outputs": [
        {
          "output_type": "stream",
          "name": "stdout",
          "text": [
            "Model: \"sequential_1\"\n",
            "_________________________________________________________________\n",
            " Layer (type)                Output Shape              Param #   \n",
            "=================================================================\n",
            " conv2d_2 (Conv2D)           (None, 32, 32, 32)        896       \n",
            "                                                                 \n",
            " max_pooling2d_2 (MaxPoolin  (None, 16, 16, 32)        0         \n",
            " g2D)                                                            \n",
            "                                                                 \n",
            " conv2d_3 (Conv2D)           (None, 16, 16, 64)        18496     \n",
            "                                                                 \n",
            " max_pooling2d_3 (MaxPoolin  (None, 8, 8, 64)          0         \n",
            " g2D)                                                            \n",
            "                                                                 \n",
            " flatten_1 (Flatten)         (None, 4096)              0         \n",
            "                                                                 \n",
            " dense_2 (Dense)             (None, 128)               524416    \n",
            "                                                                 \n",
            " dense_3 (Dense)             (None, 10)                1290      \n",
            "                                                                 \n",
            "=================================================================\n",
            "Total params: 545098 (2.08 MB)\n",
            "Trainable params: 545098 (2.08 MB)\n",
            "Non-trainable params: 0 (0.00 Byte)\n",
            "_________________________________________________________________\n",
            "None\n"
          ]
        }
      ]
    },
    {
      "cell_type": "code",
      "source": [
        "model1_2 = keras.Sequential([\n",
        "                           Conv2D(64, (3,3), padding = 'same', activation = 'relu', input_shape = (32,32,3)), # Увеличим количество каналов в ядре в два раза\n",
        "                           MaxPooling2D((2,2), strides = 2),\n",
        "                           Conv2D(128, (3,3), padding = 'same', activation = 'relu'),\n",
        "                           MaxPooling2D((2,2), strides = 2),\n",
        "                           Flatten(),\n",
        "                           Dense(128, activation = 'relu'),\n",
        "                           Dense(10, activation = 'softmax')\n",
        "                        ])\n",
        "\n",
        "model1_2.compile(optimizer = 'adam', loss = 'sparse_categorical_crossentropy', metrics = ['accuracy'] )\n",
        "\n",
        "start_time = time.perf_counter()\n",
        "model1_2.fit(X_train, y_train, batch_size = 32, epochs = 10, validation_split=0.2)\n",
        "end_time = time.perf_counter()\n",
        "\n",
        "print(end_time - start_time)"
      ],
      "metadata": {
        "colab": {
          "base_uri": "https://localhost:8080/"
        },
        "id": "Yjxdj1tTTfR2",
        "outputId": "054f5a17-1599-43a7-e0aa-b78536fb31de"
      },
      "execution_count": null,
      "outputs": [
        {
          "output_type": "stream",
          "name": "stdout",
          "text": [
            "Epoch 1/10\n",
            "1250/1250 [==============================] - 18s 14ms/step - loss: 2.3312 - accuracy: 0.4079 - val_loss: 1.4299 - val_accuracy: 0.4947\n",
            "Epoch 2/10\n",
            "1250/1250 [==============================] - 17s 14ms/step - loss: 1.2944 - accuracy: 0.5408 - val_loss: 1.2793 - val_accuracy: 0.5577\n",
            "Epoch 3/10\n",
            "1250/1250 [==============================] - 17s 14ms/step - loss: 1.1251 - accuracy: 0.6077 - val_loss: 1.2453 - val_accuracy: 0.5679\n",
            "Epoch 4/10\n",
            "1250/1250 [==============================] - 17s 14ms/step - loss: 0.9979 - accuracy: 0.6519 - val_loss: 1.1579 - val_accuracy: 0.6062\n",
            "Epoch 5/10\n",
            "1250/1250 [==============================] - 17s 14ms/step - loss: 0.8852 - accuracy: 0.6924 - val_loss: 1.1715 - val_accuracy: 0.6229\n",
            "Epoch 6/10\n",
            "1250/1250 [==============================] - 17s 14ms/step - loss: 0.7885 - accuracy: 0.7253 - val_loss: 1.2538 - val_accuracy: 0.6178\n",
            "Epoch 7/10\n",
            "1250/1250 [==============================] - 17s 14ms/step - loss: 0.6837 - accuracy: 0.7584 - val_loss: 1.1998 - val_accuracy: 0.6438\n",
            "Epoch 8/10\n",
            "1250/1250 [==============================] - 18s 14ms/step - loss: 0.5937 - accuracy: 0.7954 - val_loss: 1.2413 - val_accuracy: 0.6411\n",
            "Epoch 9/10\n",
            "1250/1250 [==============================] - 17s 14ms/step - loss: 0.5142 - accuracy: 0.8235 - val_loss: 1.4028 - val_accuracy: 0.6240\n",
            "Epoch 10/10\n",
            "1250/1250 [==============================] - 17s 14ms/step - loss: 0.4499 - accuracy: 0.8444 - val_loss: 1.5078 - val_accuracy: 0.6353\n",
            "175.32020376100013\n"
          ]
        }
      ]
    },
    {
      "cell_type": "code",
      "source": [
        "print(model1_2.summary())"
      ],
      "metadata": {
        "id": "ZV0nh7vpUUHM",
        "colab": {
          "base_uri": "https://localhost:8080/"
        },
        "outputId": "6d946d50-ba5c-4e6f-aa2d-07707ba2d503"
      },
      "execution_count": null,
      "outputs": [
        {
          "output_type": "stream",
          "name": "stdout",
          "text": [
            "Model: \"sequential_2\"\n",
            "_________________________________________________________________\n",
            " Layer (type)                Output Shape              Param #   \n",
            "=================================================================\n",
            " conv2d_4 (Conv2D)           (None, 32, 32, 64)        1792      \n",
            "                                                                 \n",
            " max_pooling2d_4 (MaxPoolin  (None, 16, 16, 64)        0         \n",
            " g2D)                                                            \n",
            "                                                                 \n",
            " conv2d_5 (Conv2D)           (None, 16, 16, 128)       73856     \n",
            "                                                                 \n",
            " max_pooling2d_5 (MaxPoolin  (None, 8, 8, 128)         0         \n",
            " g2D)                                                            \n",
            "                                                                 \n",
            " flatten_2 (Flatten)         (None, 8192)              0         \n",
            "                                                                 \n",
            " dense_4 (Dense)             (None, 128)               1048704   \n",
            "                                                                 \n",
            " dense_5 (Dense)             (None, 10)                1290      \n",
            "                                                                 \n",
            "=================================================================\n",
            "Total params: 1125642 (4.29 MB)\n",
            "Trainable params: 1125642 (4.29 MB)\n",
            "Non-trainable params: 0 (0.00 Byte)\n",
            "_________________________________________________________________\n",
            "None\n"
          ]
        }
      ]
    },
    {
      "cell_type": "code",
      "source": [
        "epochs_list = list(range(10, 21))\n",
        "accuracy_list = []\n",
        "\n",
        "for epochs in epochs_list:\n",
        "    model = keras.Sequential([\n",
        "        Conv2D(32, (3,3), padding = 'same', activation = 'relu', input_shape = (32,32,3)),\n",
        "        MaxPooling2D((2,2), strides = 2),\n",
        "        Conv2D(64, (3,3), padding = 'same', activation = 'relu'),\n",
        "        MaxPooling2D((2,2), strides = 2),\n",
        "        Flatten(),\n",
        "        Dense(256, activation = 'relu'),\n",
        "        Dense(10, activation = 'softmax')\n",
        "    ])\n",
        "\n",
        "    model.compile(optimizer = 'adam', loss = 'sparse_categorical_crossentropy', metrics = ['accuracy'])\n",
        "\n",
        "    history = model.fit(X_train, y_train, batch_size = 32, epochs = epochs, validation_split=0.2, verbose=0)\n",
        "    accuracy = history.history['val_accuracy'][-3]\n",
        "    accuracy_list.append(accuracy)\n",
        "\n",
        "# Построение графика\n",
        "plt.plot(epochs_list, accuracy_list, marker='o')\n",
        "plt.xlabel('Количество эпох')\n",
        "plt.ylabel('Точность (Accuracy)')\n",
        "plt.title('Зависимость точности от количества эпох')\n",
        "plt.grid(True)\n",
        "plt.show()"
      ],
      "metadata": {
        "colab": {
          "base_uri": "https://localhost:8080/",
          "height": 472
        },
        "id": "o68uIJg6-g-o",
        "outputId": "1ef90ad4-7af4-46b7-cc9d-14c8323e39ba"
      },
      "execution_count": null,
      "outputs": [
        {
          "output_type": "display_data",
          "data": {
            "text/plain": [
              "<Figure size 640x480 with 1 Axes>"
            ],
            "image/png": "[encoded data removed]"
          },
          "metadata": {}
        }
      ]
    },
    {
      "cell_type": "code",
      "source": [
        "print(model1_3.summary())"
      ],
      "metadata": {
        "id": "OJ7Sd8KZVWp_",
        "colab": {
          "base_uri": "https://localhost:8080/"
        },
        "outputId": "f18e4deb-0824-4a36-ba9d-6d40546ee1b4"
      },
      "execution_count": null,
      "outputs": [
        {
          "output_type": "stream",
          "name": "stdout",
          "text": [
            "Model: \"sequential_2\"\n",
            "_________________________________________________________________\n",
            " Layer (type)                Output Shape              Param #   \n",
            "=================================================================\n",
            " conv2d_4 (Conv2D)           (None, 32, 32, 32)        896       \n",
            "                                                                 \n",
            " max_pooling2d_4 (MaxPoolin  (None, 16, 16, 32)        0         \n",
            " g2D)                                                            \n",
            "                                                                 \n",
            " conv2d_5 (Conv2D)           (None, 16, 16, 64)        18496     \n",
            "                                                                 \n",
            " max_pooling2d_5 (MaxPoolin  (None, 8, 8, 64)          0         \n",
            " g2D)                                                            \n",
            "                                                                 \n",
            " flatten_2 (Flatten)         (None, 4096)              0         \n",
            "                                                                 \n",
            " dense_4 (Dense)             (None, 256)               1048832   \n",
            "                                                                 \n",
            " dense_5 (Dense)             (None, 10)                2570      \n",
            "                                                                 \n",
            "=================================================================\n",
            "Total params: 1070794 (4.08 MB)\n",
            "Trainable params: 1070794 (4.08 MB)\n",
            "Non-trainable params: 0 (0.00 Byte)\n",
            "_________________________________________________________________\n",
            "None\n"
          ]
        }
      ]
    },
    {
      "cell_type": "code",
      "source": [
        "model2 = keras.Sequential([\n",
        "                             Conv2D(32, (3,3), padding = 'same', activation = 'relu', input_shape = (32,32,3)),\n",
        "                             MaxPooling2D((2,2), strides = 2),\n",
        "                             Conv2D(64, (3,3), padding = 'same', activation = 'relu'),\n",
        "                             MaxPooling2D((2,2), strides = 2),\n",
        "                             Conv2D(128, (3,3), padding = 'same', activation = 'relu'),\n",
        "                             MaxPooling2D((2,2), strides = 2),\n",
        "                             Flatten(),\n",
        "                             Dense(128, activation = 'relu'),\n",
        "                             Dense(64, activation = 'relu'),\n",
        "                             Dense(10, activation = 'softmax')\n",
        "                          ])\n",
        "\n",
        "model2.compile(optimizer = 'adam', loss = 'sparse_categorical_crossentropy', metrics = ['accuracy'] )\n",
        "\n",
        "start_time = time.perf_counter()\n",
        "model2.fit(X_train, y_train, batch_size = 32, epochs = 10, validation_split=0.2)\n",
        "end_time = time.perf_counter()\n",
        "\n",
        "print(end_time - start_time)"
      ],
      "metadata": {
        "colab": {
          "base_uri": "https://localhost:8080/"
        },
        "id": "ozySG6SWgzSg",
        "outputId": "9a381de1-18e5-44ba-b83e-81260a8751df"
      },
      "execution_count": null,
      "outputs": [
        {
          "output_type": "stream",
          "name": "stdout",
          "text": [
            "Epoch 1/10\n",
            "1250/1250 [==============================] - 15s 11ms/step - loss: 1.6730 - accuracy: 0.4489 - val_loss: 1.2578 - val_accuracy: 0.5572\n",
            "Epoch 2/10\n",
            "1250/1250 [==============================] - 14s 11ms/step - loss: 1.1552 - accuracy: 0.5931 - val_loss: 1.0926 - val_accuracy: 0.6196\n",
            "Epoch 3/10\n",
            "1250/1250 [==============================] - 13s 11ms/step - loss: 1.0070 - accuracy: 0.6506 - val_loss: 1.0076 - val_accuracy: 0.6577\n",
            "Epoch 4/10\n",
            "1250/1250 [==============================] - 14s 11ms/step - loss: 0.9008 - accuracy: 0.6866 - val_loss: 1.0592 - val_accuracy: 0.6402\n",
            "Epoch 5/10\n",
            "1250/1250 [==============================] - 14s 11ms/step - loss: 0.8232 - accuracy: 0.7156 - val_loss: 0.9841 - val_accuracy: 0.6663\n",
            "Epoch 6/10\n",
            "1250/1250 [==============================] - 14s 11ms/step - loss: 0.7511 - accuracy: 0.7383 - val_loss: 0.9822 - val_accuracy: 0.6721\n",
            "Epoch 7/10\n",
            "1250/1250 [==============================] - 13s 11ms/step - loss: 0.6783 - accuracy: 0.7647 - val_loss: 0.9749 - val_accuracy: 0.6896\n",
            "Epoch 8/10\n",
            "1250/1250 [==============================] - 13s 11ms/step - loss: 0.6173 - accuracy: 0.7844 - val_loss: 0.9649 - val_accuracy: 0.7019\n",
            "Epoch 9/10\n",
            "1250/1250 [==============================] - 13s 11ms/step - loss: 0.5629 - accuracy: 0.8046 - val_loss: 1.0020 - val_accuracy: 0.6844\n",
            "Epoch 10/10\n",
            "1250/1250 [==============================] - 13s 11ms/step - loss: 0.4935 - accuracy: 0.8276 - val_loss: 1.0360 - val_accuracy: 0.6989\n",
            "137.19035748800002\n"
          ]
        }
      ]
    },
    {
      "cell_type": "code",
      "source": [
        "print(model2.summary())"
      ],
      "metadata": {
        "colab": {
          "base_uri": "https://localhost:8080/"
        },
        "id": "7wX58ecsivAf",
        "outputId": "ac0a8e9e-3839-4c41-fc72-b74afd4caff6"
      },
      "execution_count": null,
      "outputs": [
        {
          "output_type": "stream",
          "name": "stdout",
          "text": [
            "Model: \"sequential_3\"\n",
            "_________________________________________________________________\n",
            " Layer (type)                Output Shape              Param #   \n",
            "=================================================================\n",
            " conv2d_6 (Conv2D)           (None, 32, 32, 32)        896       \n",
            "                                                                 \n",
            " max_pooling2d_6 (MaxPoolin  (None, 16, 16, 32)        0         \n",
            " g2D)                                                            \n",
            "                                                                 \n",
            " conv2d_7 (Conv2D)           (None, 16, 16, 64)        18496     \n",
            "                                                                 \n",
            " max_pooling2d_7 (MaxPoolin  (None, 8, 8, 64)          0         \n",
            " g2D)                                                            \n",
            "                                                                 \n",
            " conv2d_8 (Conv2D)           (None, 8, 8, 128)         73856     \n",
            "                                                                 \n",
            " max_pooling2d_8 (MaxPoolin  (None, 4, 4, 128)         0         \n",
            " g2D)                                                            \n",
            "                                                                 \n",
            " flatten_3 (Flatten)         (None, 2048)              0         \n",
            "                                                                 \n",
            " dense_6 (Dense)             (None, 128)               262272    \n",
            "                                                                 \n",
            " dense_7 (Dense)             (None, 64)                8256      \n",
            "                                                                 \n",
            " dense_8 (Dense)             (None, 10)                650       \n",
            "                                                                 \n",
            "=================================================================\n",
            "Total params: 364426 (1.39 MB)\n",
            "Trainable params: 364426 (1.39 MB)\n",
            "Non-trainable params: 0 (0.00 Byte)\n",
            "_________________________________________________________________\n",
            "None\n"
          ]
        }
      ]
    },
    {
      "cell_type": "markdown",
      "source": [
        "4) Оцените результаты."
      ],
      "metadata": {
        "id": "kQgQKXiQg331"
      }
    },
    {
      "cell_type": "code",
      "source": [
        "model1_1.evaluate(X_test, y_test)\n",
        "model1_2.evaluate(X_test, y_test)\n",
        "model1_3.evaluate(X_test, y_test)\n",
        "\n",
        "model2.evaluate(X_test, y_test)"
      ],
      "metadata": {
        "colab": {
          "base_uri": "https://localhost:8080/"
        },
        "id": "PeHn8RnSf9Qz",
        "outputId": "92873fa3-492d-42a8-fa22-4958676718ee"
      },
      "execution_count": null,
      "outputs": [
        {
          "output_type": "stream",
          "name": "stdout",
          "text": [
            "313/313 [==============================] - 1s 3ms/step - loss: 1.4059 - accuracy: 0.6339\n",
            "313/313 [==============================] - 1s 4ms/step - loss: 1.4794 - accuracy: 0.6354\n",
            "313/313 [==============================] - 1s 4ms/step - loss: 1.9130 - accuracy: 0.6008\n",
            "313/313 [==============================] - 1s 4ms/step - loss: 1.0268 - accuracy: 0.6970\n"
          ]
        },
        {
          "output_type": "execute_result",
          "data": {
            "text/plain": [
              "[1.0268362760543823, 0.6970000267028809]"
            ]
          },
          "metadata": {},
          "execution_count": 12
        }
      ]
    }
  ]
}